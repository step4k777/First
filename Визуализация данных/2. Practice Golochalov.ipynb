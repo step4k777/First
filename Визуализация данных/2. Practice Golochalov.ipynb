{
 "cells": [
  {
   "cell_type": "code",
   "execution_count": 1,
   "metadata": {},
   "outputs": [
    {
     "data": {
      "text/html": [
       "<div>\n",
       "<style scoped>\n",
       "    .dataframe tbody tr th:only-of-type {\n",
       "        vertical-align: middle;\n",
       "    }\n",
       "\n",
       "    .dataframe tbody tr th {\n",
       "        vertical-align: top;\n",
       "    }\n",
       "\n",
       "    .dataframe thead th {\n",
       "        text-align: right;\n",
       "    }\n",
       "</style>\n",
       "<table border=\"1\" class=\"dataframe\">\n",
       "  <thead>\n",
       "    <tr style=\"text-align: right;\">\n",
       "      <th></th>\n",
       "      <th>CustomerId</th>\n",
       "      <th>Surname</th>\n",
       "      <th>CreditScore</th>\n",
       "      <th>Geography</th>\n",
       "      <th>Gender</th>\n",
       "      <th>Age</th>\n",
       "      <th>Tenure</th>\n",
       "      <th>Balance</th>\n",
       "      <th>NumOfProducts</th>\n",
       "      <th>HasCrCard</th>\n",
       "      <th>IsActiveMember</th>\n",
       "      <th>EstimatedSalary</th>\n",
       "      <th>Exited</th>\n",
       "    </tr>\n",
       "  </thead>\n",
       "  <tbody>\n",
       "    <tr>\n",
       "      <th>0</th>\n",
       "      <td>15634602</td>\n",
       "      <td>Hargrave</td>\n",
       "      <td>619</td>\n",
       "      <td>France</td>\n",
       "      <td>Female</td>\n",
       "      <td>42</td>\n",
       "      <td>2</td>\n",
       "      <td>0.00</td>\n",
       "      <td>1</td>\n",
       "      <td>1</td>\n",
       "      <td>1</td>\n",
       "      <td>101348.88</td>\n",
       "      <td>1</td>\n",
       "    </tr>\n",
       "    <tr>\n",
       "      <th>1</th>\n",
       "      <td>15647311</td>\n",
       "      <td>Hill</td>\n",
       "      <td>608</td>\n",
       "      <td>Spain</td>\n",
       "      <td>Female</td>\n",
       "      <td>41</td>\n",
       "      <td>1</td>\n",
       "      <td>83807.86</td>\n",
       "      <td>1</td>\n",
       "      <td>0</td>\n",
       "      <td>1</td>\n",
       "      <td>112542.58</td>\n",
       "      <td>0</td>\n",
       "    </tr>\n",
       "    <tr>\n",
       "      <th>2</th>\n",
       "      <td>15619304</td>\n",
       "      <td>Onio</td>\n",
       "      <td>502</td>\n",
       "      <td>France</td>\n",
       "      <td>Female</td>\n",
       "      <td>42</td>\n",
       "      <td>8</td>\n",
       "      <td>159660.80</td>\n",
       "      <td>3</td>\n",
       "      <td>1</td>\n",
       "      <td>0</td>\n",
       "      <td>113931.57</td>\n",
       "      <td>1</td>\n",
       "    </tr>\n",
       "    <tr>\n",
       "      <th>3</th>\n",
       "      <td>15701354</td>\n",
       "      <td>Boni</td>\n",
       "      <td>699</td>\n",
       "      <td>France</td>\n",
       "      <td>Female</td>\n",
       "      <td>39</td>\n",
       "      <td>1</td>\n",
       "      <td>0.00</td>\n",
       "      <td>2</td>\n",
       "      <td>0</td>\n",
       "      <td>0</td>\n",
       "      <td>93826.63</td>\n",
       "      <td>0</td>\n",
       "    </tr>\n",
       "    <tr>\n",
       "      <th>4</th>\n",
       "      <td>15737888</td>\n",
       "      <td>Mitchell</td>\n",
       "      <td>850</td>\n",
       "      <td>Spain</td>\n",
       "      <td>Female</td>\n",
       "      <td>43</td>\n",
       "      <td>2</td>\n",
       "      <td>125510.82</td>\n",
       "      <td>1</td>\n",
       "      <td>1</td>\n",
       "      <td>1</td>\n",
       "      <td>79084.10</td>\n",
       "      <td>0</td>\n",
       "    </tr>\n",
       "  </tbody>\n",
       "</table>\n",
       "</div>"
      ],
      "text/plain": [
       "   CustomerId   Surname  CreditScore Geography  Gender  Age  Tenure  \\\n",
       "0    15634602  Hargrave          619    France  Female   42       2   \n",
       "1    15647311      Hill          608     Spain  Female   41       1   \n",
       "2    15619304      Onio          502    France  Female   42       8   \n",
       "3    15701354      Boni          699    France  Female   39       1   \n",
       "4    15737888  Mitchell          850     Spain  Female   43       2   \n",
       "\n",
       "     Balance  NumOfProducts  HasCrCard  IsActiveMember  EstimatedSalary  \\\n",
       "0       0.00              1          1               1        101348.88   \n",
       "1   83807.86              1          0               1        112542.58   \n",
       "2  159660.80              3          1               0        113931.57   \n",
       "3       0.00              2          0               0         93826.63   \n",
       "4  125510.82              1          1               1         79084.10   \n",
       "\n",
       "   Exited  \n",
       "0       1  \n",
       "1       0  \n",
       "2       1  \n",
       "3       0  \n",
       "4       0  "
      ]
     },
     "execution_count": 1,
     "metadata": {},
     "output_type": "execute_result"
    }
   ],
   "source": [
    "import pandas as pd\n",
    "import plotly\n",
    "import plotly.graph_objs as go\n",
    "import plotly.express as px\n",
    "import matplotlib.pyplot as plt\n",
    "import seaborn as sns\n",
    "churn_data = pd.read_csv('data/churn.csv')\n",
    "churn_data = churn_data.drop('RowNumber', axis=1)\n",
    "churn_data.head()"
   ]
  },
  {
   "cell_type": "code",
   "execution_count": 2,
   "metadata": {},
   "outputs": [
    {
     "data": {
      "text/plain": [
       "([<matplotlib.patches.Wedge at 0x180e3c42e40>,\n",
       "  <matplotlib.patches.Wedge at 0x180e3c8d090>],\n",
       " [Text(-0.8823432229396718, 0.656864093197697, '0'),\n",
       "  Text(0.8823431237559431, -0.6568642264278096, '1')],\n",
       " [Text(-0.4812781216034573, 0.358289505380562, '79.6%'),\n",
       "  Text(0.48127806750324165, -0.35828957805153244, '20.4%')])"
      ]
     },
     "execution_count": 2,
     "metadata": {},
     "output_type": "execute_result"
    },
    {
     "data": {
      "image/png": "[encoded data removed]",
      "text/plain": [
       "<Figure size 500x500 with 1 Axes>"
      ]
     },
     "metadata": {},
     "output_type": "display_data"
    }
   ],
   "source": [
    "# 9.1\n",
    "\n",
    "# Смотрим количество строк в колонке со статусом лояльности\n",
    "customers = churn_data['Exited'].value_counts() \n",
    "fig = plt.figure(figsize=(5, 5))\n",
    "axes = fig.add_axes([0, 0, 1, 1])\n",
    "axes.pie(\n",
    "    customers,\n",
    "    labels=customers.index,\n",
    "    autopct='%.1f%%',\n",
    ")"
   ]
  },
  {
   "cell_type": "markdown",
   "metadata": {},
   "source": [
    "Вывод: количество лояльных клиентов составляет 79.6%, а ушедших 20.4%, то есть банк потерял 1/5 своих клиентов"
   ]
  },
  {
   "cell_type": "code",
   "execution_count": 3,
   "metadata": {},
   "outputs": [
    {
     "data": {
      "text/plain": [
       "([<matplotlib.patches.Wedge at 0x180e5d12350>,\n",
       "  <matplotlib.patches.Wedge at 0x180e5d12710>],\n",
       " [Text(-0.4630349047577533, 0.9977969116889361, 'True'),\n",
       "  Text(0.463034754094606, -0.9977969816052502, 'False')],\n",
       " [Text(-0.25256449350422905, 0.5442528609212378, '63.8%'),\n",
       "  Text(0.2525644113243305, -0.5442528990574091, '36.2%')])"
      ]
     },
     "execution_count": 3,
     "metadata": {},
     "output_type": "execute_result"
    },
    {
     "data": {
      "image/png": "[encoded data removed]",
      "text/plain": [
       "<Figure size 500x500 with 1 Axes>"
      ]
     },
     "metadata": {},
     "output_type": "display_data"
    }
   ],
   "source": [
    "# 9.2\n",
    "\n",
    "# Создадим маску, где баланс клиентов больше 2500 долларов\n",
    "balance_customer = churn_data['Balance'] > 2500\n",
    "# Теперь посчитаем количество тех, у кого баланс больше 2500 и меньше 2500\n",
    "balance_customer = balance_customer.value_counts()\n",
    "# Строим диаграмму\n",
    "fig = plt.figure(figsize=(5, 5))\n",
    "axes = fig.add_axes([0, 0, 1, 1])\n",
    "axes.pie(\n",
    "    balance_customer,\n",
    "    labels=balance_customer.index,\n",
    "    autopct='%.1f%%',\n",
    ")"
   ]
  },
  {
   "cell_type": "markdown",
   "metadata": {},
   "source": [
    "Вывод: количество клиентов банка, у которых баланс больше 2500 долларов составил 63.8 %, что почти в 2 раза больше, чем клиентов с балансом меньше 2500, их количество составило 36.2 %"
   ]
  },
  {
   "cell_type": "code",
   "execution_count": 4,
   "metadata": {},
   "outputs": [
    {
     "data": {
      "application/vnd.plotly.v1+json": {
       "config": {
        "plotlyServerURL": "https://plot.ly"
       },
       "data": [
        {
         "bingroup": "x",
         "hovertemplate": "Exited=1<br>Balance=%{x}<br>count=%{y}<extra></extra>",
         "legendgroup": "1",
         "marker": {
          "color": "red",
          "opacity": 0.6,
          "pattern": {
           "shape": ""
          }
         },
         "name": "1",
         "nbinsx": 30,
         "orientation": "v",
         "showlegend": true,
         "type": "histogram",
         "x": {
          "bdata": "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",
          "dtype": "f8"
         },
         "xaxis": "x",
         "yaxis": "y"
        },
        {
         "bingroup": "x",
         "hovertemplate": "Exited=0<br>Balance=%{x}<br>count=%{y}<extra></extra>",
         "legendgroup": "0",
         "marker": {
          "color": "blue",
          "opacity": 0.6,
          "pattern": {
           "shape": ""
          }
         },
         "name": "0",
         "nbinsx": 30,
         "orientation": "v",
         "showlegend": true,
         "type": "histogram",
         "x": {
          "bdata": "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",
          "dtype": "f8"
         },
         "xaxis": "x",
         "yaxis": "y"
        }
       ],
       "layout": {
        "barmode": "relative",
        "legend": {
         "title": {
          "text": "Exited"
         },
         "tracegroupgap": 0
        },
        "template": {
         "data": {
          "bar": [
           {
            "error_x": {
             "color": "#2a3f5f"
            },
            "error_y": {
             "color": "#2a3f5f"
            },
            "marker": {
             "line": {
              "color": "#E5ECF6",
              "width": 0.5
             },
             "pattern": {
              "fillmode": "overlay",
              "size": 10,
              "solidity": 0.2
             }
            },
            "type": "bar"
           }
          ],
          "barpolar": [
           {
            "marker": {
             "line": {
              "color": "#E5ECF6",
              "width": 0.5
             },
             "pattern": {
              "fillmode": "overlay",
              "size": 10,
              "solidity": 0.2
             }
            },
            "type": "barpolar"
           }
          ],
          "carpet": [
           {
            "aaxis": {
             "endlinecolor": "#2a3f5f",
             "gridcolor": "white",
             "linecolor": "white",
             "minorgridcolor": "white",
             "startlinecolor": "#2a3f5f"
            },
            "baxis": {
             "endlinecolor": "#2a3f5f",
             "gridcolor": "white",
             "linecolor": "white",
             "minorgridcolor": "white",
             "startlinecolor": "#2a3f5f"
            },
            "type": "carpet"
           }
          ],
          "choropleth": [
           {
            "colorbar": {
             "outlinewidth": 0,
             "ticks": ""
            },
            "type": "choropleth"
           }
          ],
          "contour": [
           {
            "colorbar": {
             "outlinewidth": 0,
             "ticks": ""
            },
            "colorscale": [
             [
              0,
              "#0d0887"
             ],
             [
              0.1111111111111111,
              "#46039f"
             ],
             [
              0.2222222222222222,
              "#7201a8"
             ],
             [
              0.3333333333333333,
              "#9c179e"
             ],
             [
              0.4444444444444444,
              "#bd3786"
             ],
             [
              0.5555555555555556,
              "#d8576b"
             ],
             [
              0.6666666666666666,
              "#ed7953"
             ],
             [
              0.7777777777777778,
              "#fb9f3a"
             ],
             [
              0.8888888888888888,
              "#fdca26"
             ],
             [
              1,
              "#f0f921"
             ]
            ],
            "type": "contour"
           }
          ],
          "contourcarpet": [
           {
            "colorbar": {
             "outlinewidth": 0,
             "ticks": ""
            },
            "type": "contourcarpet"
           }
          ],
          "heatmap": [
           {
            "colorbar": {
             "outlinewidth": 0,
             "ticks": ""
            },
            "colorscale": [
             [
              0,
              "#0d0887"
             ],
             [
              0.1111111111111111,
              "#46039f"
             ],
             [
              0.2222222222222222,
              "#7201a8"
             ],
             [
              0.3333333333333333,
              "#9c179e"
             ],
             [
              0.4444444444444444,
              "#bd3786"
             ],
             [
              0.5555555555555556,
              "#d8576b"
             ],
             [
              0.6666666666666666,
              "#ed7953"
             ],
             [
              0.7777777777777778,
              "#fb9f3a"
             ],
             [
              0.8888888888888888,
              "#fdca26"
             ],
             [
              1,
              "#f0f921"
             ]
            ],
            "type": "heatmap"
           }
          ],
          "histogram": [
           {
            "marker": {
             "pattern": {
              "fillmode": "overlay",
              "size": 10,
              "solidity": 0.2
             }
            },
            "type": "histogram"
           }
          ],
          "histogram2d": [
           {
            "colorbar": {
             "outlinewidth": 0,
             "ticks": ""
            },
            "colorscale": [
             [
              0,
              "#0d0887"
             ],
             [
              0.1111111111111111,
              "#46039f"
             ],
             [
              0.2222222222222222,
              "#7201a8"
             ],
             [
              0.3333333333333333,
              "#9c179e"
             ],
             [
              0.4444444444444444,
              "#bd3786"
             ],
             [
              0.5555555555555556,
              "#d8576b"
             ],
             [
              0.6666666666666666,
              "#ed7953"
             ],
             [
              0.7777777777777778,
              "#fb9f3a"
             ],
             [
              0.8888888888888888,
              "#fdca26"
             ],
             [
              1,
              "#f0f921"
             ]
            ],
            "type": "histogram2d"
           }
          ],
          "histogram2dcontour": [
           {
            "colorbar": {
             "outlinewidth": 0,
             "ticks": ""
            },
            "colorscale": [
             [
              0,
              "#0d0887"
             ],
             [
              0.1111111111111111,
              "#46039f"
             ],
             [
              0.2222222222222222,
              "#7201a8"
             ],
             [
              0.3333333333333333,
              "#9c179e"
             ],
             [
              0.4444444444444444,
              "#bd3786"
             ],
             [
              0.5555555555555556,
              "#d8576b"
             ],
             [
              0.6666666666666666,
              "#ed7953"
             ],
             [
              0.7777777777777778,
              "#fb9f3a"
             ],
             [
              0.8888888888888888,
              "#fdca26"
             ],
             [
              1,
              "#f0f921"
             ]
            ],
            "type": "histogram2dcontour"
           }
          ],
          "mesh3d": [
           {
            "colorbar": {
             "outlinewidth": 0,
             "ticks": ""
            },
            "type": "mesh3d"
           }
          ],
          "parcoords": [
           {
            "line": {
             "colorbar": {
              "outlinewidth": 0,
              "ticks": ""
             }
            },
            "type": "parcoords"
           }
          ],
          "pie": [
           {
            "automargin": true,
            "type": "pie"
           }
          ],
          "scatter": [
           {
            "fillpattern": {
             "fillmode": "overlay",
             "size": 10,
             "solidity": 0.2
            },
            "type": "scatter"
           }
          ],
          "scatter3d": [
           {
            "line": {
             "colorbar": {
              "outlinewidth": 0,
              "ticks": ""
             }
            },
            "marker": {
             "colorbar": {
              "outlinewidth": 0,
              "ticks": ""
             }
            },
            "type": "scatter3d"
           }
          ],
          "scattercarpet": [
           {
            "marker": {
             "colorbar": {
              "outlinewidth": 0,
              "ticks": ""
             }
            },
            "type": "scattercarpet"
           }
          ],
          "scattergeo": [
           {
            "marker": {
             "colorbar": {
              "outlinewidth": 0,
              "ticks": ""
             }
            },
            "type": "scattergeo"
           }
          ],
          "scattergl": [
           {
            "marker": {
             "colorbar": {
              "outlinewidth": 0,
              "ticks": ""
             }
            },
            "type": "scattergl"
           }
          ],
          "scattermap": [
           {
            "marker": {
             "colorbar": {
              "outlinewidth": 0,
              "ticks": ""
             }
            },
            "type": "scattermap"
           }
          ],
          "scattermapbox": [
           {
            "marker": {
             "colorbar": {
              "outlinewidth": 0,
              "ticks": ""
             }
            },
            "type": "scattermapbox"
           }
          ],
          "scatterpolar": [
           {
            "marker": {
             "colorbar": {
              "outlinewidth": 0,
              "ticks": ""
             }
            },
            "type": "scatterpolar"
           }
          ],
          "scatterpolargl": [
           {
            "marker": {
             "colorbar": {
              "outlinewidth": 0,
              "ticks": ""
             }
            },
            "type": "scatterpolargl"
           }
          ],
          "scatterternary": [
           {
            "marker": {
             "colorbar": {
              "outlinewidth": 0,
              "ticks": ""
             }
            },
            "type": "scatterternary"
           }
          ],
          "surface": [
           {
            "colorbar": {
             "outlinewidth": 0,
             "ticks": ""
            },
            "colorscale": [
             [
              0,
              "#0d0887"
             ],
             [
              0.1111111111111111,
              "#46039f"
             ],
             [
              0.2222222222222222,
              "#7201a8"
             ],
             [
              0.3333333333333333,
              "#9c179e"
             ],
             [
              0.4444444444444444,
              "#bd3786"
             ],
             [
              0.5555555555555556,
              "#d8576b"
             ],
             [
              0.6666666666666666,
              "#ed7953"
             ],
             [
              0.7777777777777778,
              "#fb9f3a"
             ],
             [
              0.8888888888888888,
              "#fdca26"
             ],
             [
              1,
              "#f0f921"
             ]
            ],
            "type": "surface"
           }
          ],
          "table": [
           {
            "cells": {
             "fill": {
              "color": "#EBF0F8"
             },
             "line": {
              "color": "white"
             }
            },
            "header": {
             "fill": {
              "color": "#C8D4E3"
             },
             "line": {
              "color": "white"
             }
            },
            "type": "table"
           }
          ]
         },
         "layout": {
          "annotationdefaults": {
           "arrowcolor": "#2a3f5f",
           "arrowhead": 0,
           "arrowwidth": 1
          },
          "autotypenumbers": "strict",
          "coloraxis": {
           "colorbar": {
            "outlinewidth": 0,
            "ticks": ""
           }
          },
          "colorscale": {
           "diverging": [
            [
             0,
             "#8e0152"
            ],
            [
             0.1,
             "#c51b7d"
            ],
            [
             0.2,
             "#de77ae"
            ],
            [
             0.3,
             "#f1b6da"
            ],
            [
             0.4,
             "#fde0ef"
            ],
            [
             0.5,
             "#f7f7f7"
            ],
            [
             0.6,
             "#e6f5d0"
            ],
            [
             0.7,
             "#b8e186"
            ],
            [
             0.8,
             "#7fbc41"
            ],
            [
             0.9,
             "#4d9221"
            ],
            [
             1,
             "#276419"
            ]
           ],
           "sequential": [
            [
             0,
             "#0d0887"
            ],
            [
             0.1111111111111111,
             "#46039f"
            ],
            [
             0.2222222222222222,
             "#7201a8"
            ],
            [
             0.3333333333333333,
             "#9c179e"
            ],
            [
             0.4444444444444444,
             "#bd3786"
            ],
            [
             0.5555555555555556,
             "#d8576b"
            ],
            [
             0.6666666666666666,
             "#ed7953"
            ],
            [
             0.7777777777777778,
             "#fb9f3a"
            ],
            [
             0.8888888888888888,
             "#fdca26"
            ],
            [
             1,
             "#f0f921"
            ]
           ],
           "sequentialminus": [
            [
             0,
             "#0d0887"
            ],
            [
             0.1111111111111111,
             "#46039f"
            ],
            [
             0.2222222222222222,
             "#7201a8"
            ],
            [
             0.3333333333333333,
             "#9c179e"
            ],
            [
             0.4444444444444444,
             "#bd3786"
            ],
            [
             0.5555555555555556,
             "#d8576b"
            ],
            [
             0.6666666666666666,
             "#ed7953"
            ],
            [
             0.7777777777777778,
             "#fb9f3a"
            ],
            [
             0.8888888888888888,
             "#fdca26"
            ],
            [
             1,
             "#f0f921"
            ]
           ]
          },
          "colorway": [
           "#636efa",
           "#EF553B",
           "#00cc96",
           "#ab63fa",
           "#FFA15A",
           "#19d3f3",
           "#FF6692",
           "#B6E880",
           "#FF97FF",
           "#FECB52"
          ],
          "font": {
           "color": "#2a3f5f"
          },
          "geo": {
           "bgcolor": "white",
           "lakecolor": "white",
           "landcolor": "#E5ECF6",
           "showlakes": true,
           "showland": true,
           "subunitcolor": "white"
          },
          "hoverlabel": {
           "align": "left"
          },
          "hovermode": "closest",
          "mapbox": {
           "style": "light"
          },
          "paper_bgcolor": "white",
          "plot_bgcolor": "#E5ECF6",
          "polar": {
           "angularaxis": {
            "gridcolor": "white",
            "linecolor": "white",
            "ticks": ""
           },
           "bgcolor": "#E5ECF6",
           "radialaxis": {
            "gridcolor": "white",
            "linecolor": "white",
            "ticks": ""
           }
          },
          "scene": {
           "xaxis": {
            "backgroundcolor": "#E5ECF6",
            "gridcolor": "white",
            "gridwidth": 2,
            "linecolor": "white",
            "showbackground": true,
            "ticks": "",
            "zerolinecolor": "white"
           },
           "yaxis": {
            "backgroundcolor": "#E5ECF6",
            "gridcolor": "white",
            "gridwidth": 2,
            "linecolor": "white",
            "showbackground": true,
            "ticks": "",
            "zerolinecolor": "white"
           },
           "zaxis": {
            "backgroundcolor": "#E5ECF6",
            "gridcolor": "white",
            "gridwidth": 2,
            "linecolor": "white",
            "showbackground": true,
            "ticks": "",
            "zerolinecolor": "white"
           }
          },
          "shapedefaults": {
           "line": {
            "color": "#2a3f5f"
           }
          },
          "ternary": {
           "aaxis": {
            "gridcolor": "white",
            "linecolor": "white",
            "ticks": ""
           },
           "baxis": {
            "gridcolor": "white",
            "linecolor": "white",
            "ticks": ""
           },
           "bgcolor": "#E5ECF6",
           "caxis": {
            "gridcolor": "white",
            "linecolor": "white",
            "ticks": ""
           }
          },
          "title": {
           "x": 0.05
          },
          "xaxis": {
           "automargin": true,
           "gridcolor": "white",
           "linecolor": "white",
           "ticks": "",
           "title": {
            "standoff": 15
           },
           "zerolinecolor": "white",
           "zerolinewidth": 2
          },
          "yaxis": {
           "automargin": true,
           "gridcolor": "white",
           "linecolor": "white",
           "ticks": "",
           "title": {
            "standoff": 15
           },
           "zerolinecolor": "white",
           "zerolinewidth": 2
          }
         }
        },
        "title": {
         "text": "Распределение баланса клиентов по оттоку"
        },
        "xaxis": {
         "anchor": "y",
         "domain": [
          0,
          1
         ],
         "title": {
          "text": "Баланс"
         }
        },
        "yaxis": {
         "anchor": "x",
         "domain": [
          0,
          1
         ],
         "title": {
          "text": "Количество клиентов"
         }
        }
       }
      }
     },
     "metadata": {},
     "output_type": "display_data"
    }
   ],
   "source": [
    "# 9.3\n",
    "\n",
    "fig = px.histogram(churn_data,\n",
    "    x='Balance',\n",
    "    nbins=30,\n",
    "    title='Распределение баланса клиентов по оттоку',\n",
    "    color=\"Exited\",\n",
    "    color_discrete_sequence=['red', 'blue'],\n",
    "    opacity=0.6)\n",
    "fig.update_xaxes(title_text='Баланс')\n",
    "fig.update_yaxes(title_text='Количество клиентов')\n",
    "fig.show()"
   ]
  },
  {
   "cell_type": "markdown",
   "metadata": {},
   "source": [
    "Вывод: большинство ушедших клиентов банка с 0 балансом, возможно их не устроили условия банка, клиенты снимали деньги и закрывали карты"
   ]
  },
  {
   "cell_type": "code",
   "execution_count": 5,
   "metadata": {},
   "outputs": [
    {
     "data": {
      "application/vnd.plotly.v1+json": {
       "config": {
        "plotlyServerURL": "https://plot.ly"
       },
       "data": [
        {
         "bingroup": "x",
         "hovertemplate": "Exited=1<br>Age=%{x}<br>count=%{y}<extra></extra>",
         "legendgroup": "1",
         "marker": {
          "color": "red",
          "opacity": 0.6,
          "pattern": {
           "shape": ""
          }
         },
         "name": "1",
         "nbinsx": 30,
         "orientation": "v",
         "showlegend": true,
         "type": "histogram",
         "x": {
          "bdata": "KiosHTomJy0zMRsnKSpCOiAWLixBLiMcHyo0ODAjNB8wOR0YJyw3MikyJiktLys2IS0nMiorLkMoNiciPi4jIiwrMjEoLh4dJycoIi0tJy4mQjEpPTwoKDklLyYrICYlLj0nLyY6PDM4MCMwOz4cMzEvMykuNi0xITMzNS8mOSseHz49Nh8wJyciMC0qLTM+OSgZOCo5KzwxIyQrPD8kMTocOi4cKkUwMikwMUArIDAsLTwrLTMjKCg6LS4nPTMkNC4nJjAqPysrIyIxKjQtKCUtMScqMCgvJiQ0OSgvJCokKR0nIjQ7FT4vOCEjIyUrLTojKSgoMSsyKD0cLjMqITYXLC4sKC4bNyElLiggNC4mNiUrMj4oKyspKDYwNCssMi4pKS4oNyYhLiYpLEkqOzgnKzguHyMiNyk0MS0uMx4rMjIvMEA0LzAoJR81KjEsKzAqMTQmHC45NjIfODYoLhgqLBQjMiM2OyIqNCcmJCQjJRksMzE5LRYtIDgnJCUkLx0sJzctHTAoOCMkJDYaHxYlNTo3NjQoISMvNi48MT4gKy4nOyUYLy0xPyYjHyosKD83JDQmKzcwNhs2ICs5MxI5OTckQTguJTsvOi8uKSMmOCkeHyomOislOCY5QTsyMC0oLy43MjAhKTEuNyo6Iy0qLSc2KykiHDQlKzQoMSkWJzQ9Ki4zLz8pNSQ5JSkfOCUyKDI9NC0oOi4tPSkyMiRHHiYvMzYeJi8YOi0xMCoqKDMsKD4cLB40QCsmJxwuKjgsMCkWMDkfLSYzPT0rKC4sNDUzJjQwLSYwNS0kNDQlNBogNDg5Jic2IScUHykmLSctOC0aLy0tIS8tLR8sKywsKDYrOxweL0ooKDMnITgwPBgwHCcoKSU+MDEjOCM8Ny0xLjIqPCMpQi82Mi05OisyITArNjsrHzkrJxwsPzVHMiY4HC0hIigvKyU6KCUpNx8uKCsvLiA5ISQrKh4eIR0/LikrKlQlKisxIz0oJDxALCIzMi4nKzg5Mi84LjwdLiU0MDdGLyUrKh8sKDQ8ISgxIi4+Mx0bMy4dICUjJiU9LiwaKRs2OjMzHS45MTIoOjwmJS0hODsoRjUyOzQtKUIgLyYxJRsxKC4sIDs8NTs5My4wODAqNB84LScyJR0wNyg2GjQwLD8sNS0rNDsvOTojLzcvNSMTLSgzLzIaKDgjLio+NS4iRCw4HyM0KSwrH0AmHjYuKRgtMDIjLSU7KC0iLispKiZAGDIxJCBGITU4Ji8tLTMgLiwnJSolOjsuIz5ANCRBLjczKjEvLjEtLDw5Mx82Mi0wNS0wODYjKiY1NigtMzElQDsnHyg1NSk0IDQjNSw4GxY2MissMSkzIDswJTwzJCEaKBglKy8pKDcmFy8+NCsrOS4xLygzNUQsJSYiPS4tKTErKic3LTozPDE2JjczLx8dGx8nHhY3ORglJi4xKUQoJSw/MCwiKC8fHDU4LDMzMSotKzsuNzkiNyApOSMvKjM+NCkhJDA2JiwsMDgsKyssLS0nLywtJDAoMEErICsjJiIkOCMmQSUyIzI0KywYJCojPyk0RzwqHj0vLikxLSMxJi0WPSUsJygqNyotMiM8LzMkPhsxIDMxLSguOB41ISg3ITYdLS4vLDA1Ky4pFik1LDkdJzAqMSYjNSUeLTAjITIsLzgnLyUqNCYtGy80IDIaLCw8My8pGikrJTAlLzYdKC0uMC8oIjclLDAxLis0NjchPzI0MTQpQzkcOzcyKi0wNEAuISUjKCwwNzEeNSsnJS8tISAfIikxJywyMDgqLjIxMiMiLScyMzAsLzYmLjdHKBYxJDMyKSofODklMS0nQi46KTIkMjclOTMqNSchMDAmNzImKyw/MjgnGDE0JSk0LTAeMDkjJzA4MTBCNjAkMCchKjc0JywdJy8bLEEZMjYzNTA1LicrRzYzODY1KSYmMyoxHzAxQj83Li03OxwqHi8ZNyk2HxgvPi0sKDk3IC86PCI7LCE1KSQ2OyAnKjgiNio2FTEkJCYZJy04LygjOCYhMCUyOS0kIyErJTI4LDgcRyAgLCxAOikzKiweMSQmNCQsIDQiKCo8LRw8RC87HjUsMicfIT0tLyc8HR0uPjwsIyo6KR4zIyYqNyIsMTJDKzQ2Nys/MhczLjgwLiRELy0tKSYtJEM2PTg2HiQqKic0ODMxMhUcOSkzFx8nJjIlFx84LyEnLjEwMzokJyQ0RCszPCsiHzUhJyMhJxkqMD0sMickLyA9Kjs5Ky8yMiQoNTMyOjohKiUhMSscJCcxICgWOS0iJR03JyU3NTAgPDAdLTokFjQsGigvKSswMS4pHDEoMzoqPChGMC4qKigyNh4jKx4vGD8tKCdBLSkXNSs7KygdLi8wKywjOEMjKjEoMjcjJTMrKi8xLDQlPzw9PiciKR0mNDwkKzEnLiEyKzsmKi4vMSYlMTMoMCQ0NzcaKzYwLyo2Mho0Kig7LzMxKTIvGy83LiFAIDwoNC8kJiI0KCIzJysoMTskLj8jKx0aMzQ0JCclMDwlMTEoKSY2HRoyMzEqPTIjPi8qLisoKzAvOSsuJCg1NT8bNhwpHTQtKTUoITArMC4oLSodLh1IIi4pJiUpEjQpNzshLygsMSgyRyghIjMzJz4vJC0rICUuRRgzKzYxMCcjLiMnMxwwQC4nKyAoNyshPjIwOCYpNzUxMisiLiEsMiouNSQq",
          "dtype": "i1"
         },
         "xaxis": "x",
         "yaxis": "y"
        },
        {
         "bingroup": "x",
         "hovertemplate": "Exited=0<br>Age=%{x}<br>count=%{y}<extra></extra>",
         "legendgroup": "0",
         "marker": {
          "color": "blue",
          "opacity": 0.6,
          "pattern": {
           "shape": ""
          }
         },
         "name": "0",
         "nbinsx": 30,
         "orientation": "v",
         "showlegend": true,
         "type": "histogram",
         "x": {
          "bdata": "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",
          "dtype": "i1"
         },
         "xaxis": "x",
         "yaxis": "y"
        }
       ],
       "layout": {
        "barmode": "relative",
        "legend": {
         "title": {
          "text": "Exited"
         },
         "tracegroupgap": 0
        },
        "template": {
         "data": {
          "bar": [
           {
            "error_x": {
             "color": "#2a3f5f"
            },
            "error_y": {
             "color": "#2a3f5f"
            },
            "marker": {
             "line": {
              "color": "#E5ECF6",
              "width": 0.5
             },
             "pattern": {
              "fillmode": "overlay",
              "size": 10,
              "solidity": 0.2
             }
            },
            "type": "bar"
           }
          ],
          "barpolar": [
           {
            "marker": {
             "line": {
              "color": "#E5ECF6",
              "width": 0.5
             },
             "pattern": {
              "fillmode": "overlay",
              "size": 10,
              "solidity": 0.2
             }
            },
            "type": "barpolar"
           }
          ],
          "carpet": [
           {
            "aaxis": {
             "endlinecolor": "#2a3f5f",
             "gridcolor": "white",
             "linecolor": "white",
             "minorgridcolor": "white",
             "startlinecolor": "#2a3f5f"
            },
            "baxis": {
             "endlinecolor": "#2a3f5f",
             "gridcolor": "white",
             "linecolor": "white",
             "minorgridcolor": "white",
             "startlinecolor": "#2a3f5f"
            },
            "type": "carpet"
           }
          ],
          "choropleth": [
           {
            "colorbar": {
             "outlinewidth": 0,
             "ticks": ""
            },
            "type": "choropleth"
           }
          ],
          "contour": [
           {
            "colorbar": {
             "outlinewidth": 0,
             "ticks": ""
            },
            "colorscale": [
             [
              0,
              "#0d0887"
             ],
             [
              0.1111111111111111,
              "#46039f"
             ],
             [
              0.2222222222222222,
              "#7201a8"
             ],
             [
              0.3333333333333333,
              "#9c179e"
             ],
             [
              0.4444444444444444,
              "#bd3786"
             ],
             [
              0.5555555555555556,
              "#d8576b"
             ],
             [
              0.6666666666666666,
              "#ed7953"
             ],
             [
              0.7777777777777778,
              "#fb9f3a"
             ],
             [
              0.8888888888888888,
              "#fdca26"
             ],
             [
              1,
              "#f0f921"
             ]
            ],
            "type": "contour"
           }
          ],
          "contourcarpet": [
           {
            "colorbar": {
             "outlinewidth": 0,
             "ticks": ""
            },
            "type": "contourcarpet"
           }
          ],
          "heatmap": [
           {
            "colorbar": {
             "outlinewidth": 0,
             "ticks": ""
            },
            "colorscale": [
             [
              0,
              "#0d0887"
             ],
             [
              0.1111111111111111,
              "#46039f"
             ],
             [
              0.2222222222222222,
              "#7201a8"
             ],
             [
              0.3333333333333333,
              "#9c179e"
             ],
             [
              0.4444444444444444,
              "#bd3786"
             ],
             [
              0.5555555555555556,
              "#d8576b"
             ],
             [
              0.6666666666666666,
              "#ed7953"
             ],
             [
              0.7777777777777778,
              "#fb9f3a"
             ],
             [
              0.8888888888888888,
              "#fdca26"
             ],
             [
              1,
              "#f0f921"
             ]
            ],
            "type": "heatmap"
           }
          ],
          "histogram": [
           {
            "marker": {
             "pattern": {
              "fillmode": "overlay",
              "size": 10,
              "solidity": 0.2
             }
            },
            "type": "histogram"
           }
          ],
          "histogram2d": [
           {
            "colorbar": {
             "outlinewidth": 0,
             "ticks": ""
            },
            "colorscale": [
             [
              0,
              "#0d0887"
             ],
             [
              0.1111111111111111,
              "#46039f"
             ],
             [
              0.2222222222222222,
              "#7201a8"
             ],
             [
              0.3333333333333333,
              "#9c179e"
             ],
             [
              0.4444444444444444,
              "#bd3786"
             ],
             [
              0.5555555555555556,
              "#d8576b"
             ],
             [
              0.6666666666666666,
              "#ed7953"
             ],
             [
              0.7777777777777778,
              "#fb9f3a"
             ],
             [
              0.8888888888888888,
              "#fdca26"
             ],
             [
              1,
              "#f0f921"
             ]
            ],
            "type": "histogram2d"
           }
          ],
          "histogram2dcontour": [
           {
            "colorbar": {
             "outlinewidth": 0,
             "ticks": ""
            },
            "colorscale": [
             [
              0,
              "#0d0887"
             ],
             [
              0.1111111111111111,
              "#46039f"
             ],
             [
              0.2222222222222222,
              "#7201a8"
             ],
             [
              0.3333333333333333,
              "#9c179e"
             ],
             [
              0.4444444444444444,
              "#bd3786"
             ],
             [
              0.5555555555555556,
              "#d8576b"
             ],
             [
              0.6666666666666666,
              "#ed7953"
             ],
             [
              0.7777777777777778,
              "#fb9f3a"
             ],
             [
              0.8888888888888888,
              "#fdca26"
             ],
             [
              1,
              "#f0f921"
             ]
            ],
            "type": "histogram2dcontour"
           }
          ],
          "mesh3d": [
           {
            "colorbar": {
             "outlinewidth": 0,
             "ticks": ""
            },
            "type": "mesh3d"
           }
          ],
          "parcoords": [
           {
            "line": {
             "colorbar": {
              "outlinewidth": 0,
              "ticks": ""
             }
            },
            "type": "parcoords"
           }
          ],
          "pie": [
           {
            "automargin": true,
            "type": "pie"
           }
          ],
          "scatter": [
           {
            "fillpattern": {
             "fillmode": "overlay",
             "size": 10,
             "solidity": 0.2
            },
            "type": "scatter"
           }
          ],
          "scatter3d": [
           {
            "line": {
             "colorbar": {
              "outlinewidth": 0,
              "ticks": ""
             }
            },
            "marker": {
             "colorbar": {
              "outlinewidth": 0,
              "ticks": ""
             }
            },
            "type": "scatter3d"
           }
          ],
          "scattercarpet": [
           {
            "marker": {
             "colorbar": {
              "outlinewidth": 0,
              "ticks": ""
             }
            },
            "type": "scattercarpet"
           }
          ],
          "scattergeo": [
           {
            "marker": {
             "colorbar": {
              "outlinewidth": 0,
              "ticks": ""
             }
            },
            "type": "scattergeo"
           }
          ],
          "scattergl": [
           {
            "marker": {
             "colorbar": {
              "outlinewidth": 0,
              "ticks": ""
             }
            },
            "type": "scattergl"
           }
          ],
          "scattermap": [
           {
            "marker": {
             "colorbar": {
              "outlinewidth": 0,
              "ticks": ""
             }
            },
            "type": "scattermap"
           }
          ],
          "scattermapbox": [
           {
            "marker": {
             "colorbar": {
              "outlinewidth": 0,
              "ticks": ""
             }
            },
            "type": "scattermapbox"
           }
          ],
          "scatterpolar": [
           {
            "marker": {
             "colorbar": {
              "outlinewidth": 0,
              "ticks": ""
             }
            },
            "type": "scatterpolar"
           }
          ],
          "scatterpolargl": [
           {
            "marker": {
             "colorbar": {
              "outlinewidth": 0,
              "ticks": ""
             }
            },
            "type": "scatterpolargl"
           }
          ],
          "scatterternary": [
           {
            "marker": {
             "colorbar": {
              "outlinewidth": 0,
              "ticks": ""
             }
            },
            "type": "scatterternary"
           }
          ],
          "surface": [
           {
            "colorbar": {
             "outlinewidth": 0,
             "ticks": ""
            },
            "colorscale": [
             [
              0,
              "#0d0887"
             ],
             [
              0.1111111111111111,
              "#46039f"
             ],
             [
              0.2222222222222222,
              "#7201a8"
             ],
             [
              0.3333333333333333,
              "#9c179e"
             ],
             [
              0.4444444444444444,
              "#bd3786"
             ],
             [
              0.5555555555555556,
              "#d8576b"
             ],
             [
              0.6666666666666666,
              "#ed7953"
             ],
             [
              0.7777777777777778,
              "#fb9f3a"
             ],
             [
              0.8888888888888888,
              "#fdca26"
             ],
             [
              1,
              "#f0f921"
             ]
            ],
            "type": "surface"
           }
          ],
          "table": [
           {
            "cells": {
             "fill": {
              "color": "#EBF0F8"
             },
             "line": {
              "color": "white"
             }
            },
            "header": {
             "fill": {
              "color": "#C8D4E3"
             },
             "line": {
              "color": "white"
             }
            },
            "type": "table"
           }
          ]
         },
         "layout": {
          "annotationdefaults": {
           "arrowcolor": "#2a3f5f",
           "arrowhead": 0,
           "arrowwidth": 1
          },
          "autotypenumbers": "strict",
          "coloraxis": {
           "colorbar": {
            "outlinewidth": 0,
            "ticks": ""
           }
          },
          "colorscale": {
           "diverging": [
            [
             0,
             "#8e0152"
            ],
            [
             0.1,
             "#c51b7d"
            ],
            [
             0.2,
             "#de77ae"
            ],
            [
             0.3,
             "#f1b6da"
            ],
            [
             0.4,
             "#fde0ef"
            ],
            [
             0.5,
             "#f7f7f7"
            ],
            [
             0.6,
             "#e6f5d0"
            ],
            [
             0.7,
             "#b8e186"
            ],
            [
             0.8,
             "#7fbc41"
            ],
            [
             0.9,
             "#4d9221"
            ],
            [
             1,
             "#276419"
            ]
           ],
           "sequential": [
            [
             0,
             "#0d0887"
            ],
            [
             0.1111111111111111,
             "#46039f"
            ],
            [
             0.2222222222222222,
             "#7201a8"
            ],
            [
             0.3333333333333333,
             "#9c179e"
            ],
            [
             0.4444444444444444,
             "#bd3786"
            ],
            [
             0.5555555555555556,
             "#d8576b"
            ],
            [
             0.6666666666666666,
             "#ed7953"
            ],
            [
             0.7777777777777778,
             "#fb9f3a"
            ],
            [
             0.8888888888888888,
             "#fdca26"
            ],
            [
             1,
             "#f0f921"
            ]
           ],
           "sequentialminus": [
            [
             0,
             "#0d0887"
            ],
            [
             0.1111111111111111,
             "#46039f"
            ],
            [
             0.2222222222222222,
             "#7201a8"
            ],
            [
             0.3333333333333333,
             "#9c179e"
            ],
            [
             0.4444444444444444,
             "#bd3786"
            ],
            [
             0.5555555555555556,
             "#d8576b"
            ],
            [
             0.6666666666666666,
             "#ed7953"
            ],
            [
             0.7777777777777778,
             "#fb9f3a"
            ],
            [
             0.8888888888888888,
             "#fdca26"
            ],
            [
             1,
             "#f0f921"
            ]
           ]
          },
          "colorway": [
           "#636efa",
           "#EF553B",
           "#00cc96",
           "#ab63fa",
           "#FFA15A",
           "#19d3f3",
           "#FF6692",
           "#B6E880",
           "#FF97FF",
           "#FECB52"
          ],
          "font": {
           "color": "#2a3f5f"
          },
          "geo": {
           "bgcolor": "white",
           "lakecolor": "white",
           "landcolor": "#E5ECF6",
           "showlakes": true,
           "showland": true,
           "subunitcolor": "white"
          },
          "hoverlabel": {
           "align": "left"
          },
          "hovermode": "closest",
          "mapbox": {
           "style": "light"
          },
          "paper_bgcolor": "white",
          "plot_bgcolor": "#E5ECF6",
          "polar": {
           "angularaxis": {
            "gridcolor": "white",
            "linecolor": "white",
            "ticks": ""
           },
           "bgcolor": "#E5ECF6",
           "radialaxis": {
            "gridcolor": "white",
            "linecolor": "white",
            "ticks": ""
           }
          },
          "scene": {
           "xaxis": {
            "backgroundcolor": "#E5ECF6",
            "gridcolor": "white",
            "gridwidth": 2,
            "linecolor": "white",
            "showbackground": true,
            "ticks": "",
            "zerolinecolor": "white"
           },
           "yaxis": {
            "backgroundcolor": "#E5ECF6",
            "gridcolor": "white",
            "gridwidth": 2,
            "linecolor": "white",
            "showbackground": true,
            "ticks": "",
            "zerolinecolor": "white"
           },
           "zaxis": {
            "backgroundcolor": "#E5ECF6",
            "gridcolor": "white",
            "gridwidth": 2,
            "linecolor": "white",
            "showbackground": true,
            "ticks": "",
            "zerolinecolor": "white"
           }
          },
          "shapedefaults": {
           "line": {
            "color": "#2a3f5f"
           }
          },
          "ternary": {
           "aaxis": {
            "gridcolor": "white",
            "linecolor": "white",
            "ticks": ""
           },
           "baxis": {
            "gridcolor": "white",
            "linecolor": "white",
            "ticks": ""
           },
           "bgcolor": "#E5ECF6",
           "caxis": {
            "gridcolor": "white",
            "linecolor": "white",
            "ticks": ""
           }
          },
          "title": {
           "x": 0.05
          },
          "xaxis": {
           "automargin": true,
           "gridcolor": "white",
           "linecolor": "white",
           "ticks": "",
           "title": {
            "standoff": 15
           },
           "zerolinecolor": "white",
           "zerolinewidth": 2
          },
          "yaxis": {
           "automargin": true,
           "gridcolor": "white",
           "linecolor": "white",
           "ticks": "",
           "title": {
            "standoff": 15
           },
           "zerolinecolor": "white",
           "zerolinewidth": 2
          }
         }
        },
        "title": {
         "text": "Распределение возраста клиентов по оттоку"
        },
        "xaxis": {
         "anchor": "y",
         "domain": [
          0,
          1
         ],
         "title": {
          "text": "Возраст клиентов"
         }
        },
        "yaxis": {
         "anchor": "x",
         "domain": [
          0,
          1
         ],
         "title": {
          "text": "Количество клиентов"
         }
        }
       }
      }
     },
     "metadata": {},
     "output_type": "display_data"
    }
   ],
   "source": [
    "# 9.4\n",
    "\n",
    "fig = px.histogram(churn_data,\n",
    "    x='Age',\n",
    "    nbins=30,\n",
    "    title='Распределение возраста клиентов по оттоку',\n",
    "    color=\"Exited\",\n",
    "    color_discrete_sequence=['red', 'blue'],\n",
    "    opacity=0.6)\n",
    "fig.update_xaxes(title_text='Возраст клиентов')\n",
    "fig.update_yaxes(title_text='Количество клиентов')\n",
    "fig.show()"
   ]
  },
  {
   "cell_type": "markdown",
   "metadata": {},
   "source": [
    "Максимальное количество ушедших клиентов наблюдается у возрастной группы 40-44 года и 45-49 лет,на эти возрастные группы стоит обратить внимание банку"
   ]
  },
  {
   "cell_type": "code",
   "execution_count": 6,
   "metadata": {},
   "outputs": [
    {
     "data": {
      "image/png": "[encoded data removed]",
      "text/plain": [
       "<Figure size 640x480 with 1 Axes>"
      ]
     },
     "metadata": {},
     "output_type": "display_data"
    }
   ],
   "source": [
    "# 9.5\n",
    "\n",
    "joinplot = sns.scatterplot(\n",
    "    data=churn_data,\n",
    "    x='EstimatedSalary',\n",
    "    y='CreditScore',\n",
    "    hue='Exited'\n",
    ")"
   ]
  },
  {
   "cell_type": "markdown",
   "metadata": {},
   "source": [
    "Не могу определить взаимосвязь :с"
   ]
  },
  {
   "cell_type": "code",
   "execution_count": 8,
   "metadata": {},
   "outputs": [
    {
     "data": {
      "application/vnd.plotly.v1+json": {
       "config": {
        "plotlyServerURL": "https://plot.ly"
       },
       "data": [
        {
         "bingroup": "x",
         "hovertemplate": "Exited=1<br>Gender=%{x}<br>count=%{y}<extra></extra>",
         "legendgroup": "1",
         "marker": {
          "color": "red",
          "opacity": 0.6,
          "pattern": {
           "shape": ""
          }
         },
         "name": "1",
         "nbinsx": 30,
         "orientation": "v",
         "showlegend": true,
         "type": "histogram",
         "x": [
          "Female",
          "Female",
          "Male",
          "Female",
          "Male",
          "Female",
          "Female",
          "Female",
          "Female",
          "Female",
          "Female",
          "Female",
          "Male",
          "Male",
          "Female",
          "Male",
          "Female",
          "Male",
          "Female",
          "Female",
          "Female",
          "Female",
          "Male",
          "Male",
          "Female",
          "Male",
          "Female",
          "Male",
          "Female",
          "Female",
          "Male",
          "Female",
          "Female",
          "Male",
          "Male",
          "Female",
          "Female",
          "Male",
          "Female",
          "Female",
          "Female",
          "Male",
          "Female",
          "Female",
          "Male",
          "Male",
          "Male",
          "Male",
          "Male",
          "Male",
          "Female",
          "Male",
          "Male",
          "Female",
          "Female",
          "Male",
          "Female",
          "Male",
          "Female",
          "Male",
          "Male",
          "Male",
          "Male",
          "Female",
          "Female",
          "Male",
          "Male",
          "Male",
          "Male",
          "Female",
          "Female",
          "Male",
          "Female",
          "Female",
          "Female",
          "Male",
          "Female",
          "Male",
          "Female",
          "Male",
          "Male",
          "Female",
          "Female",
          "Female",
          "Female",
          "Female",
          "Male",
          "Male",
          "Male",
          "Female",
          "Male",
          "Female",
          "Male",
          "Female",
          "Female",
          "Male",
          "Male",
          "Male",
          "Male",
          "Female",
          "Female",
          "Female",
          "Male",
          "Female",
          "Female",
          "Male",
          "Female",
          "Female",
          "Male",
          "Female",
          "Female",
          "Male",
          "Female",
          "Male",
          "Female",
          "Male",
          "Female",
          "Female",
          "Male",
          "Female",
          "Female",
          "Female",
          "Female",
          "Male",
          "Female",
          "Female",
          "Female",
          "Female",
          "Male",
          "Female",
          "Female",
          "Female",
          "Female",
          "Male",
          "Male",
          "Female",
          "Female",
          "Female",
          "Male",
          "Male",
          "Male",
          "Female",
          "Female",
          "Male",
          "Female",
          "Male",
          "Female",
          "Female",
          "Female",
          "Female",
          "Male",
          "Female",
          "Female",
          "Female",
          "Female",
          "Male",
          "Male",
          "Female",
          "Female",
          "Male",
          "Female",
          "Male",
          "Male",
          "Female",
          "Male",
          "Female",
          "Female",
          "Female",
          "Male",
          "Female",
          "Female",
          "Female",
          "Male",
          "Male",
          "Female",
          "Female",
          "Male",
          "Female",
          "Female",
          "Female",
          "Female",
          "Female",
          "Female",
          "Female",
          "Male",
          "Male",
          "Female",
          "Female",
          "Male",
          "Male",
          "Male",
          "Male",
          "Male",
          "Female",
          "Female",
          "Female",
          "Female",
          "Female",
          "Male",
          "Female",
          "Female",
          "Female",
          "Male",
          "Female",
          "Female",
          "Male",
          "Male",
          "Male",
          "Female",
          "Female",
          "Male",
          "Female",
          "Female",
          "Female",
          "Male",
          "Female",
          "Male",
          "Male",
          "Female",
          "Male",
          "Male",
          "Female",
          "Male",
          "Male",
          "Male",
          "Male",
          "Male",
          "Female",
          "Female",
          "Female",
          "Male",
          "Female",
          "Female",
          "Female",
          "Male",
          "Male",
          "Male",
          "Female",
          "Female",
          "Male",
          "Female",
          "Female",
          "Male",
          "Male",
          "Male",
          "Female",
          "Male",
          "Female",
          "Female",
          "Male",
          "Female",
          "Female",
          "Male",
          "Male",
          "Male",
          "Male",
          "Female",
          "Female",
          "Male",
          "Male",
          "Female",
          "Female",
          "Female",
          "Male",
          "Female",
          "Male",
          "Male",
          "Male",
          "Male",
          "Female",
          "Male",
          "Female",
          "Male",
          "Male",
          "Male",
          "Female",
          "Male",
          "Female",
          "Female",
          "Female",
          "Male",
          "Female",
          "Female",
          "Female",
          "Male",
          "Male",
          "Male",
          "Male",
          "Male",
          "Female",
          "Male",
          "Female",
          "Female",
          "Female",
          "Female",
          "Female",
          "Female",
          "Female",
          "Female",
          "Female",
          "Female",
          "Female",
          "Female",
          "Female",
          "Male",
          "Male",
          "Female",
          "Male",
          "Female",
          "Male",
          "Female",
          "Female",
          "Female",
          "Female",
          "Male",
          "Female",
          "Female",
          "Female",
          "Female",
          "Male",
          "Female",
          "Male",
          "Male",
          "Male",
          "Male",
          "Female",
          "Male",
          "Female",
          "Male",
          "Female",
          "Male",
          "Male",
          "Male",
          "Female",
          "Female",
          "Female",
          "Female",
          "Female",
          "Female",
          "Female",
          "Male",
          "Male",
          "Female",
          "Male",
          "Male",
          "Male",
          "Female",
          "Male",
          "Male",
          "Female",
          "Female",
          "Female",
          "Male",
          "Female",
          "Female",
          "Female",
          "Male",
          "Male",
          "Female",
          "Female",
          "Female",
          "Male",
          "Male",
          "Female",
          "Female",
          "Male",
          "Female",
          "Female",
          "Female",
          "Male",
          "Male",
          "Male",
          "Female",
          "Female",
          "Female",
          "Male",
          "Female",
          "Male",
          "Male",
          "Male",
          "Male",
          "Male",
          "Female",
          "Female",
          "Female",
          "Female",
          "Male",
          "Male",
          "Male",
          "Female",
          "Female",
          "Male",
          "Female",
          "Male",
          "Female",
          "Male",
          "Male",
          "Male",
          "Female",
          "Female",
          "Male",
          "Female",
          "Male",
          "Female",
          "Male",
          "Male",
          "Female",
          "Female",
          "Female",
          "Male",
          "Female",
          "Male",
          "Female",
          "Male",
          "Female",
          "Male",
          "Female",
          "Female",
          "Male",
          "Female",
          "Female",
          "Female",
          "Female",
          "Male",
          "Female",
          "Female",
          "Male",
          "Male",
          "Female",
          "Female",
          "Female",
          "Male",
          "Male",
          "Male",
          "Female",
          "Female",
          "Female",
          "Male",
          "Female",
          "Female",
          "Female",
          "Female",
          "Female",
          "Female",
          "Male",
          "Female",
          "Male",
          "Female",
          "Male",
          "Male",
          "Male",
          "Female",
          "Male",
          "Male",
          "Female",
          "Female",
          "Male",
          "Female",
          "Female",
          "Female",
          "Male",
          "Female",
          "Female",
          "Female",
          "Female",
          "Female",
          "Male",
          "Female",
          "Female",
          "Male",
          "Male",
          "Female",
          "Male",
          "Female",
          "Female",
          "Female",
          "Female",
          "Female",
          "Female",
          "Male",
          "Male",
          "Female",
          "Male",
          "Male",
          "Male",
          "Female",
          "Female",
          "Female",
          "Male",
          "Male",
          "Female",
          "Male",
          "Male",
          "Female",
          "Female",
          "Male",
          "Female",
          "Female",
          "Male",
          "Male",
          "Female",
          "Female",
          "Female",
          "Male",
          "Male",
          "Male",
          "Male",
          "Female",
          "Female",
          "Male",
          "Female",
          "Female",
          "Male",
          "Male",
          "Female",
          "Female",
          "Female",
          "Female",
          "Female",
          "Male",
          "Male",
          "Male",
          "Female",
          "Male",
          "Female",
          "Female",
          "Female",
          "Female",
          "Female",
          "Female",
          "Female",
          "Male",
          "Female",
          "Male",
          "Male",
          "Female",
          "Male",
          "Male",
          "Female",
          "Female",
          "Female",
          "Male",
          "Male",
          "Male",
          "Female",
          "Male",
          "Female",
          "Female",
          "Female",
          "Female",
          "Male",
          "Male",
          "Female",
          "Female",
          "Female",
          "Female",
          "Male",
          "Male",
          "Male",
          "Female",
          "Female",
          "Female",
          "Male",
          "Male",
          "Male",
          "Female",
          "Female",
          "Female",
          "Male",
          "Male",
          "Female",
          "Male",
          "Male",
          "Female",
          "Female",
          "Male",
          "Female",
          "Female",
          "Female",
          "Female",
          "Male",
          "Male",
          "Male",
          "Female",
          "Female",
          "Female",
          "Female",
          "Male",
          "Female",
          "Female",
          "Male",
          "Female",
          "Male",
          "Male",
          "Male",
          "Male",
          "Female",
          "Male",
          "Female",
          "Male",
          "Male",
          "Male",
          "Female",
          "Male",
          "Female",
          "Male",
          "Male",
          "Female",
          "Female",
          "Male",
          "Female",
          "Male",
          "Female",
          "Male",
          "Male",
          "Female",
          "Female",
          "Female",
          "Male",
          "Female",
          "Male",
          "Male",
          "Female",
          "Male",
          "Male",
          "Female",
          "Male",
          "Female",
          "Female",
          "Female",
          "Male",
          "Female",
          "Female",
          "Male",
          "Male",
          "Female",
          "Male",
          "Female",
          "Female",
          "Male",
          "Female",
          "Female",
          "Male",
          "Female",
          "Female",
          "Male",
          "Female",
          "Female",
          "Female",
          "Female",
          "Female",
          "Female",
          "Female",
          "Male",
          "Male",
          "Female",
          "Male",
          "Male",
          "Female",
          "Female",
          "Female",
          "Female",
          "Female",
          "Female",
          "Female",
          "Male",
          "Female",
          "Female",
          "Female",
          "Female",
          "Female",
          "Female",
          "Male",
          "Female",
          "Female",
          "Female",
          "Male",
          "Female",
          "Male",
          "Male",
          "Female",
          "Female",
          "Male",
          "Male",
          "Male",
          "Female",
          "Male",
          "Male",
          "Male",
          "Male",
          "Female",
          "Male",
          "Male",
          "Male",
          "Female",
          "Female",
          "Female",
          "Female",
          "Female",
          "Male",
          "Male",
          "Female",
          "Female",
          "Male",
          "Male",
          "Male",
          "Female",
          "Male",
          "Female",
          "Female",
          "Female",
          "Female",
          "Male",
          "Female",
          "Female",
          "Female",
          "Female",
          "Female",
          "Female",
          "Male",
          "Female",
          "Female",
          "Female",
          "Male",
          "Female",
          "Female",
          "Female",
          "Male",
          "Male",
          "Male",
          "Male",
          "Male",
          "Female",
          "Male",
          "Female",
          "Male",
          "Male",
          "Female",
          "Male",
          "Female",
          "Female",
          "Female",
          "Female",
          "Female",
          "Female",
          "Female",
          "Male",
          "Female",
          "Female",
          "Male",
          "Female",
          "Female",
          "Female",
          "Male",
          "Female",
          "Male",
          "Female",
          "Male",
          "Female",
          "Male",
          "Male",
          "Female",
          "Male",
          "Female",
          "Female",
          "Male",
          "Female",
          "Female",
          "Female",
          "Female",
          "Female",
          "Female",
          "Male",
          "Female",
          "Male",
          "Female",
          "Female",
          "Female",
          "Male",
          "Female",
          "Female",
          "Female",
          "Female",
          "Female",
          "Male",
          "Female",
          "Female",
          "Female",
          "Female",
          "Female",
          "Female",
          "Female",
          "Female",
          "Male",
          "Female",
          "Female",
          "Male",
          "Male",
          "Male",
          "Female",
          "Male",
          "Male",
          "Female",
          "Female",
          "Female",
          "Male",
          "Female",
          "Male",
          "Female",
          "Male",
          "Female",
          "Male",
          "Male",
          "Female",
          "Male",
          "Male",
          "Male",
          "Female",
          "Male",
          "Female",
          "Male",
          "Female",
          "Female",
          "Male",
          "Female",
          "Female",
          "Male",
          "Female",
          "Male",
          "Female",
          "Male",
          "Male",
          "Male",
          "Male",
          "Female",
          "Female",
          "Male",
          "Male",
          "Male",
          "Female",
          "Female",
          "Male",
          "Female",
          "Female",
          "Female",
          "Female",
          "Male",
          "Female",
          "Female",
          "Female",
          "Male",
          "Female",
          "Male",
          "Male",
          "Male",
          "Female",
          "Female",
          "Female",
          "Male",
          "Male",
          "Female",
          "Female",
          "Female",
          "Female",
          "Male",
          "Female",
          "Male",
          "Male",
          "Male",
          "Male",
          "Male",
          "Female",
          "Male",
          "Female",
          "Female",
          "Male",
          "Male",
          "Male",
          "Female",
          "Female",
          "Female",
          "Male",
          "Female",
          "Male",
          "Male",
          "Female",
          "Male",
          "Female",
          "Female",
          "Male",
          "Female",
          "Male",
          "Male",
          "Female",
          "Male",
          "Female",
          "Female",
          "Male",
          "Female",
          "Female",
          "Male",
          "Female",
          "Female",
          "Male",
          "Male",
          "Male",
          "Female",
          "Female",
          "Female",
          "Female",
          "Male",
          "Female",
          "Male",
          "Female",
          "Male",
          "Male",
          "Male",
          "Male",
          "Male",
          "Male",
          "Male",
          "Female",
          "Male",
          "Female",
          "Female",
          "Female",
          "Male",
          "Female",
          "Female",
          "Female",
          "Female",
          "Female",
          "Male",
          "Male",
          "Male",
          "Female",
          "Female",
          "Female",
          "Female",
          "Male",
          "Female",
          "Female",
          "Male",
          "Female",
          "Female",
          "Female",
          "Female",
          "Male",
          "Female",
          "Male",
          "Female",
          "Male",
          "Female",
          "Male",
          "Male",
          "Female",
          "Male",
          "Female",
          "Male",
          "Female",
          "Female",
          "Female",
          "Female",
          "Male",
          "Male",
          "Male",
          "Female",
          "Female",
          "Male",
          "Male",
          "Female",
          "Female",
          "Male",
          "Male",
          "Female",
          "Female",
          "Female",
          "Female",
          "Female",
          "Female",
          "Male",
          "Male",
          "Female",
          "Female",
          "Male",
          "Male",
          "Male",
          "Male",
          "Male",
          "Female",
          "Female",
          "Female",
          "Female",
          "Female",
          "Female",
          "Male",
          "Female",
          "Male",
          "Female",
          "Female",
          "Female",
          "Female",
          "Female",
          "Male",
          "Female",
          "Female",
          "Male",
          "Male",
          "Female",
          "Male",
          "Female",
          "Female",
          "Female",
          "Male",
          "Male",
          "Female",
          "Male",
          "Male",
          "Female",
          "Female",
          "Male",
          "Female",
          "Female",
          "Female",
          "Male",
          "Male",
          "Male",
          "Male",
          "Female",
          "Female",
          "Female",
          "Male",
          "Female",
          "Male",
          "Male",
          "Male",
          "Female",
          "Female",
          "Male",
          "Female",
          "Male",
          "Female",
          "Male",
          "Female",
          "Female",
          "Male",
          "Male",
          "Female",
          "Female",
          "Male",
          "Male",
          "Female",
          "Female",
          "Female",
          "Female",
          "Female",
          "Male",
          "Female",
          "Female",
          "Female",
          "Female",
          "Female",
          "Female",
          "Male",
          "Male",
          "Male",
          "Female",
          "Female",
          "Female",
          "Female",
          "Male",
          "Male",
          "Female",
          "Male",
          "Female",
          "Female",
          "Female",
          "Male",
          "Male",
          "Male",
          "Female",
          "Female",
          "Female",
          "Female",
          "Female",
          "Male",
          "Female",
          "Male",
          "Male",
          "Male",
          "Female",
          "Female",
          "Female",
          "Female",
          "Female",
          "Female",
          "Male",
          "Female",
          "Female",
          "Female",
          "Male",
          "Male",
          "Male",
          "Male",
          "Female",
          "Female",
          "Female",
          "Female",
          "Male",
          "Female",
          "Female",
          "Male",
          "Male",
          "Female",
          "Female",
          "Female",
          "Female",
          "Female",
          "Female",
          "Female",
          "Male",
          "Male",
          "Female",
          "Male",
          "Male",
          "Male",
          "Male",
          "Female",
          "Male",
          "Male",
          "Male",
          "Female",
          "Male",
          "Male",
          "Female",
          "Male",
          "Male",
          "Female",
          "Female",
          "Male",
          "Male",
          "Female",
          "Female",
          "Female",
          "Female",
          "Female",
          "Male",
          "Female",
          "Male",
          "Female",
          "Female",
          "Female",
          "Female",
          "Male",
          "Male",
          "Female",
          "Male",
          "Female",
          "Male",
          "Male",
          "Male",
          "Female",
          "Male",
          "Female",
          "Male",
          "Female",
          "Male",
          "Male",
          "Female",
          "Female",
          "Male",
          "Male",
          "Female",
          "Female",
          "Female",
          "Female",
          "Male",
          "Male",
          "Female",
          "Male",
          "Male",
          "Male",
          "Female",
          "Female",
          "Female",
          "Female",
          "Male",
          "Female",
          "Female",
          "Male",
          "Male",
          "Male",
          "Male",
          "Female",
          "Male",
          "Male",
          "Female",
          "Female",
          "Male",
          "Female",
          "Female",
          "Female",
          "Female",
          "Female",
          "Female",
          "Male",
          "Female",
          "Female",
          "Male",
          "Female",
          "Female",
          "Female",
          "Male",
          "Male",
          "Female",
          "Female",
          "Male",
          "Male",
          "Female",
          "Female",
          "Female",
          "Female",
          "Female",
          "Male",
          "Female",
          "Female",
          "Female",
          "Male",
          "Female",
          "Male",
          "Female",
          "Female",
          "Female",
          "Female",
          "Female",
          "Male",
          "Female",
          "Female",
          "Male",
          "Female",
          "Female",
          "Male",
          "Female",
          "Male",
          "Male",
          "Male",
          "Female",
          "Female",
          "Female",
          "Female",
          "Female",
          "Female",
          "Male",
          "Female",
          "Female",
          "Female",
          "Female",
          "Female",
          "Male",
          "Male",
          "Male",
          "Female",
          "Female",
          "Male",
          "Male",
          "Male",
          "Female",
          "Male",
          "Male",
          "Male",
          "Male",
          "Female",
          "Female",
          "Male",
          "Male",
          "Female",
          "Male",
          "Male",
          "Female",
          "Female",
          "Male",
          "Male",
          "Male",
          "Male",
          "Female",
          "Female",
          "Female",
          "Female",
          "Female",
          "Male",
          "Male",
          "Female",
          "Male",
          "Female",
          "Male",
          "Male",
          "Male",
          "Male",
          "Male",
          "Female",
          "Male",
          "Male",
          "Female",
          "Female",
          "Male",
          "Male",
          "Female",
          "Female",
          "Female",
          "Male",
          "Female",
          "Male",
          "Female",
          "Female",
          "Male",
          "Female",
          "Male",
          "Female",
          "Female",
          "Female",
          "Male",
          "Female",
          "Male",
          "Male",
          "Male",
          "Male",
          "Female",
          "Male",
          "Male",
          "Male",
          "Female",
          "Male",
          "Female",
          "Male",
          "Female",
          "Male",
          "Female",
          "Male",
          "Female",
          "Male",
          "Female",
          "Female",
          "Male",
          "Male",
          "Female",
          "Female",
          "Male",
          "Male",
          "Female",
          "Male",
          "Male",
          "Female",
          "Female",
          "Female",
          "Female",
          "Male",
          "Female",
          "Female",
          "Male",
          "Female",
          "Female",
          "Male",
          "Female",
          "Female",
          "Male",
          "Male",
          "Female",
          "Female",
          "Female",
          "Male",
          "Male",
          "Female",
          "Female",
          "Male",
          "Female",
          "Female",
          "Female",
          "Male",
          "Female",
          "Male",
          "Male",
          "Male",
          "Female",
          "Female",
          "Female",
          "Female",
          "Female",
          "Male",
          "Female",
          "Female",
          "Female",
          "Female",
          "Female",
          "Female",
          "Female",
          "Female",
          "Female",
          "Female",
          "Female",
          "Female",
          "Male",
          "Male",
          "Male",
          "Male",
          "Male",
          "Female",
          "Male",
          "Male",
          "Female",
          "Female",
          "Female",
          "Female",
          "Female",
          "Female",
          "Male",
          "Female",
          "Male",
          "Female",
          "Female",
          "Female",
          "Female",
          "Male",
          "Male",
          "Female",
          "Female",
          "Male",
          "Female",
          "Male",
          "Female",
          "Male",
          "Female",
          "Female",
          "Male",
          "Female",
          "Male",
          "Female",
          "Male",
          "Male",
          "Male",
          "Male",
          "Female",
          "Female",
          "Male",
          "Female",
          "Female",
          "Male",
          "Male",
          "Male",
          "Female",
          "Female",
          "Male",
          "Male",
          "Male",
          "Female",
          "Male",
          "Female",
          "Female",
          "Female",
          "Male",
          "Female",
          "Male",
          "Female",
          "Female",
          "Male",
          "Male",
          "Female",
          "Male",
          "Male",
          "Male",
          "Female",
          "Female",
          "Female",
          "Female",
          "Male",
          "Male",
          "Male",
          "Female",
          "Female",
          "Female",
          "Female",
          "Male",
          "Female",
          "Female",
          "Male",
          "Male",
          "Male",
          "Female",
          "Female",
          "Male",
          "Male",
          "Male",
          "Female",
          "Female",
          "Female",
          "Female",
          "Female",
          "Female",
          "Female",
          "Male",
          "Male",
          "Female",
          "Male",
          "Female",
          "Female",
          "Female",
          "Male",
          "Male",
          "Female",
          "Female",
          "Male",
          "Male",
          "Female",
          "Female",
          "Female",
          "Male",
          "Male",
          "Female",
          "Female",
          "Female",
          "Female",
          "Female",
          "Female",
          "Female",
          "Female",
          "Male",
          "Female",
          "Male",
          "Male",
          "Male",
          "Male",
          "Female",
          "Female",
          "Female",
          "Female",
          "Female",
          "Male",
          "Female",
          "Male",
          "Female",
          "Male",
          "Male",
          "Female",
          "Male",
          "Female",
          "Male",
          "Female",
          "Female",
          "Female",
          "Female",
          "Male",
          "Male",
          "Male",
          "Male",
          "Female",
          "Female",
          "Female",
          "Male",
          "Male",
          "Female",
          "Male",
          "Male",
          "Male",
          "Male",
          "Male",
          "Male",
          "Male",
          "Female",
          "Female",
          "Female",
          "Female",
          "Female",
          "Female",
          "Female",
          "Female",
          "Female",
          "Female",
          "Female",
          "Male",
          "Male",
          "Male",
          "Male",
          "Male",
          "Male",
          "Male",
          "Female",
          "Female",
          "Male",
          "Female",
          "Female",
          "Male",
          "Male",
          "Female",
          "Male",
          "Female",
          "Male",
          "Female",
          "Male",
          "Female",
          "Female",
          "Female",
          "Female",
          "Female",
          "Female",
          "Male",
          "Female",
          "Female",
          "Female",
          "Male",
          "Female",
          "Female",
          "Male",
          "Female",
          "Male",
          "Female",
          "Male",
          "Female",
          "Female",
          "Male",
          "Male",
          "Male",
          "Female",
          "Female",
          "Male",
          "Female",
          "Female",
          "Male",
          "Female",
          "Female",
          "Female",
          "Male",
          "Male",
          "Female",
          "Male",
          "Male",
          "Female",
          "Male",
          "Male",
          "Female",
          "Male",
          "Female",
          "Male",
          "Female",
          "Female",
          "Male",
          "Male",
          "Female",
          "Male",
          "Male",
          "Male",
          "Male",
          "Male",
          "Female",
          "Male",
          "Male",
          "Female",
          "Male",
          "Male",
          "Female",
          "Female",
          "Female",
          "Female",
          "Female",
          "Female",
          "Male",
          "Male",
          "Male",
          "Male",
          "Female",
          "Female",
          "Female",
          "Female",
          "Female",
          "Female",
          "Male",
          "Male",
          "Female",
          "Female",
          "Male",
          "Female",
          "Female",
          "Male",
          "Male",
          "Male",
          "Female",
          "Female",
          "Male",
          "Male",
          "Male",
          "Female",
          "Female",
          "Female",
          "Female",
          "Male",
          "Male",
          "Female",
          "Male",
          "Male",
          "Female",
          "Male",
          "Male",
          "Male",
          "Female",
          "Male",
          "Female",
          "Female",
          "Female",
          "Female",
          "Male",
          "Male",
          "Female",
          "Male",
          "Female",
          "Female",
          "Female",
          "Male",
          "Female",
          "Female",
          "Male",
          "Female",
          "Female",
          "Female",
          "Female",
          "Male",
          "Female",
          "Female",
          "Male",
          "Female",
          "Female",
          "Male",
          "Female",
          "Male",
          "Female",
          "Female",
          "Male",
          "Male",
          "Female",
          "Male",
          "Female",
          "Male",
          "Male",
          "Male",
          "Female",
          "Male",
          "Male",
          "Female",
          "Male",
          "Male",
          "Female",
          "Female",
          "Male",
          "Female",
          "Female",
          "Female",
          "Male",
          "Female",
          "Male",
          "Male",
          "Male",
          "Female",
          "Female",
          "Female",
          "Male",
          "Female",
          "Male",
          "Male",
          "Female",
          "Male",
          "Female",
          "Male",
          "Female",
          "Male",
          "Male",
          "Female",
          "Female",
          "Male",
          "Male",
          "Female",
          "Female",
          "Male",
          "Female",
          "Female",
          "Female",
          "Female",
          "Male",
          "Female",
          "Male",
          "Male",
          "Male",
          "Male",
          "Female",
          "Female",
          "Male",
          "Female",
          "Female",
          "Female",
          "Male",
          "Male",
          "Male",
          "Female",
          "Male",
          "Female",
          "Female",
          "Female",
          "Male",
          "Male",
          "Male",
          "Male",
          "Female",
          "Female",
          "Female",
          "Female",
          "Female",
          "Male",
          "Female",
          "Male",
          "Male",
          "Male",
          "Male",
          "Female",
          "Female",
          "Male",
          "Female",
          "Female",
          "Female",
          "Male",
          "Female",
          "Female",
          "Male",
          "Male",
          "Female",
          "Male",
          "Male",
          "Male",
          "Male",
          "Male",
          "Male",
          "Male",
          "Female",
          "Male",
          "Female",
          "Male",
          "Male",
          "Female",
          "Male",
          "Female",
          "Female",
          "Female",
          "Female",
          "Female",
          "Male",
          "Male",
          "Female",
          "Male",
          "Male",
          "Male",
          "Female",
          "Male",
          "Female",
          "Male",
          "Female",
          "Female",
          "Male",
          "Female",
          "Male",
          "Female",
          "Male",
          "Male",
          "Female",
          "Male",
          "Female",
          "Female",
          "Male",
          "Female",
          "Female",
          "Male",
          "Male",
          "Female",
          "Female",
          "Male",
          "Female",
          "Male",
          "Female",
          "Male",
          "Male",
          "Male",
          "Female",
          "Female",
          "Female",
          "Male",
          "Male",
          "Female",
          "Male",
          "Female",
          "Male",
          "Male",
          "Female",
          "Male",
          "Female",
          "Female",
          "Male",
          "Female",
          "Female",
          "Female",
          "Male",
          "Female",
          "Female",
          "Male",
          "Male",
          "Female",
          "Female",
          "Male",
          "Female",
          "Male",
          "Male",
          "Female",
          "Male",
          "Male",
          "Male",
          "Male",
          "Male",
          "Female",
          "Female",
          "Male",
          "Female",
          "Male",
          "Female",
          "Male",
          "Male",
          "Female",
          "Female",
          "Male",
          "Female",
          "Male",
          "Female",
          "Female",
          "Female",
          "Male",
          "Male",
          "Male",
          "Female",
          "Female",
          "Male",
          "Male",
          "Male",
          "Female",
          "Female",
          "Male",
          "Female",
          "Female",
          "Male",
          "Male",
          "Female",
          "Female",
          "Female",
          "Female",
          "Male",
          "Male",
          "Female",
          "Female",
          "Male",
          "Male",
          "Male",
          "Female",
          "Male",
          "Female",
          "Male",
          "Female",
          "Male",
          "Female",
          "Female",
          "Male",
          "Female",
          "Female",
          "Female",
          "Female",
          "Female",
          "Female",
          "Male",
          "Female",
          "Male",
          "Female",
          "Female",
          "Male",
          "Male",
          "Male",
          "Female",
          "Female",
          "Female",
          "Female",
          "Female",
          "Male",
          "Male",
          "Female",
          "Male",
          "Female",
          "Female",
          "Male",
          "Male",
          "Female",
          "Male",
          "Female",
          "Male",
          "Female",
          "Female",
          "Male",
          "Male",
          "Female",
          "Female",
          "Female",
          "Male",
          "Male",
          "Female",
          "Male",
          "Male",
          "Female",
          "Female",
          "Male",
          "Male",
          "Female",
          "Female",
          "Male",
          "Male",
          "Male",
          "Male",
          "Female",
          "Female",
          "Female",
          "Male",
          "Female",
          "Female",
          "Male",
          "Male",
          "Male",
          "Female",
          "Female",
          "Female",
          "Male"
         ],
         "xaxis": "x",
         "yaxis": "y"
        },
        {
         "bingroup": "x",
         "hovertemplate": "Exited=0<br>Gender=%{x}<br>count=%{y}<extra></extra>",
         "legendgroup": "0",
         "marker": {
          "color": "blue",
          "opacity": 0.6,
          "pattern": {
           "shape": ""
          }
         },
         "name": "0",
         "nbinsx": 30,
         "orientation": "v",
         "showlegend": true,
         "type": "histogram",
         "x": [
          "Female",
          "Female",
          "Female",
          "Male",
          "Male",
          "Male",
          "Male",
          "Male",
          "Female",
          "Female",
          "Female",
          "Male",
          "Female",
          "Male",
          "Female",
          "Male",
          "Female",
          "Male",
          "Female",
          "Male",
          "Male",
          "Male",
          "Female",
          "Male",
          "Male",
          "Male",
          "Female",
          "Female",
          "Male",
          "Male",
          "Male",
          "Male",
          "Male",
          "Female",
          "Female",
          "Female",
          "Male",
          "Female",
          "Male",
          "Male",
          "Female",
          "Male",
          "Male",
          "Male",
          "Male",
          "Male",
          "Female",
          "Male",
          "Male",
          "Male",
          "Female",
          "Female",
          "Male",
          "Female",
          "Female",
          "Male",
          "Female",
          "Female",
          "Male",
          "Female",
          "Male",
          "Female",
          "Male",
          "Female",
          "Female",
          "Female",
          "Female",
          "Female",
          "Female",
          "Male",
          "Female",
          "Male",
          "Female",
          "Male",
          "Male",
          "Male",
          "Male",
          "Male",
          "Male",
          "Male",
          "Female",
          "Female",
          "Male",
          "Male",
          "Male",
          "Female",
          "Male",
          "Male",
          "Male",
          "Male",
          "Male",
          "Female",
          "Female",
          "Female",
          "Male",
          "Male",
          "Male",
          "Female",
          "Female",
          "Female",
          "Female",
          "Male",
          "Female",
          "Female",
          "Male",
          "Male",
          "Male",
          "Female",
          "Female",
          "Male",
          "Male",
          "Male",
          "Female",
          "Female",
          "Female",
          "Male",
          "Male",
          "Male",
          "Female",
          "Male",
          "Male",
          "Female",
          "Female",
          "Female",
          "Female",
          "Female",
          "Female",
          "Male",
          "Female",
          "Female",
          "Male",
          "Female",
          "Male",
          "Female",
          "Male",
          "Male",
          "Male",
          "Female",
          "Female",
          "Male",
          "Female",
          "Female",
          "Male",
          "Female",
          "Male",
          "Male",
          "Female",
          "Female",
          "Male",
          "Female",
          "Female",
          "Male",
          "Male",
          "Male",
          "Male",
          "Female",
          "Male",
          "Male",
          "Male",
          "Male",
          "Male",
          "Male",
          "Male",
          "Male",
          "Male",
          "Male",
          "Male",
          "Female",
          "Female",
          "Male",
          "Male",
          "Female",
          "Female",
          "Male",
          "Male",
          "Male",
          "Female",
          "Female",
          "Male",
          "Male",
          "Female",
          "Male",
          "Female",
          "Female",
          "Male",
          "Male",
          "Female",
          "Male",
          "Male",
          "Male",
          "Female",
          "Male",
          "Female",
          "Female",
          "Female",
          "Male",
          "Male",
          "Male",
          "Male",
          "Female",
          "Female",
          "Male",
          "Male",
          "Female",
          "Female",
          "Female",
          "Male",
          "Female",
          "Male",
          "Male",
          "Female",
          "Male",
          "Female",
          "Male",
          "Male",
          "Female",
          "Female",
          "Male",
          "Male",
          "Male",
          "Male",
          "Female",
          "Male",
          "Male",
          "Female",
          "Female",
          "Male",
          "Male",
          "Female",
          "Male",
          "Male",
          "Male",
          "Female",
          "Male",
          "Male",
          "Female",
          "Female",
          "Male",
          "Female",
          "Male",
          "Male",
          "Male",
          "Male",
          "Female",
          "Male",
          "Male",
          "Female",
          "Male",
          "Male",
          "Male",
          "Female",
          "Male",
          "Female",
          "Female",
          "Female",
          "Male",
          "Male",
          "Male",
          "Male",
          "Male",
          "Male",
          "Female",
          "Male",
          "Female",
          "Female",
          "Male",
          "Male",
          "Female",
          "Male",
          "Female",
          "Female",
          "Female",
          "Male",
          "Female",
          "Male",
          "Male",
          "Male",
          "Female",
          "Male",
          "Female",
          "Male",
          "Female",
          "Male",
          "Male",
          "Male",
          "Female",
          "Female",
          "Male",
          "Female",
          "Female",
          "Female",
          "Male",
          "Female",
          "Male",
          "Female",
          "Male",
          "Male",
          "Male",
          "Female",
          "Male",
          "Female",
          "Female",
          "Male",
          "Female",
          "Male",
          "Male",
          "Female",
          "Male",
          "Male",
          "Female",
          "Female",
          "Female",
          "Male",
          "Female",
          "Female",
          "Male",
          "Male",
          "Female",
          "Male",
          "Female",
          "Male",
          "Male",
          "Male",
          "Male",
          "Female",
          "Male",
          "Female",
          "Male",
          "Male",
          "Female",
          "Male",
          "Male",
          "Female",
          "Female",
          "Female",
          "Female",
          "Female",
          "Male",
          "Male",
          "Male",
          "Male",
          "Female",
          "Male",
          "Female",
          "Male",
          "Female",
          "Female",
          "Male",
          "Female",
          "Female",
          "Female",
          "Female",
          "Female",
          "Male",
          "Female",
          "Male",
          "Male",
          "Female",
          "Female",
          "Male",
          "Male",
          "Female",
          "Female",
          "Male",
          "Male",
          "Male",
          "Male",
          "Male",
          "Male",
          "Female",
          "Male",
          "Male",
          "Female",
          "Male",
          "Male",
          "Male",
          "Male",
          "Male",
          "Female",
          "Female",
          "Female",
          "Male",
          "Male",
          "Male",
          "Female",
          "Male",
          "Male",
          "Female",
          "Male",
          "Male",
          "Female",
          "Male",
          "Female",
          "Female",
          "Male",
          "Female",
          "Male",
          "Male",
          "Male",
          "Male",
          "Male",
          "Female",
          "Male",
          "Male",
          "Female",
          "Male",
          "Female",
          "Female",
          "Female",
          "Male",
          "Male",
          "Male",
          "Male",
          "Male",
          "Male",
          "Male",
          "Male",
          "Male",
          "Female",
          "Male",
          "Male",
          "Male",
          "Female",
          "Female",
          "Male",
          "Male",
          "Female",
          "Male",
          "Male",
          "Male",
          "Male",
          "Female",
          "Female",
          "Male",
          "Female",
          "Male",
          "Male",
          "Female",
          "Female",
          "Male",
          "Male",
          "Male",
          "Male",
          "Female",
          "Female",
          "Male",
          "Male",
          "Female",
          "Male",
          "Female",
          "Male",
          "Male",
          "Male",
          "Male",
          "Male",
          "Female",
          "Female",
          "Male",
          "Female",
          "Male",
          "Male",
          "Female",
          "Female",
          "Male",
          "Male",
          "Male",
          "Female",
          "Male",
          "Female",
          "Female",
          "Male",
          "Male",
          "Female",
          "Female",
          "Female",
          "Male",
          "Male",
          "Male",
          "Male",
          "Male",
          "Female",
          "Male",
          "Female",
          "Female",
          "Male",
          "Male",
          "Male",
          "Male",
          "Female",
          "Male",
          "Female",
          "Female",
          "Male",
          "Female",
          "Male",
          "Male",
          "Male",
          "Male",
          "Female",
          "Female",
          "Male",
          "Female",
          "Female",
          "Male",
          "Female",
          "Female",
          "Female",
          "Female",
          "Female",
          "Male",
          "Female",
          "Male",
          "Female",
          "Male",
          "Male",
          "Male",
          "Male",
          "Male",
          "Female",
          "Male",
          "Female",
          "Female",
          "Male",
          "Male",
          "Male",
          "Female",
          "Male",
          "Female",
          "Male",
          "Male",
          "Female",
          "Female",
          "Male",
          "Male",
          "Female",
          "Male",
          "Female",
          "Female",
          "Female",
          "Female",
          "Male",
          "Male",
          "Female",
          "Female",
          "Male",
          "Female",
          "Female",
          "Male",
          "Male",
          "Male",
          "Male",
          "Female",
          "Male",
          "Male",
          "Male",
          "Female",
          "Male",
          "Female",
          "Male",
          "Male",
          "Male",
          "Male",
          "Female",
          "Female",
          "Male",
          "Male",
          "Male",
          "Female",
          "Male",
          "Female",
          "Female",
          "Male",
          "Female",
          "Male",
          "Female",
          "Male",
          "Female",
          "Male",
          "Female",
          "Female",
          "Male",
          "Female",
          "Male",
          "Male",
          "Male",
          "Male",
          "Male",
          "Female",
          "Female",
          "Male",
          "Male",
          "Male",
          "Male",
          "Male",
          "Female",
          "Male",
          "Male",
          "Male",
          "Female",
          "Female",
          "Male",
          "Female",
          "Male",
          "Female",
          "Female",
          "Female",
          "Male",
          "Female",
          "Female",
          "Female",
          "Female",
          "Male",
          "Male",
          "Male",
          "Male",
          "Male",
          "Male",
          "Female",
          "Male",
          "Female",
          "Male",
          "Female",
          "Male",
          "Male",
          "Male",
          "Female",
          "Male",
          "Male",
          "Male",
          "Female",
          "Female",
          "Male",
          "Male",
          "Female",
          "Male",
          "Female",
          "Female",
          "Male",
          "Female",
          "Female",
          "Female",
          "Male",
          "Female",
          "Male",
          "Male",
          "Female",
          "Female",
          "Male",
          "Female",
          "Female",
          "Male",
          "Male",
          "Male",
          "Female",
          "Male",
          "Female",
          "Male",
          "Male",
          "Male",
          "Female",
          "Male",
          "Female",
          "Female",
          "Female",
          "Female",
          "Female",
          "Male",
          "Female",
          "Male",
          "Female",
          "Female",
          "Male",
          "Female",
          "Male",
          "Male",
          "Male",
          "Male",
          "Female",
          "Male",
          "Male",
          "Male",
          "Female",
          "Female",
          "Female",
          "Male",
          "Male",
          "Male",
          "Male",
          "Male",
          "Male",
          "Female",
          "Male",
          "Male",
          "Female",
          "Female",
          "Male",
          "Female",
          "Female",
          "Female",
          "Female",
          "Female",
          "Female",
          "Male",
          "Male",
          "Male",
          "Male",
          "Male",
          "Male",
          "Female",
          "Male",
          "Male",
          "Male",
          "Male",
          "Male",
          "Female",
          "Male",
          "Male",
          "Female",
          "Male",
          "Male",
          "Male",
          "Male",
          "Male",
          "Female",
          "Female",
          "Male",
          "Male",
          "Male",
          "Female",
          "Male",
          "Male",
          "Male",
          "Female",
          "Female",
          "Female",
          "Male",
          "Male",
          "Male",
          "Female",
          "Male",
          "Male",
          "Female",
          "Male",
          "Female",
          "Female",
          "Female",
          "Female",
          "Male",
          "Female",
          "Female",
          "Male",
          "Female",
          "Male",
          "Female",
          "Male",
          "Female",
          "Male",
          "Female",
          "Female",
          "Female",
          "Male",
          "Female",
          "Female",
          "Male",
          "Male",
          "Female",
          "Female",
          "Female",
          "Male",
          "Male",
          "Female",
          "Male",
          "Male",
          "Female",
          "Male",
          "Female",
          "Female",
          "Female",
          "Female",
          "Male",
          "Female",
          "Male",
          "Male",
          "Male",
          "Male",
          "Male",
          "Male",
          "Female",
          "Female",
          "Female",
          "Male",
          "Male",
          "Male",
          "Male",
          "Female",
          "Female",
          "Female",
          "Female",
          "Male",
          "Female",
          "Female",
          "Male",
          "Male",
          "Male",
          "Female",
          "Male",
          "Female",
          "Male",
          "Male",
          "Male",
          "Male",
          "Female",
          "Male",
          "Female",
          "Female",
          "Male",
          "Male",
          "Male",
          "Male",
          "Male",
          "Female",
          "Male",
          "Male",
          "Male",
          "Male",
          "Male",
          "Female",
          "Male",
          "Female",
          "Male",
          "Male",
          "Male",
          "Female",
          "Male",
          "Male",
          "Male",
          "Female",
          "Male",
          "Female",
          "Female",
          "Female",
          "Male",
          "Male",
          "Male",
          "Female",
          "Female",
          "Male",
          "Female",
          "Male",
          "Male",
          "Female",
          "Male",
          "Female",
          "Female",
          "Male",
          "Male",
          "Female",
          "Male",
          "Female",
          "Female",
          "Female",
          "Male",
          "Female",
          "Male",
          "Female",
          "Female",
          "Male",
          "Male",
          "Male",
          "Male",
          "Female",
          "Male",
          "Female",
          "Male",
          "Male",
          "Female",
          "Male",
          "Female",
          "Female",
          "Male",
          "Male",
          "Female",
          "Male",
          "Male",
          "Male",
          "Male",
          "Male",
          "Female",
          "Female",
          "Female",
          "Female",
          "Female",
          "Female",
          "Male",
          "Male",
          "Male",
          "Female",
          "Male",
          "Male",
          "Female",
          "Male",
          "Female",
          "Male",
          "Male",
          "Male",
          "Male",
          "Female",
          "Female",
          "Male",
          "Male",
          "Female",
          "Female",
          "Male",
          "Male",
          "Male",
          "Male",
          "Male",
          "Male",
          "Female",
          "Female",
          "Female",
          "Female",
          "Female",
          "Female",
          "Female",
          "Female",
          "Male",
          "Female",
          "Female",
          "Male",
          "Male",
          "Male",
          "Female",
          "Male",
          "Female",
          "Male",
          "Male",
          "Male",
          "Female",
          "Male",
          "Female",
          "Male",
          "Female",
          "Female",
          "Male",
          "Female",
          "Male",
          "Male",
          "Male",
          "Male",
          "Male",
          "Female",
          "Male",
          "Male",
          "Male",
          "Female",
          "Female",
          "Female",
          "Female",
          "Male",
          "Male",
          "Female",
          "Male",
          "Male",
          "Male",
          "Female",
          "Female",
          "Female",
          "Female",
          "Female",
          "Female",
          "Male",
          "Male",
          "Female",
          "Female",
          "Male",
          "Male",
          "Male",
          "Male",
          "Male",
          "Male",
          "Female",
          "Male",
          "Male",
          "Female",
          "Female",
          "Male",
          "Female",
          "Female",
          "Male",
          "Male",
          "Female",
          "Male",
          "Male",
          "Female",
          "Female",
          "Female",
          "Male",
          "Female",
          "Female",
          "Male",
          "Female",
          "Male",
          "Female",
          "Female",
          "Male",
          "Male",
          "Female",
          "Male",
          "Male",
          "Male",
          "Male",
          "Female",
          "Male",
          "Male",
          "Male",
          "Male",
          "Female",
          "Male",
          "Female",
          "Male",
          "Male",
          "Female",
          "Female",
          "Male",
          "Male",
          "Female",
          "Male",
          "Male",
          "Male",
          "Male",
          "Male",
          "Male",
          "Female",
          "Female",
          "Male",
          "Male",
          "Male",
          "Female",
          "Female",
          "Male",
          "Female",
          "Female",
          "Male",
          "Female",
          "Male",
          "Female",
          "Male",
          "Female",
          "Female",
          "Male",
          "Female",
          "Male",
          "Male",
          "Female",
          "Male",
          "Male",
          "Female",
          "Male",
          "Male",
          "Male",
          "Male",
          "Female",
          "Male",
          "Male",
          "Male",
          "Male",
          "Female",
          "Male",
          "Male",
          "Male",
          "Male",
          "Male",
          "Male",
          "Female",
          "Male",
          "Male",
          "Male",
          "Male",
          "Female",
          "Female",
          "Female",
          "Female",
          "Male",
          "Male",
          "Female",
          "Female",
          "Female",
          "Female",
          "Male",
          "Female",
          "Female",
          "Female",
          "Female",
          "Male",
          "Female",
          "Male",
          "Female",
          "Male",
          "Male",
          "Female",
          "Female",
          "Female",
          "Male",
          "Female",
          "Male",
          "Male",
          "Male",
          "Female",
          "Female",
          "Female",
          "Male",
          "Female",
          "Male",
          "Female",
          "Female",
          "Female",
          "Female",
          "Male",
          "Male",
          "Male",
          "Male",
          "Female",
          "Female",
          "Male",
          "Female",
          "Female",
          "Male",
          "Female",
          "Male",
          "Female",
          "Male",
          "Male",
          "Female",
          "Female",
          "Male",
          "Male",
          "Female",
          "Female",
          "Male",
          "Female",
          "Female",
          "Female",
          "Male",
          "Male",
          "Male",
          "Male",
          "Male",
          "Male",
          "Male",
          "Female",
          "Female",
          "Female",
          "Female",
          "Female",
          "Male",
          "Female",
          "Male",
          "Female",
          "Male",
          "Female",
          "Male",
          "Male",
          "Male",
          "Male",
          "Male",
          "Male",
          "Female",
          "Female",
          "Female",
          "Female",
          "Female",
          "Male",
          "Male",
          "Male",
          "Male",
          "Female",
          "Female",
          "Female",
          "Male",
          "Male",
          "Male",
          "Female",
          "Male",
          "Male",
          "Male",
          "Female",
          "Male",
          "Male",
          "Male",
          "Male",
          "Female",
          "Male",
          "Female",
          "Female",
          "Female",
          "Male",
          "Male",
          "Female",
          "Male",
          "Male",
          "Male",
          "Male",
          "Female",
          "Female",
          "Female",
          "Female",
          "Female",
          "Female",
          "Female",
          "Female",
          "Male",
          "Male",
          "Male",
          "Female",
          "Male",
          "Male",
          "Female",
          "Female",
          "Female",
          "Male",
          "Female",
          "Female",
          "Male",
          "Female",
          "Male",
          "Female",
          "Female",
          "Male",
          "Female",
          "Male",
          "Female",
          "Female",
          "Male",
          "Female",
          "Male",
          "Male",
          "Female",
          "Male",
          "Male",
          "Female",
          "Female",
          "Male",
          "Male",
          "Female",
          "Female",
          "Male",
          "Female",
          "Male",
          "Female",
          "Female",
          "Male",
          "Male",
          "Female",
          "Male",
          "Male",
          "Male",
          "Female",
          "Male",
          "Male",
          "Male",
          "Female",
          "Male",
          "Female",
          "Female",
          "Female",
          "Female",
          "Female",
          "Male",
          "Female",
          "Female",
          "Female",
          "Male",
          "Male",
          "Female",
          "Female",
          "Female",
          "Male",
          "Male",
          "Male",
          "Female",
          "Male",
          "Female",
          "Male",
          "Male",
          "Female",
          "Male",
          "Male",
          "Female",
          "Female",
          "Female",
          "Female",
          "Male",
          "Male",
          "Male",
          "Male",
          "Male",
          "Female",
          "Female",
          "Female",
          "Female",
          "Female",
          "Male",
          "Male",
          "Male",
          "Male",
          "Female",
          "Male",
          "Male",
          "Female",
          "Female",
          "Male",
          "Male",
          "Male",
          "Male",
          "Female",
          "Male",
          "Female",
          "Male",
          "Female",
          "Female",
          "Male",
          "Female",
          "Female",
          "Female",
          "Male",
          "Female",
          "Male",
          "Male",
          "Female",
          "Male",
          "Male",
          "Female",
          "Male",
          "Male",
          "Male",
          "Female",
          "Male",
          "Male",
          "Male",
          "Male",
          "Male",
          "Female",
          "Female",
          "Male",
          "Male",
          "Female",
          "Male",
          "Male",
          "Female",
          "Female",
          "Male",
          "Male",
          "Male",
          "Male",
          "Male",
          "Male",
          "Male",
          "Male",
          "Male",
          "Female",
          "Female",
          "Female",
          "Female",
          "Male",
          "Male",
          "Female",
          "Male",
          "Female",
          "Female",
          "Male",
          "Male",
          "Female",
          "Male",
          "Male",
          "Female",
          "Male",
          "Female",
          "Male",
          "Male",
          "Male",
          "Female",
          "Female",
          "Male",
          "Female",
          "Male",
          "Male",
          "Female",
          "Male",
          "Female",
          "Female",
          "Male",
          "Male",
          "Female",
          "Male",
          "Female",
          "Male",
          "Male",
          "Male",
          "Female",
          "Female",
          "Male",
          "Male",
          "Male",
          "Male",
          "Male",
          "Male",
          "Female",
          "Male",
          "Male",
          "Female",
          "Male",
          "Male",
          "Female",
          "Male",
          "Male",
          "Male",
          "Female",
          "Female",
          "Female",
          "Female",
          "Male",
          "Male",
          "Male",
          "Female",
          "Male",
          "Female",
          "Female",
          "Male",
          "Female",
          "Female",
          "Male",
          "Female",
          "Male",
          "Male",
          "Female",
          "Female",
          "Female",
          "Female",
          "Male",
          "Male",
          "Male",
          "Male",
          "Female",
          "Male",
          "Male",
          "Male",
          "Male",
          "Female",
          "Female",
          "Male",
          "Female",
          "Male",
          "Female",
          "Male",
          "Female",
          "Male",
          "Male",
          "Male",
          "Female",
          "Female",
          "Female",
          "Female",
          "Female",
          "Female",
          "Female",
          "Female",
          "Female",
          "Female",
          "Male",
          "Female",
          "Female",
          "Male",
          "Male",
          "Female",
          "Female",
          "Male",
          "Male",
          "Female",
          "Female",
          "Female",
          "Male",
          "Male",
          "Male",
          "Male",
          "Female",
          "Female",
          "Male",
          "Male",
          "Male",
          "Male",
          "Female",
          "Female",
          "Male",
          "Male",
          "Male",
          "Male",
          "Male",
          "Male",
          "Male",
          "Female",
          "Male",
          "Female",
          "Female",
          "Male",
          "Female",
          "Female",
          "Female",
          "Female",
          "Female",
          "Female",
          "Male",
          "Female",
          "Male",
          "Female",
          "Male",
          "Female",
          "Female",
          "Female",
          "Female",
          "Male",
          "Male",
          "Male",
          "Male",
          "Male",
          "Female",
          "Female",
          "Male",
          "Male",
          "Male",
          "Male",
          "Female",
          "Male",
          "Female",
          "Male",
          "Male",
          "Male",
          "Female",
          "Male",
          "Male",
          "Male",
          "Male",
          "Male",
          "Male",
          "Male",
          "Male",
          "Male",
          "Male",
          "Female",
          "Male",
          "Male",
          "Male",
          "Male",
          "Male",
          "Female",
          "Female",
          "Male",
          "Female",
          "Male",
          "Female",
          "Female",
          "Female",
          "Male",
          "Female",
          "Male",
          "Female",
          "Female",
          "Female",
          "Male",
          "Male",
          "Female",
          "Female",
          "Male",
          "Female",
          "Female",
          "Female",
          "Male",
          "Male",
          "Male",
          "Female",
          "Female",
          "Female",
          "Male",
          "Male",
          "Male",
          "Female",
          "Male",
          "Male",
          "Male",
          "Male",
          "Male",
          "Female",
          "Male",
          "Male",
          "Male",
          "Male",
          "Female",
          "Male",
          "Female",
          "Male",
          "Male",
          "Female",
          "Female",
          "Male",
          "Male",
          "Male",
          "Female",
          "Female",
          "Male",
          "Female",
          "Male",
          "Male",
          "Male",
          "Female",
          "Male",
          "Female",
          "Female",
          "Female",
          "Female",
          "Male",
          "Male",
          "Female",
          "Male",
          "Male",
          "Female",
          "Female",
          "Male",
          "Male",
          "Male",
          "Male",
          "Male",
          "Female",
          "Male",
          "Female",
          "Female",
          "Male",
          "Male",
          "Male",
          "Male",
          "Male",
          "Female",
          "Male",
          "Female",
          "Male",
          "Female",
          "Male",
          "Male",
          "Male",
          "Male",
          "Male",
          "Female",
          "Female",
          "Female",
          "Male",
          "Female",
          "Male",
          "Male",
          "Female",
          "Female",
          "Male",
          "Male",
          "Male",
          "Female",
          "Female",
          "Male",
          "Male",
          "Female",
          "Female",
          "Male",
          "Male",
          "Male",
          "Female",
          "Male",
          "Male",
          "Male",
          "Male",
          "Male",
          "Male",
          "Female",
          "Female",
          "Female",
          "Female",
          "Male",
          "Male",
          "Male",
          "Female",
          "Male",
          "Female",
          "Male",
          "Male",
          "Female",
          "Male",
          "Male",
          "Male",
          "Male",
          "Male",
          "Male",
          "Male",
          "Male",
          "Male",
          "Male",
          "Female",
          "Male",
          "Female",
          "Female",
          "Male",
          "Male",
          "Male",
          "Female",
          "Male",
          "Male",
          "Male",
          "Male",
          "Male",
          "Male",
          "Male",
          "Male",
          "Male",
          "Female",
          "Male",
          "Female",
          "Male",
          "Female",
          "Female",
          "Male",
          "Female",
          "Male",
          "Male",
          "Female",
          "Male",
          "Male",
          "Female",
          "Male",
          "Male",
          "Male",
          "Female",
          "Male",
          "Male",
          "Male",
          "Male",
          "Male",
          "Male",
          "Male",
          "Male",
          "Male",
          "Male",
          "Female",
          "Male",
          "Female",
          "Male",
          "Female",
          "Female",
          "Male",
          "Female",
          "Male",
          "Female",
          "Female",
          "Female",
          "Male",
          "Male",
          "Male",
          "Male",
          "Male",
          "Male",
          "Female",
          "Male",
          "Female",
          "Male",
          "Male",
          "Male",
          "Male",
          "Female",
          "Female",
          "Female",
          "Female",
          "Female",
          "Female",
          "Male",
          "Male",
          "Female",
          "Female",
          "Female",
          "Male",
          "Male",
          "Male",
          "Female",
          "Female",
          "Female",
          "Male",
          "Female",
          "Female",
          "Female",
          "Female",
          "Male",
          "Female",
          "Male",
          "Female",
          "Female",
          "Female",
          "Female",
          "Male",
          "Male",
          "Female",
          "Male",
          "Male",
          "Male",
          "Male",
          "Male",
          "Female",
          "Male",
          "Male",
          "Male",
          "Male",
          "Female",
          "Male",
          "Female",
          "Female",
          "Female",
          "Female",
          "Male",
          "Female",
          "Male",
          "Female",
          "Male",
          "Female",
          "Male",
          "Male",
          "Female",
          "Female",
          "Female",
          "Female",
          "Male",
          "Female",
          "Female",
          "Male",
          "Female",
          "Male",
          "Female",
          "Male",
          "Male",
          "Male",
          "Male",
          "Male",
          "Female",
          "Male",
          "Female",
          "Male",
          "Female",
          "Female",
          "Male",
          "Male",
          "Female",
          "Male",
          "Male",
          "Male",
          "Male",
          "Female",
          "Male",
          "Female",
          "Female",
          "Male",
          "Male",
          "Female",
          "Female",
          "Female",
          "Female",
          "Male",
          "Male",
          "Male",
          "Female",
          "Female",
          "Male",
          "Male",
          "Female",
          "Male",
          "Male",
          "Female",
          "Male",
          "Male",
          "Male",
          "Male",
          "Female",
          "Male",
          "Male",
          "Female",
          "Female",
          "Male",
          "Male",
          "Male",
          "Male",
          "Female",
          "Female",
          "Female",
          "Male",
          "Male",
          "Male",
          "Male",
          "Female",
          "Male",
          "Male",
          "Male",
          "Male",
          "Female",
          "Female",
          "Male",
          "Female",
          "Male",
          "Male",
          "Female",
          "Female",
          "Female",
          "Female",
          "Female",
          "Female",
          "Male",
          "Female",
          "Female",
          "Male",
          "Male",
          "Female",
          "Male",
          "Male",
          "Male",
          "Male",
          "Male",
          "Female",
          "Male",
          "Female",
          "Female",
          "Male",
          "Male",
          "Male",
          "Female",
          "Male",
          "Female",
          "Female",
          "Female",
          "Female",
          "Male",
          "Male",
          "Male",
          "Male",
          "Female",
          "Male",
          "Female",
          "Male",
          "Female",
          "Male",
          "Male",
          "Male",
          "Female",
          "Female",
          "Female",
          "Male",
          "Female",
          "Male",
          "Male",
          "Male",
          "Female",
          "Female",
          "Female",
          "Female",
          "Male",
          "Female",
          "Female",
          "Male",
          "Male",
          "Female",
          "Male",
          "Male",
          "Male",
          "Female",
          "Male",
          "Female",
          "Female",
          "Female",
          "Male",
          "Male",
          "Male",
          "Female",
          "Female",
          "Male",
          "Male",
          "Female",
          "Female",
          "Male",
          "Female",
          "Male",
          "Male",
          "Female",
          "Male",
          "Female",
          "Male",
          "Male",
          "Female",
          "Male",
          "Female",
          "Male",
          "Female",
          "Female",
          "Male",
          "Female",
          "Male",
          "Female",
          "Female",
          "Male",
          "Female",
          "Female",
          "Male",
          "Male",
          "Female",
          "Male",
          "Female",
          "Female",
          "Male",
          "Female",
          "Female",
          "Female",
          "Female",
          "Male",
          "Female",
          "Female",
          "Male",
          "Male",
          "Male",
          "Male",
          "Male",
          "Female",
          "Male",
          "Female",
          "Female",
          "Male",
          "Male",
          "Male",
          "Male",
          "Male",
          "Male",
          "Male",
          "Male",
          "Male",
          "Male",
          "Male",
          "Female",
          "Female",
          "Male",
          "Male",
          "Female",
          "Male",
          "Female",
          "Male",
          "Female",
          "Male",
          "Male",
          "Male",
          "Female",
          "Male",
          "Male",
          "Male",
          "Male",
          "Male",
          "Male",
          "Female",
          "Male",
          "Female",
          "Male",
          "Female",
          "Female",
          "Male",
          "Female",
          "Male",
          "Female",
          "Male",
          "Male",
          "Male",
          "Female",
          "Male",
          "Female",
          "Male",
          "Female",
          "Female",
          "Female",
          "Male",
          "Male",
          "Male",
          "Female",
          "Male",
          "Female",
          "Male",
          "Male",
          "Female",
          "Male",
          "Male",
          "Female",
          "Male",
          "Female",
          "Male",
          "Male",
          "Female",
          "Male",
          "Female",
          "Male",
          "Male",
          "Male",
          "Male",
          "Male",
          "Female",
          "Female",
          "Female",
          "Female",
          "Male",
          "Female",
          "Female",
          "Female",
          "Male",
          "Female",
          "Male",
          "Male",
          "Male",
          "Female",
          "Male",
          "Male",
          "Male",
          "Female",
          "Male",
          "Female",
          "Male",
          "Female",
          "Female",
          "Male",
          "Female",
          "Male",
          "Female",
          "Female",
          "Male",
          "Male",
          "Female",
          "Female",
          "Male",
          "Female",
          "Male",
          "Male",
          "Male",
          "Female",
          "Female",
          "Female",
          "Female",
          "Female",
          "Female",
          "Male",
          "Male",
          "Male",
          "Male",
          "Female",
          "Male",
          "Female",
          "Female",
          "Male",
          "Male",
          "Male",
          "Male",
          "Female",
          "Female",
          "Male",
          "Male",
          "Male",
          "Female",
          "Male",
          "Male",
          "Female",
          "Male",
          "Male",
          "Male",
          "Male",
          "Male",
          "Male",
          "Male",
          "Male",
          "Female",
          "Male",
          "Male",
          "Male",
          "Female",
          "Male",
          "Female",
          "Male",
          "Female",
          "Male",
          "Female",
          "Male",
          "Female",
          "Male",
          "Male",
          "Male",
          "Female",
          "Female",
          "Male",
          "Male",
          "Female",
          "Female",
          "Male",
          "Female",
          "Female",
          "Male",
          "Male",
          "Male",
          "Male",
          "Male",
          "Female",
          "Female",
          "Male",
          "Male",
          "Female",
          "Female",
          "Female",
          "Male",
          "Female",
          "Male",
          "Male",
          "Female",
          "Male",
          "Female",
          "Female",
          "Female",
          "Female",
          "Female",
          "Male",
          "Male",
          "Female",
          "Male",
          "Male",
          "Male",
          "Male",
          "Female",
          "Male",
          "Male",
          "Male",
          "Male",
          "Male",
          "Female",
          "Female",
          "Female",
          "Male",
          "Male",
          "Male",
          "Male",
          "Male",
          "Female",
          "Male",
          "Female",
          "Male",
          "Male",
          "Female",
          "Male",
          "Male",
          "Male",
          "Male",
          "Female",
          "Male",
          "Female",
          "Male",
          "Male",
          "Female",
          "Female",
          "Male",
          "Female",
          "Male",
          "Female",
          "Male",
          "Female",
          "Female",
          "Male",
          "Female",
          "Female",
          "Male",
          "Female",
          "Female",
          "Male",
          "Female",
          "Female",
          "Male",
          "Female",
          "Male",
          "Female",
          "Male",
          "Male",
          "Male",
          "Male",
          "Female",
          "Female",
          "Female",
          "Male",
          "Female",
          "Female",
          "Female",
          "Male",
          "Male",
          "Female",
          "Male",
          "Male",
          "Male",
          "Female",
          "Female",
          "Male",
          "Female",
          "Female",
          "Female",
          "Male",
          "Male",
          "Female",
          "Female",
          "Male",
          "Male",
          "Male",
          "Male",
          "Female",
          "Male",
          "Male",
          "Male",
          "Male",
          "Male",
          "Female",
          "Female",
          "Female",
          "Female",
          "Male",
          "Male",
          "Male",
          "Female",
          "Male",
          "Female",
          "Male",
          "Female",
          "Female",
          "Female",
          "Male",
          "Male",
          "Male",
          "Female",
          "Male",
          "Female",
          "Male",
          "Male",
          "Female",
          "Male",
          "Male",
          "Male",
          "Male",
          "Male",
          "Male",
          "Female",
          "Male",
          "Female",
          "Male",
          "Female",
          "Male",
          "Male",
          "Male",
          "Male",
          "Male",
          "Male",
          "Female",
          "Female",
          "Female",
          "Female",
          "Female",
          "Female",
          "Male",
          "Male",
          "Female",
          "Female",
          "Female",
          "Male",
          "Male",
          "Male",
          "Male",
          "Male",
          "Male",
          "Female",
          "Female",
          "Male",
          "Male",
          "Male",
          "Female",
          "Female",
          "Male",
          "Female",
          "Male",
          "Female",
          "Male",
          "Male",
          "Female",
          "Male",
          "Female",
          "Female",
          "Male",
          "Male",
          "Female",
          "Female",
          "Male",
          "Male",
          "Male",
          "Male",
          "Female",
          "Male",
          "Male",
          "Female",
          "Female",
          "Male",
          "Male",
          "Male",
          "Female",
          "Male",
          "Male",
          "Male",
          "Female",
          "Male",
          "Male",
          "Male",
          "Male",
          "Female",
          "Female",
          "Female",
          "Male",
          "Female",
          "Male",
          "Male",
          "Male",
          "Female",
          "Male",
          "Female",
          "Male",
          "Male",
          "Female",
          "Female",
          "Male",
          "Female",
          "Male",
          "Female",
          "Female",
          "Male",
          "Male",
          "Female",
          "Female",
          "Male",
          "Male",
          "Male",
          "Male",
          "Female",
          "Male",
          "Female",
          "Male",
          "Male",
          "Female",
          "Male",
          "Male",
          "Male",
          "Female",
          "Female",
          "Male",
          "Female",
          "Female",
          "Male",
          "Male",
          "Male",
          "Female",
          "Male",
          "Male",
          "Female",
          "Male",
          "Male",
          "Male",
          "Female",
          "Male",
          "Female",
          "Male",
          "Female",
          "Male",
          "Female",
          "Male",
          "Male",
          "Male",
          "Female",
          "Male",
          "Female",
          "Female",
          "Male",
          "Male",
          "Female",
          "Female",
          "Female",
          "Female",
          "Male",
          "Male",
          "Male",
          "Female",
          "Male",
          "Male",
          "Male",
          "Male",
          "Female",
          "Female",
          "Male",
          "Male",
          "Female",
          "Male",
          "Male",
          "Female",
          "Female",
          "Female",
          "Female",
          "Female",
          "Male",
          "Female",
          "Female",
          "Female",
          "Female",
          "Female",
          "Male",
          "Male",
          "Female",
          "Male",
          "Male",
          "Male",
          "Male",
          "Male",
          "Male",
          "Female",
          "Male",
          "Male",
          "Male",
          "Male",
          "Female",
          "Female",
          "Male",
          "Male",
          "Female",
          "Male",
          "Female",
          "Male",
          "Female",
          "Male",
          "Female",
          "Male",
          "Male",
          "Female",
          "Male",
          "Male",
          "Female",
          "Female",
          "Male",
          "Female",
          "Male",
          "Male",
          "Female",
          "Male",
          "Female",
          "Female",
          "Female",
          "Male",
          "Female",
          "Male",
          "Male",
          "Male",
          "Male",
          "Female",
          "Female",
          "Male",
          "Female",
          "Female",
          "Male",
          "Male",
          "Male",
          "Female",
          "Male",
          "Female",
          "Male",
          "Female",
          "Male",
          "Male",
          "Female",
          "Female",
          "Male",
          "Male",
          "Female",
          "Female",
          "Female",
          "Male",
          "Female",
          "Male",
          "Female",
          "Female",
          "Female",
          "Female",
          "Female",
          "Female",
          "Female",
          "Female",
          "Female",
          "Male",
          "Male",
          "Male",
          "Male",
          "Male",
          "Female",
          "Female",
          "Female",
          "Female",
          "Female",
          "Male",
          "Male",
          "Female",
          "Male",
          "Female",
          "Female",
          "Male",
          "Male",
          "Male",
          "Female",
          "Female",
          "Male",
          "Female",
          "Male",
          "Female",
          "Male",
          "Male",
          "Male",
          "Female",
          "Male",
          "Female",
          "Male",
          "Female",
          "Male",
          "Female",
          "Male",
          "Male",
          "Male",
          "Female",
          "Male",
          "Male",
          "Male",
          "Male",
          "Female",
          "Male",
          "Female",
          "Female",
          "Male",
          "Male",
          "Male",
          "Male",
          "Male",
          "Female",
          "Female",
          "Male",
          "Male",
          "Female",
          "Male",
          "Female",
          "Male",
          "Male",
          "Male",
          "Female",
          "Female",
          "Male",
          "Female",
          "Male",
          "Female",
          "Male",
          "Male",
          "Male",
          "Female",
          "Female",
          "Male",
          "Male",
          "Male",
          "Female",
          "Male",
          "Male",
          "Male",
          "Male",
          "Female",
          "Female",
          "Female",
          "Female",
          "Male",
          "Female",
          "Male",
          "Female",
          "Male",
          "Female",
          "Male",
          "Male",
          "Female",
          "Male",
          "Female",
          "Female",
          "Female",
          "Male",
          "Female",
          "Male",
          "Male",
          "Male",
          "Male",
          "Male",
          "Male",
          "Female",
          "Male",
          "Male",
          "Male",
          "Female",
          "Male",
          "Female",
          "Male",
          "Female",
          "Female",
          "Male",
          "Male",
          "Female",
          "Male",
          "Male",
          "Male",
          "Female",
          "Male",
          "Male",
          "Female",
          "Male",
          "Male",
          "Male",
          "Female",
          "Female",
          "Male",
          "Male",
          "Female",
          "Female",
          "Female",
          "Male",
          "Female",
          "Female",
          "Female",
          "Female",
          "Female",
          "Male",
          "Male",
          "Male",
          "Female",
          "Male",
          "Male",
          "Female",
          "Male",
          "Male",
          "Male",
          "Female",
          "Female",
          "Female",
          "Male",
          "Male",
          "Female",
          "Male",
          "Female",
          "Male",
          "Male",
          "Female",
          "Male",
          "Female",
          "Female",
          "Male",
          "Female",
          "Male",
          "Male",
          "Male",
          "Female",
          "Male",
          "Male",
          "Female",
          "Male",
          "Female",
          "Female",
          "Female",
          "Female",
          "Male",
          "Female",
          "Male",
          "Female",
          "Male",
          "Female",
          "Male",
          "Female",
          "Male",
          "Male",
          "Female",
          "Female",
          "Male",
          "Male",
          "Male",
          "Male",
          "Male",
          "Female",
          "Female",
          "Male",
          "Female",
          "Male",
          "Male",
          "Male",
          "Male",
          "Female",
          "Male",
          "Male",
          "Male",
          "Female",
          "Female",
          "Female",
          "Female",
          "Female",
          "Male",
          "Male",
          "Male",
          "Male",
          "Female",
          "Female",
          "Male",
          "Male",
          "Male",
          "Female",
          "Male",
          "Male",
          "Male",
          "Male",
          "Male",
          "Male",
          "Male",
          "Female",
          "Male",
          "Male",
          "Female",
          "Female",
          "Female",
          "Male",
          "Female",
          "Female",
          "Male",
          "Male",
          "Male",
          "Female",
          "Female",
          "Male",
          "Female",
          "Male",
          "Female",
          "Female",
          "Male",
          "Female",
          "Male",
          "Male",
          "Male",
          "Male",
          "Male",
          "Female",
          "Male",
          "Female",
          "Female",
          "Female",
          "Male",
          "Male",
          "Female",
          "Female",
          "Male",
          "Female",
          "Male",
          "Male",
          "Female",
          "Male",
          "Male",
          "Male",
          "Female",
          "Male",
          "Male",
          "Male",
          "Male",
          "Male",
          "Female",
          "Male",
          "Male",
          "Male",
          "Male",
          "Male",
          "Female",
          "Female",
          "Male",
          "Female",
          "Male",
          "Male",
          "Male",
          "Female",
          "Male",
          "Male",
          "Female",
          "Male",
          "Female",
          "Male",
          "Male",
          "Male",
          "Male",
          "Male",
          "Female",
          "Female",
          "Male",
          "Female",
          "Male",
          "Female",
          "Male",
          "Female",
          "Male",
          "Male",
          "Female",
          "Male",
          "Female",
          "Male",
          "Female",
          "Male",
          "Female",
          "Female",
          "Female",
          "Female",
          "Female",
          "Male",
          "Male",
          "Female",
          "Male",
          "Male",
          "Female",
          "Male",
          "Male",
          "Male",
          "Female",
          "Male",
          "Male",
          "Female",
          "Male",
          "Male",
          "Male",
          "Male",
          "Male",
          "Female",
          "Male",
          "Male",
          "Female",
          "Female",
          "Male",
          "Female",
          "Female",
          "Male",
          "Female",
          "Male",
          "Male",
          "Male",
          "Female",
          "Male",
          "Male",
          "Male",
          "Male",
          "Female",
          "Male",
          "Male",
          "Female",
          "Female",
          "Male",
          "Male",
          "Male",
          "Male",
          "Male",
          "Male",
          "Male",
          "Male",
          "Male",
          "Female",
          "Male",
          "Male",
          "Female",
          "Female",
          "Male",
          "Female",
          "Female",
          "Female",
          "Male",
          "Female",
          "Female",
          "Male",
          "Male",
          "Female",
          "Male",
          "Female",
          "Female",
          "Female",
          "Male",
          "Female",
          "Female",
          "Male",
          "Female",
          "Male",
          "Male",
          "Male",
          "Female",
          "Female",
          "Female",
          "Male",
          "Male",
          "Male",
          "Female",
          "Female",
          "Male",
          "Female",
          "Female",
          "Male",
          "Male",
          "Male",
          "Male",
          "Female",
          "Female",
          "Female",
          "Male",
          "Female",
          "Male",
          "Female",
          "Female",
          "Female",
          "Male",
          "Male",
          "Male",
          "Female",
          "Female",
          "Male",
          "Male",
          "Male",
          "Male",
          "Male",
          "Male",
          "Male",
          "Male",
          "Female",
          "Female",
          "Male",
          "Male",
          "Female",
          "Female",
          "Female",
          "Male",
          "Male",
          "Female",
          "Male",
          "Female",
          "Female",
          "Male",
          "Male",
          "Male",
          "Male",
          "Female",
          "Female",
          "Male",
          "Female",
          "Female",
          "Female",
          "Female",
          "Male",
          "Male",
          "Male",
          "Female",
          "Male",
          "Female",
          "Female",
          "Female",
          "Male",
          "Female",
          "Male",
          "Female",
          "Female",
          "Female",
          "Female",
          "Male",
          "Male",
          "Female",
          "Male",
          "Female",
          "Male",
          "Male",
          "Male",
          "Male",
          "Female",
          "Male",
          "Male",
          "Male",
          "Male",
          "Male",
          "Female",
          "Male",
          "Male",
          "Male",
          "Female",
          "Male",
          "Male",
          "Female",
          "Male",
          "Female",
          "Female",
          "Male",
          "Male",
          "Female",
          "Female",
          "Female",
          "Female",
          "Male",
          "Male",
          "Female",
          "Male",
          "Female",
          "Male",
          "Male",
          "Male",
          "Female",
          "Female",
          "Female",
          "Female",
          "Male",
          "Female",
          "Male",
          "Male",
          "Female",
          "Male",
          "Male",
          "Female",
          "Male",
          "Male",
          "Male",
          "Male",
          "Male",
          "Female",
          "Male",
          "Male",
          "Male",
          "Male",
          "Male",
          "Male",
          "Male",
          "Male",
          "Male",
          "Male",
          "Male",
          "Male",
          "Male",
          "Male",
          "Male",
          "Male",
          "Female",
          "Male",
          "Male",
          "Male",
          "Male",
          "Female",
          "Female",
          "Female",
          "Male",
          "Female",
          "Male",
          "Female",
          "Male",
          "Male",
          "Male",
          "Male",
          "Male",
          "Female",
          "Male",
          "Male",
          "Male",
          "Male",
          "Female",
          "Male",
          "Male",
          "Female",
          "Male",
          "Female",
          "Male",
          "Male",
          "Female",
          "Female",
          "Male",
          "Male",
          "Male",
          "Male",
          "Male",
          "Male",
          "Female",
          "Male",
          "Male",
          "Female",
          "Male",
          "Male",
          "Female",
          "Male",
          "Male",
          "Female",
          "Female",
          "Female",
          "Male",
          "Male",
          "Female",
          "Male",
          "Female",
          "Male",
          "Female",
          "Female",
          "Male",
          "Female",
          "Male",
          "Female",
          "Female",
          "Male",
          "Female",
          "Male",
          "Male",
          "Male",
          "Female",
          "Male",
          "Female",
          "Female",
          "Male",
          "Male",
          "Male",
          "Male",
          "Female",
          "Female",
          "Male",
          "Female",
          "Male",
          "Male",
          "Male",
          "Female",
          "Male",
          "Male",
          "Female",
          "Female",
          "Male",
          "Male",
          "Male",
          "Male",
          "Female",
          "Male",
          "Male",
          "Male",
          "Female",
          "Male",
          "Female",
          "Female",
          "Male",
          "Male",
          "Male",
          "Female",
          "Male",
          "Male",
          "Female",
          "Female",
          "Male",
          "Female",
          "Male",
          "Male",
          "Female",
          "Male",
          "Male",
          "Female",
          "Male",
          "Male",
          "Male",
          "Female",
          "Male",
          "Male",
          "Male",
          "Female",
          "Female",
          "Male",
          "Male",
          "Female",
          "Female",
          "Male",
          "Male",
          "Male",
          "Female",
          "Male",
          "Female",
          "Male",
          "Female",
          "Male",
          "Female",
          "Female",
          "Male",
          "Male",
          "Male",
          "Male",
          "Female",
          "Female",
          "Female",
          "Female",
          "Male",
          "Male",
          "Female",
          "Female",
          "Female",
          "Male",
          "Male",
          "Male",
          "Male",
          "Male",
          "Female",
          "Male",
          "Male",
          "Female",
          "Female",
          "Male",
          "Male",
          "Male",
          "Female",
          "Female",
          "Female",
          "Female",
          "Male",
          "Female",
          "Male",
          "Female",
          "Male",
          "Female",
          "Male",
          "Female",
          "Female",
          "Male",
          "Male",
          "Female",
          "Male",
          "Male",
          "Female",
          "Female",
          "Female",
          "Female",
          "Female",
          "Male",
          "Male",
          "Male",
          "Female",
          "Male",
          "Male",
          "Female",
          "Female",
          "Female",
          "Female",
          "Male",
          "Male",
          "Female",
          "Female",
          "Female",
          "Male",
          "Male",
          "Female",
          "Male",
          "Male",
          "Female",
          "Female",
          "Male",
          "Female",
          "Male",
          "Male",
          "Female",
          "Female",
          "Male",
          "Male",
          "Male",
          "Female",
          "Male",
          "Female",
          "Male",
          "Female",
          "Male",
          "Male",
          "Female",
          "Male",
          "Male",
          "Male",
          "Female",
          "Female",
          "Male",
          "Female",
          "Male",
          "Female",
          "Female",
          "Female",
          "Female",
          "Male",
          "Male",
          "Female",
          "Male",
          "Male",
          "Male",
          "Female",
          "Male",
          "Male",
          "Female",
          "Male",
          "Female",
          "Male",
          "Male",
          "Male",
          "Male",
          "Female",
          "Female",
          "Male",
          "Male",
          "Male",
          "Male",
          "Male",
          "Female",
          "Male",
          "Female",
          "Female",
          "Male",
          "Female",
          "Male",
          "Male",
          "Female",
          "Male",
          "Male",
          "Female",
          "Female",
          "Female",
          "Female",
          "Female",
          "Female",
          "Male",
          "Male",
          "Female",
          "Male",
          "Female",
          "Female",
          "Male",
          "Male",
          "Female",
          "Male",
          "Female",
          "Female",
          "Male",
          "Female",
          "Male",
          "Male",
          "Female",
          "Male",
          "Male",
          "Male",
          "Male",
          "Female",
          "Female",
          "Male",
          "Male",
          "Female",
          "Male",
          "Male",
          "Male",
          "Female",
          "Female",
          "Female",
          "Male",
          "Male",
          "Male",
          "Female",
          "Male",
          "Female",
          "Male",
          "Male",
          "Female",
          "Female",
          "Male",
          "Female",
          "Female",
          "Female",
          "Male",
          "Male",
          "Female",
          "Male",
          "Male",
          "Female",
          "Male",
          "Male",
          "Female",
          "Female",
          "Female",
          "Female",
          "Female",
          "Female",
          "Female",
          "Female",
          "Female",
          "Female",
          "Female",
          "Male",
          "Female",
          "Male",
          "Male",
          "Female",
          "Male",
          "Male",
          "Female",
          "Male",
          "Female",
          "Male",
          "Female",
          "Female",
          "Male",
          "Female",
          "Female",
          "Male",
          "Male",
          "Male",
          "Male",
          "Female",
          "Male",
          "Male",
          "Male",
          "Female",
          "Male",
          "Female",
          "Male",
          "Male",
          "Male",
          "Male",
          "Female",
          "Female",
          "Female",
          "Male",
          "Male",
          "Male",
          "Male",
          "Male",
          "Male",
          "Female",
          "Male",
          "Female",
          "Female",
          "Male",
          "Male",
          "Male",
          "Female",
          "Female",
          "Female",
          "Male",
          "Female",
          "Female",
          "Male",
          "Female",
          "Female",
          "Male",
          "Female",
          "Male",
          "Female",
          "Male",
          "Male",
          "Female",
          "Female",
          "Male",
          "Female",
          "Female",
          "Female",
          "Female",
          "Female",
          "Male",
          "Female",
          "Female",
          "Male",
          "Female",
          "Male",
          "Female",
          "Male",
          "Male",
          "Male",
          "Male",
          "Female",
          "Male",
          "Male",
          "Male",
          "Male",
          "Female",
          "Female",
          "Male",
          "Female",
          "Male",
          "Female",
          "Male",
          "Male",
          "Female",
          "Female",
          "Female",
          "Female",
          "Male",
          "Male",
          "Female",
          "Male",
          "Male",
          "Female",
          "Male",
          "Male",
          "Male",
          "Female",
          "Female",
          "Female",
          "Male",
          "Male",
          "Female",
          "Male",
          "Female",
          "Female",
          "Female",
          "Male",
          "Female",
          "Male",
          "Male",
          "Female",
          "Female",
          "Male",
          "Female",
          "Female",
          "Male",
          "Female",
          "Female",
          "Male",
          "Male",
          "Female",
          "Female",
          "Female",
          "Female",
          "Male",
          "Male",
          "Female",
          "Female",
          "Male",
          "Female",
          "Male",
          "Male",
          "Female",
          "Male",
          "Male",
          "Male",
          "Female",
          "Male",
          "Female",
          "Male",
          "Male",
          "Male",
          "Male",
          "Male",
          "Male",
          "Female",
          "Female",
          "Female",
          "Male",
          "Male",
          "Male",
          "Female",
          "Female",
          "Male",
          "Female",
          "Female",
          "Female",
          "Male",
          "Female",
          "Male",
          "Male",
          "Male",
          "Female",
          "Female",
          "Female",
          "Male",
          "Male",
          "Female",
          "Female",
          "Male",
          "Female",
          "Male",
          "Male",
          "Female",
          "Female",
          "Female",
          "Male",
          "Male",
          "Female",
          "Male",
          "Female",
          "Male",
          "Male",
          "Female",
          "Male",
          "Male",
          "Female",
          "Female",
          "Male",
          "Female",
          "Male",
          "Female",
          "Male",
          "Male",
          "Male",
          "Male",
          "Male",
          "Male",
          "Male",
          "Male",
          "Male",
          "Female",
          "Male",
          "Male",
          "Female",
          "Male",
          "Male",
          "Male",
          "Male",
          "Female",
          "Female",
          "Female",
          "Male",
          "Male",
          "Male",
          "Male",
          "Female",
          "Male",
          "Male",
          "Female",
          "Male",
          "Male",
          "Male",
          "Male",
          "Female",
          "Female",
          "Male",
          "Male",
          "Male",
          "Female",
          "Male",
          "Female",
          "Male",
          "Female",
          "Female",
          "Male",
          "Female",
          "Male",
          "Female",
          "Male",
          "Male",
          "Female",
          "Male",
          "Male",
          "Male",
          "Female",
          "Male",
          "Male",
          "Female",
          "Female",
          "Female",
          "Male",
          "Male",
          "Female",
          "Male",
          "Male",
          "Female",
          "Female",
          "Female",
          "Male",
          "Female",
          "Male",
          "Female",
          "Male",
          "Female",
          "Female",
          "Male",
          "Male",
          "Female",
          "Female",
          "Male",
          "Female",
          "Female",
          "Female",
          "Female",
          "Male",
          "Female",
          "Male",
          "Male",
          "Male",
          "Female",
          "Female",
          "Male",
          "Male",
          "Female",
          "Male",
          "Male",
          "Male",
          "Male",
          "Male",
          "Female",
          "Male",
          "Female",
          "Male",
          "Female",
          "Male",
          "Male",
          "Female",
          "Male",
          "Male",
          "Male",
          "Female",
          "Male",
          "Male",
          "Female",
          "Male",
          "Female",
          "Female",
          "Female",
          "Male",
          "Male",
          "Male",
          "Female",
          "Male",
          "Male",
          "Male",
          "Female",
          "Male",
          "Male",
          "Male",
          "Male",
          "Female",
          "Female",
          "Male",
          "Female",
          "Female",
          "Female",
          "Female",
          "Male",
          "Male",
          "Female",
          "Male",
          "Female",
          "Male",
          "Male",
          "Male",
          "Male",
          "Female",
          "Female",
          "Male",
          "Female",
          "Female",
          "Female",
          "Female",
          "Female",
          "Male",
          "Male",
          "Male",
          "Male",
          "Male",
          "Female",
          "Female",
          "Male",
          "Male",
          "Male",
          "Male",
          "Female",
          "Male",
          "Male",
          "Female",
          "Male",
          "Male",
          "Female",
          "Male",
          "Male",
          "Female",
          "Male",
          "Male",
          "Male",
          "Female",
          "Male",
          "Male",
          "Male",
          "Female",
          "Male",
          "Female",
          "Male",
          "Female",
          "Female",
          "Female",
          "Male",
          "Female",
          "Male",
          "Female",
          "Male",
          "Male",
          "Male",
          "Male",
          "Female",
          "Male",
          "Male",
          "Male",
          "Male",
          "Female",
          "Female",
          "Female",
          "Male",
          "Male",
          "Male",
          "Female",
          "Male",
          "Male",
          "Male",
          "Female",
          "Female",
          "Female",
          "Male",
          "Female",
          "Male",
          "Male",
          "Male",
          "Male",
          "Male",
          "Male",
          "Male",
          "Male",
          "Female",
          "Male",
          "Male",
          "Female",
          "Male",
          "Male",
          "Male",
          "Male",
          "Female",
          "Male",
          "Male",
          "Male",
          "Female",
          "Male",
          "Female",
          "Male",
          "Male",
          "Female",
          "Male",
          "Male",
          "Female",
          "Male",
          "Female",
          "Female",
          "Male",
          "Female",
          "Female",
          "Female",
          "Female",
          "Male",
          "Female",
          "Female",
          "Female",
          "Male",
          "Male",
          "Male",
          "Female",
          "Male",
          "Male",
          "Male",
          "Female",
          "Male",
          "Female",
          "Male",
          "Female",
          "Male",
          "Male",
          "Male",
          "Male",
          "Male",
          "Male",
          "Female",
          "Female",
          "Male",
          "Male",
          "Male",
          "Female",
          "Female",
          "Male",
          "Male",
          "Female",
          "Female",
          "Male",
          "Female",
          "Male",
          "Male",
          "Male",
          "Male",
          "Male",
          "Male",
          "Male",
          "Female",
          "Male",
          "Male",
          "Male",
          "Male",
          "Male",
          "Female",
          "Female",
          "Male",
          "Female",
          "Female",
          "Female",
          "Female",
          "Female",
          "Female",
          "Female",
          "Male",
          "Male",
          "Male",
          "Male",
          "Male",
          "Female",
          "Male",
          "Male",
          "Male",
          "Male",
          "Female",
          "Female",
          "Male",
          "Male",
          "Male",
          "Female",
          "Male",
          "Male",
          "Female",
          "Female",
          "Male",
          "Male",
          "Female",
          "Female",
          "Male",
          "Male",
          "Female",
          "Female",
          "Male",
          "Female",
          "Female",
          "Male",
          "Female",
          "Female",
          "Male",
          "Male",
          "Male",
          "Male",
          "Male",
          "Female",
          "Male",
          "Male",
          "Female",
          "Female",
          "Female",
          "Female",
          "Male",
          "Male",
          "Female",
          "Male",
          "Male",
          "Female",
          "Male",
          "Female",
          "Male",
          "Female",
          "Female",
          "Male",
          "Male",
          "Female",
          "Male",
          "Female",
          "Female",
          "Female",
          "Male",
          "Female",
          "Female",
          "Female",
          "Male",
          "Female",
          "Male",
          "Female",
          "Male",
          "Male",
          "Male",
          "Female",
          "Male",
          "Male",
          "Female",
          "Male",
          "Male",
          "Female",
          "Male",
          "Male",
          "Male",
          "Male",
          "Female",
          "Female",
          "Male",
          "Male",
          "Male",
          "Female",
          "Male",
          "Female",
          "Male",
          "Male",
          "Male",
          "Male",
          "Female",
          "Female",
          "Female",
          "Male",
          "Male",
          "Female",
          "Female",
          "Male",
          "Female",
          "Male",
          "Male",
          "Male",
          "Female",
          "Male",
          "Male",
          "Female",
          "Female",
          "Female",
          "Male",
          "Male",
          "Male",
          "Male",
          "Male",
          "Male",
          "Female",
          "Female",
          "Female",
          "Female",
          "Male",
          "Male",
          "Male",
          "Male",
          "Male",
          "Male",
          "Male",
          "Male",
          "Male",
          "Male",
          "Male",
          "Female",
          "Male",
          "Male",
          "Male",
          "Female",
          "Male",
          "Male",
          "Female",
          "Male",
          "Female",
          "Female",
          "Male",
          "Female",
          "Male",
          "Male",
          "Female",
          "Female",
          "Male",
          "Male",
          "Female",
          "Male",
          "Male",
          "Male",
          "Male",
          "Male",
          "Male",
          "Female",
          "Male",
          "Female",
          "Female",
          "Male",
          "Male",
          "Female",
          "Male",
          "Female",
          "Female",
          "Male",
          "Male",
          "Female",
          "Female",
          "Female",
          "Male",
          "Female",
          "Male",
          "Female",
          "Female",
          "Male",
          "Male",
          "Male",
          "Female",
          "Male",
          "Female",
          "Female",
          "Female",
          "Female",
          "Female",
          "Male",
          "Male",
          "Male",
          "Male",
          "Male",
          "Male",
          "Male",
          "Female",
          "Male",
          "Male",
          "Female",
          "Male",
          "Male",
          "Male",
          "Female",
          "Male",
          "Male",
          "Female",
          "Male",
          "Female",
          "Male",
          "Male",
          "Male",
          "Male",
          "Male",
          "Male",
          "Male",
          "Female",
          "Male",
          "Female",
          "Male",
          "Male",
          "Male",
          "Male",
          "Female",
          "Male",
          "Male",
          "Female",
          "Male",
          "Female",
          "Male",
          "Female",
          "Male",
          "Male",
          "Male",
          "Male",
          "Female",
          "Male",
          "Male",
          "Female",
          "Male",
          "Male",
          "Male",
          "Female",
          "Female",
          "Male",
          "Female",
          "Male",
          "Male",
          "Female",
          "Male",
          "Female",
          "Male",
          "Male",
          "Male",
          "Male",
          "Female",
          "Female",
          "Male",
          "Female",
          "Male",
          "Female",
          "Female",
          "Female",
          "Female",
          "Female",
          "Male",
          "Male",
          "Male",
          "Male",
          "Female",
          "Female",
          "Male",
          "Female",
          "Female",
          "Male",
          "Female",
          "Female",
          "Female",
          "Female",
          "Male",
          "Male",
          "Female",
          "Female",
          "Female",
          "Male",
          "Male",
          "Female",
          "Male",
          "Male",
          "Male",
          "Female",
          "Male",
          "Male",
          "Female",
          "Male",
          "Male",
          "Female",
          "Male",
          "Male",
          "Male",
          "Male",
          "Female",
          "Male",
          "Male",
          "Female",
          "Female",
          "Female",
          "Female",
          "Male",
          "Male",
          "Male",
          "Male",
          "Male",
          "Male",
          "Female",
          "Female",
          "Male",
          "Female",
          "Male",
          "Male",
          "Female",
          "Male",
          "Male",
          "Male",
          "Female",
          "Male",
          "Female",
          "Male",
          "Female",
          "Male",
          "Male",
          "Male",
          "Female",
          "Female",
          "Male",
          "Female",
          "Male",
          "Female",
          "Female",
          "Male",
          "Male",
          "Female",
          "Male",
          "Female",
          "Male",
          "Male",
          "Male",
          "Female",
          "Female",
          "Male",
          "Male",
          "Male",
          "Female",
          "Male",
          "Female",
          "Male",
          "Female",
          "Male",
          "Male",
          "Male",
          "Male",
          "Male",
          "Male",
          "Female",
          "Male",
          "Male",
          "Female",
          "Male",
          "Female",
          "Female",
          "Male",
          "Male",
          "Male",
          "Male",
          "Male",
          "Male",
          "Male",
          "Male",
          "Female",
          "Female",
          "Male",
          "Male",
          "Male",
          "Female",
          "Male",
          "Female",
          "Male",
          "Male",
          "Male",
          "Male",
          "Male",
          "Male",
          "Male",
          "Male",
          "Male",
          "Male",
          "Male",
          "Female",
          "Male",
          "Female",
          "Female",
          "Male",
          "Male",
          "Male",
          "Male",
          "Female",
          "Female",
          "Male",
          "Female",
          "Female",
          "Female",
          "Male",
          "Male",
          "Male",
          "Male",
          "Male",
          "Female",
          "Female",
          "Male",
          "Female",
          "Female",
          "Male",
          "Male",
          "Male",
          "Male",
          "Female",
          "Female",
          "Female",
          "Male",
          "Female",
          "Female",
          "Female",
          "Female",
          "Male",
          "Male",
          "Male",
          "Male",
          "Female",
          "Male",
          "Male",
          "Female",
          "Female",
          "Female",
          "Male",
          "Female",
          "Male",
          "Female",
          "Male",
          "Male",
          "Female",
          "Female",
          "Male",
          "Female",
          "Female",
          "Male",
          "Male",
          "Female",
          "Female",
          "Male",
          "Male",
          "Male",
          "Female",
          "Female",
          "Female",
          "Female",
          "Female",
          "Female",
          "Male",
          "Male",
          "Female",
          "Female",
          "Female",
          "Male",
          "Female",
          "Male",
          "Male",
          "Female",
          "Male",
          "Male",
          "Male",
          "Female",
          "Female",
          "Male",
          "Male",
          "Female",
          "Female",
          "Male",
          "Female",
          "Female",
          "Male",
          "Female",
          "Female",
          "Male",
          "Female",
          "Female",
          "Female",
          "Male",
          "Male",
          "Male",
          "Female",
          "Male",
          "Male",
          "Female",
          "Male",
          "Female",
          "Male",
          "Female",
          "Female",
          "Male",
          "Female",
          "Male",
          "Female",
          "Male",
          "Male",
          "Female",
          "Female",
          "Male",
          "Male",
          "Male",
          "Female",
          "Male",
          "Female",
          "Female",
          "Male",
          "Male",
          "Female",
          "Male",
          "Male",
          "Female",
          "Male",
          "Female",
          "Male",
          "Female",
          "Female",
          "Male",
          "Male",
          "Female",
          "Male",
          "Female",
          "Male",
          "Female",
          "Female",
          "Male",
          "Female",
          "Female",
          "Female",
          "Male",
          "Male",
          "Male",
          "Female",
          "Male",
          "Female",
          "Male",
          "Female",
          "Female",
          "Male",
          "Male",
          "Female",
          "Male",
          "Female",
          "Male",
          "Male",
          "Male",
          "Female",
          "Male",
          "Female",
          "Male",
          "Female",
          "Female",
          "Male",
          "Female",
          "Male",
          "Male",
          "Male",
          "Male",
          "Male",
          "Male",
          "Male",
          "Female",
          "Male",
          "Male",
          "Female",
          "Male",
          "Male",
          "Male",
          "Male",
          "Male",
          "Female",
          "Male",
          "Female",
          "Male",
          "Female",
          "Female",
          "Male",
          "Male",
          "Female",
          "Female",
          "Male",
          "Male",
          "Female",
          "Male",
          "Male",
          "Male",
          "Female",
          "Male",
          "Female",
          "Male",
          "Male",
          "Male",
          "Male",
          "Female",
          "Female",
          "Male",
          "Male",
          "Female",
          "Male",
          "Male",
          "Male",
          "Male",
          "Male",
          "Male",
          "Female",
          "Male",
          "Male",
          "Female",
          "Male",
          "Male",
          "Female",
          "Male",
          "Male",
          "Male",
          "Female",
          "Male",
          "Male",
          "Male",
          "Male",
          "Male",
          "Male",
          "Male",
          "Female",
          "Male",
          "Male",
          "Male",
          "Male",
          "Male",
          "Male",
          "Female",
          "Male",
          "Female",
          "Male",
          "Female",
          "Male",
          "Female",
          "Male",
          "Female",
          "Male",
          "Male",
          "Male",
          "Male",
          "Male",
          "Female",
          "Female",
          "Male",
          "Male",
          "Female",
          "Male",
          "Male",
          "Female",
          "Female",
          "Male",
          "Female",
          "Male",
          "Male",
          "Female",
          "Female",
          "Male",
          "Male",
          "Male",
          "Male",
          "Female",
          "Female",
          "Female",
          "Male",
          "Female",
          "Female",
          "Male",
          "Male",
          "Female",
          "Male",
          "Male",
          "Female",
          "Female",
          "Male",
          "Female",
          "Male",
          "Female",
          "Female",
          "Male",
          "Female",
          "Male",
          "Female",
          "Male",
          "Female",
          "Female",
          "Male",
          "Female",
          "Male",
          "Female",
          "Female",
          "Male",
          "Male",
          "Female",
          "Male",
          "Male",
          "Male",
          "Male",
          "Male",
          "Female",
          "Male",
          "Female",
          "Female",
          "Female",
          "Male",
          "Female",
          "Female",
          "Male",
          "Female",
          "Male",
          "Female",
          "Male",
          "Female",
          "Male",
          "Male",
          "Male",
          "Male",
          "Female",
          "Male",
          "Female",
          "Female",
          "Male",
          "Female",
          "Female",
          "Female",
          "Male",
          "Female",
          "Male",
          "Male",
          "Female",
          "Male",
          "Male",
          "Male",
          "Female",
          "Male",
          "Female",
          "Female",
          "Male",
          "Male",
          "Female",
          "Male",
          "Male",
          "Male",
          "Female",
          "Male",
          "Female",
          "Male",
          "Male",
          "Female",
          "Male",
          "Female",
          "Male",
          "Male",
          "Male",
          "Female",
          "Male",
          "Male",
          "Female",
          "Male",
          "Male",
          "Female",
          "Male",
          "Male",
          "Female",
          "Male",
          "Male",
          "Female",
          "Male",
          "Male",
          "Male",
          "Male",
          "Male",
          "Male",
          "Male",
          "Female",
          "Female",
          "Male",
          "Male",
          "Male",
          "Male",
          "Female",
          "Female",
          "Male",
          "Female",
          "Female",
          "Female",
          "Male",
          "Male",
          "Female",
          "Male",
          "Female",
          "Male",
          "Male",
          "Female",
          "Male",
          "Male",
          "Female",
          "Male",
          "Male",
          "Female",
          "Male",
          "Female",
          "Male",
          "Female",
          "Male",
          "Male",
          "Male",
          "Male",
          "Male",
          "Male",
          "Male",
          "Male",
          "Male",
          "Male",
          "Female",
          "Male",
          "Male",
          "Male",
          "Female",
          "Male",
          "Female",
          "Female",
          "Female",
          "Male",
          "Male",
          "Female",
          "Female",
          "Female",
          "Female",
          "Male",
          "Female",
          "Female",
          "Female",
          "Male",
          "Female",
          "Female",
          "Female",
          "Female",
          "Female",
          "Male",
          "Female",
          "Male",
          "Female",
          "Female",
          "Male",
          "Female",
          "Male",
          "Male",
          "Male",
          "Male",
          "Female",
          "Male",
          "Male",
          "Female",
          "Male",
          "Male",
          "Male",
          "Female",
          "Male",
          "Female",
          "Male",
          "Female",
          "Male",
          "Male",
          "Female",
          "Female",
          "Female",
          "Male",
          "Male",
          "Female",
          "Male",
          "Male",
          "Male",
          "Male",
          "Female",
          "Male",
          "Male",
          "Female",
          "Female",
          "Female",
          "Male",
          "Male",
          "Female",
          "Female",
          "Male",
          "Male",
          "Female",
          "Male",
          "Male",
          "Male",
          "Male",
          "Male",
          "Female",
          "Female",
          "Male",
          "Male",
          "Male",
          "Male",
          "Male",
          "Male",
          "Male",
          "Male",
          "Male",
          "Male",
          "Male",
          "Male",
          "Female",
          "Male",
          "Male",
          "Male",
          "Male",
          "Male",
          "Male",
          "Male",
          "Female",
          "Male",
          "Male",
          "Male",
          "Female",
          "Male",
          "Male",
          "Female",
          "Male",
          "Female",
          "Male",
          "Female",
          "Male",
          "Female",
          "Male",
          "Male",
          "Male",
          "Female",
          "Female",
          "Female",
          "Female",
          "Male",
          "Male",
          "Male",
          "Female",
          "Female",
          "Female",
          "Male",
          "Female",
          "Female",
          "Female",
          "Male",
          "Male",
          "Male",
          "Male",
          "Female",
          "Female",
          "Male",
          "Male",
          "Female",
          "Male",
          "Female",
          "Male",
          "Male",
          "Male",
          "Female",
          "Male",
          "Female",
          "Female",
          "Male",
          "Female",
          "Female",
          "Male",
          "Male",
          "Male",
          "Male",
          "Male",
          "Female",
          "Male",
          "Male",
          "Male",
          "Female",
          "Male",
          "Male",
          "Male",
          "Male",
          "Male",
          "Female",
          "Female",
          "Male",
          "Female",
          "Male",
          "Female",
          "Male",
          "Female",
          "Female",
          "Female",
          "Female",
          "Male",
          "Female",
          "Male",
          "Female",
          "Female",
          "Male",
          "Female",
          "Male",
          "Male",
          "Female",
          "Male",
          "Female",
          "Male",
          "Male",
          "Male",
          "Male",
          "Female",
          "Female",
          "Male",
          "Female",
          "Male",
          "Female",
          "Male",
          "Male",
          "Female",
          "Female",
          "Male",
          "Male",
          "Female",
          "Male",
          "Male",
          "Male",
          "Male",
          "Male",
          "Male",
          "Female",
          "Female",
          "Female",
          "Female",
          "Female",
          "Female",
          "Female",
          "Female",
          "Male",
          "Female",
          "Female",
          "Female",
          "Male",
          "Female",
          "Female",
          "Male",
          "Male",
          "Male",
          "Male",
          "Female",
          "Female",
          "Female",
          "Female",
          "Female",
          "Female",
          "Male",
          "Male",
          "Female",
          "Male",
          "Female",
          "Male",
          "Male",
          "Male",
          "Male",
          "Male",
          "Male",
          "Male",
          "Female",
          "Male",
          "Female",
          "Male",
          "Female",
          "Male",
          "Male",
          "Female",
          "Female",
          "Male",
          "Male",
          "Male",
          "Female",
          "Female",
          "Male",
          "Female",
          "Female",
          "Female",
          "Female",
          "Male",
          "Female",
          "Male",
          "Female",
          "Male",
          "Male",
          "Male",
          "Male",
          "Male",
          "Female",
          "Male",
          "Male",
          "Male",
          "Female",
          "Female",
          "Female",
          "Female",
          "Male",
          "Male",
          "Male",
          "Female",
          "Male",
          "Female",
          "Male",
          "Male",
          "Male",
          "Male",
          "Male",
          "Male",
          "Male",
          "Male",
          "Female",
          "Male",
          "Female",
          "Female",
          "Male",
          "Male",
          "Female",
          "Male",
          "Female",
          "Male",
          "Female",
          "Female",
          "Male",
          "Male",
          "Female",
          "Male",
          "Female",
          "Male",
          "Female",
          "Female",
          "Female",
          "Female",
          "Male",
          "Female",
          "Female",
          "Male",
          "Female",
          "Male",
          "Male",
          "Female",
          "Female",
          "Female",
          "Male",
          "Female",
          "Male",
          "Female",
          "Female",
          "Female",
          "Male",
          "Male",
          "Male",
          "Male",
          "Female",
          "Male",
          "Male",
          "Female",
          "Male",
          "Male",
          "Female",
          "Female",
          "Male",
          "Male",
          "Male",
          "Male",
          "Male",
          "Female",
          "Male",
          "Female",
          "Female",
          "Male",
          "Male",
          "Female",
          "Male",
          "Female",
          "Male",
          "Male",
          "Female",
          "Female",
          "Female",
          "Female",
          "Male",
          "Female",
          "Male",
          "Male",
          "Female",
          "Male",
          "Male",
          "Female",
          "Female",
          "Female",
          "Female",
          "Male",
          "Male",
          "Male",
          "Female",
          "Female",
          "Female",
          "Female",
          "Male",
          "Female",
          "Male",
          "Female",
          "Male",
          "Male",
          "Female",
          "Female",
          "Male",
          "Male",
          "Male",
          "Female",
          "Female",
          "Male",
          "Male",
          "Female",
          "Male",
          "Male",
          "Female",
          "Male",
          "Male",
          "Male",
          "Female",
          "Male",
          "Male",
          "Female",
          "Female",
          "Male",
          "Male",
          "Male",
          "Male",
          "Male",
          "Female",
          "Female",
          "Female",
          "Male",
          "Male",
          "Female",
          "Female",
          "Female",
          "Male",
          "Male",
          "Male",
          "Male",
          "Male",
          "Female",
          "Male",
          "Female",
          "Male",
          "Male",
          "Female",
          "Male",
          "Male",
          "Male",
          "Female",
          "Male",
          "Male",
          "Female",
          "Male",
          "Female",
          "Female",
          "Female",
          "Female",
          "Male",
          "Female",
          "Male",
          "Male",
          "Female",
          "Male",
          "Female",
          "Male",
          "Male",
          "Female",
          "Male",
          "Male",
          "Male",
          "Male",
          "Male",
          "Male",
          "Male",
          "Female",
          "Male",
          "Male",
          "Female",
          "Female",
          "Male",
          "Female",
          "Female",
          "Male",
          "Male",
          "Male",
          "Male",
          "Male",
          "Male",
          "Female",
          "Female",
          "Female",
          "Female",
          "Male",
          "Male",
          "Female",
          "Male",
          "Male",
          "Male",
          "Female",
          "Female",
          "Female",
          "Male",
          "Male",
          "Female",
          "Male",
          "Male",
          "Male",
          "Male",
          "Female",
          "Male",
          "Female",
          "Female",
          "Male",
          "Male",
          "Male",
          "Male",
          "Female",
          "Male",
          "Male",
          "Female",
          "Male",
          "Male",
          "Male",
          "Male",
          "Male",
          "Female",
          "Male",
          "Female",
          "Male",
          "Female",
          "Male",
          "Male",
          "Female",
          "Female",
          "Male",
          "Male",
          "Male",
          "Female",
          "Female",
          "Female",
          "Male",
          "Female",
          "Male",
          "Female",
          "Male",
          "Male",
          "Male",
          "Male",
          "Male",
          "Female",
          "Female",
          "Male",
          "Female",
          "Male",
          "Female",
          "Male",
          "Male",
          "Female",
          "Male",
          "Female",
          "Female",
          "Male",
          "Male",
          "Male",
          "Female",
          "Female",
          "Female",
          "Male",
          "Male",
          "Male",
          "Male",
          "Male",
          "Male",
          "Male",
          "Male",
          "Female",
          "Female",
          "Male",
          "Male",
          "Male",
          "Female",
          "Female",
          "Male",
          "Male",
          "Male",
          "Male",
          "Male",
          "Male",
          "Male",
          "Male",
          "Male",
          "Male",
          "Male",
          "Male",
          "Female",
          "Male",
          "Female",
          "Female",
          "Male",
          "Female",
          "Female",
          "Male",
          "Male",
          "Male",
          "Female",
          "Male",
          "Male",
          "Female",
          "Female",
          "Male",
          "Female",
          "Male",
          "Female",
          "Female",
          "Female",
          "Male",
          "Female",
          "Female",
          "Male",
          "Male",
          "Male",
          "Male",
          "Male",
          "Male",
          "Female",
          "Male",
          "Male",
          "Female",
          "Female",
          "Male",
          "Male",
          "Male",
          "Male",
          "Female",
          "Female",
          "Male",
          "Female",
          "Male",
          "Female",
          "Female",
          "Male",
          "Female",
          "Male",
          "Female",
          "Male",
          "Male",
          "Female",
          "Female",
          "Male",
          "Male",
          "Male",
          "Female",
          "Female",
          "Male",
          "Male",
          "Male",
          "Male",
          "Female",
          "Male",
          "Female",
          "Female",
          "Male",
          "Male",
          "Male",
          "Female",
          "Female",
          "Female",
          "Female",
          "Male",
          "Male",
          "Male",
          "Male",
          "Male",
          "Female",
          "Male",
          "Male",
          "Male",
          "Female",
          "Female",
          "Male",
          "Male",
          "Male",
          "Male",
          "Female",
          "Male",
          "Female",
          "Male",
          "Female",
          "Female",
          "Male",
          "Female",
          "Male",
          "Male",
          "Female",
          "Female",
          "Female",
          "Female",
          "Male",
          "Male",
          "Male",
          "Female",
          "Male",
          "Female",
          "Female",
          "Female",
          "Female",
          "Male",
          "Male",
          "Male",
          "Male",
          "Female",
          "Female",
          "Male",
          "Female",
          "Female",
          "Female",
          "Female",
          "Male",
          "Male",
          "Male",
          "Female",
          "Female",
          "Male",
          "Female",
          "Female",
          "Female",
          "Female",
          "Female",
          "Male",
          "Female",
          "Female",
          "Female",
          "Male",
          "Male",
          "Male",
          "Male",
          "Male",
          "Female",
          "Female",
          "Male",
          "Male",
          "Male",
          "Male",
          "Male",
          "Female",
          "Male",
          "Male",
          "Male",
          "Female",
          "Male",
          "Male",
          "Male",
          "Male",
          "Female",
          "Female",
          "Female",
          "Male",
          "Male",
          "Male",
          "Female",
          "Male",
          "Female",
          "Male",
          "Female",
          "Female",
          "Female",
          "Female",
          "Female",
          "Male",
          "Female",
          "Male",
          "Female",
          "Female",
          "Female",
          "Female",
          "Female",
          "Male",
          "Male",
          "Male",
          "Female",
          "Female",
          "Male",
          "Male",
          "Male",
          "Female",
          "Male",
          "Female",
          "Male",
          "Female",
          "Female",
          "Female",
          "Male",
          "Male",
          "Female",
          "Female",
          "Female",
          "Male",
          "Female",
          "Male",
          "Male",
          "Male",
          "Male",
          "Female",
          "Female",
          "Female",
          "Female",
          "Female",
          "Female",
          "Female",
          "Female",
          "Female",
          "Male",
          "Male",
          "Female",
          "Male",
          "Female",
          "Female",
          "Male",
          "Female",
          "Female",
          "Male",
          "Male",
          "Male",
          "Male",
          "Male",
          "Female",
          "Male",
          "Female",
          "Female",
          "Female",
          "Male",
          "Female",
          "Female",
          "Male",
          "Male",
          "Male",
          "Male",
          "Male",
          "Female",
          "Male",
          "Male",
          "Male",
          "Male",
          "Male",
          "Male",
          "Female",
          "Male",
          "Female",
          "Male",
          "Female",
          "Male",
          "Male",
          "Male",
          "Male",
          "Male",
          "Female",
          "Female",
          "Female",
          "Female",
          "Male",
          "Female",
          "Male",
          "Male",
          "Male",
          "Male",
          "Male",
          "Male",
          "Male",
          "Male",
          "Female",
          "Female",
          "Female",
          "Male",
          "Male",
          "Male",
          "Female",
          "Male",
          "Female",
          "Female",
          "Female",
          "Male",
          "Female",
          "Male",
          "Female",
          "Male",
          "Male",
          "Female",
          "Female",
          "Female",
          "Male",
          "Female",
          "Female",
          "Male",
          "Male",
          "Male",
          "Male",
          "Male",
          "Male",
          "Male",
          "Female",
          "Male",
          "Female",
          "Female",
          "Male",
          "Male",
          "Female",
          "Male",
          "Female",
          "Male",
          "Male",
          "Female",
          "Female",
          "Male",
          "Male",
          "Female",
          "Female",
          "Male",
          "Male",
          "Female",
          "Male",
          "Male",
          "Male",
          "Female",
          "Male",
          "Female",
          "Female",
          "Female",
          "Female",
          "Male",
          "Female",
          "Male",
          "Female",
          "Male",
          "Male",
          "Female",
          "Male",
          "Female",
          "Female",
          "Male",
          "Male",
          "Female",
          "Male",
          "Male",
          "Male",
          "Male",
          "Male",
          "Female",
          "Male",
          "Female",
          "Female",
          "Male",
          "Male",
          "Female",
          "Male",
          "Male",
          "Female",
          "Female",
          "Male",
          "Male",
          "Male",
          "Female",
          "Female",
          "Male",
          "Male",
          "Male",
          "Female",
          "Male",
          "Female",
          "Male",
          "Female",
          "Female",
          "Female",
          "Female",
          "Female",
          "Female",
          "Male",
          "Male",
          "Female",
          "Male",
          "Female",
          "Male",
          "Male",
          "Female",
          "Male",
          "Male",
          "Female",
          "Female",
          "Male",
          "Male",
          "Male",
          "Male",
          "Male",
          "Male",
          "Male",
          "Male",
          "Male",
          "Male",
          "Male",
          "Female",
          "Female",
          "Female",
          "Female",
          "Female",
          "Male",
          "Male",
          "Male",
          "Male",
          "Female",
          "Female",
          "Male",
          "Female",
          "Female",
          "Male",
          "Male",
          "Male",
          "Male",
          "Male",
          "Male",
          "Female",
          "Male",
          "Female",
          "Female",
          "Male",
          "Female",
          "Male",
          "Female",
          "Male",
          "Female",
          "Female",
          "Male",
          "Male",
          "Male",
          "Male",
          "Female",
          "Female",
          "Female",
          "Male",
          "Male",
          "Male",
          "Male",
          "Male",
          "Male",
          "Female",
          "Male",
          "Female",
          "Male",
          "Female",
          "Female",
          "Male",
          "Male",
          "Female",
          "Male",
          "Female",
          "Female",
          "Female",
          "Male",
          "Male",
          "Male",
          "Male",
          "Female",
          "Female",
          "Male",
          "Male",
          "Male",
          "Female",
          "Female",
          "Female",
          "Female",
          "Male",
          "Male",
          "Female",
          "Female",
          "Male",
          "Male",
          "Female",
          "Female",
          "Male",
          "Male",
          "Male",
          "Male",
          "Female",
          "Female",
          "Male",
          "Male",
          "Male",
          "Male",
          "Male",
          "Female",
          "Female",
          "Female",
          "Female",
          "Female",
          "Female",
          "Female",
          "Male",
          "Male",
          "Male",
          "Male",
          "Male",
          "Male",
          "Male",
          "Male",
          "Female",
          "Male",
          "Male",
          "Female",
          "Female",
          "Female",
          "Male",
          "Female",
          "Female",
          "Female",
          "Male",
          "Male",
          "Female",
          "Male",
          "Female",
          "Male",
          "Male",
          "Male",
          "Male",
          "Male",
          "Male",
          "Male",
          "Male",
          "Female",
          "Male",
          "Male",
          "Female",
          "Female",
          "Male",
          "Female",
          "Female",
          "Male",
          "Female",
          "Male",
          "Male",
          "Female",
          "Female",
          "Male",
          "Female",
          "Male",
          "Female",
          "Female",
          "Male",
          "Male",
          "Male",
          "Male",
          "Female",
          "Male",
          "Male",
          "Male",
          "Female",
          "Male",
          "Female",
          "Female",
          "Female",
          "Male",
          "Female",
          "Male",
          "Male",
          "Female",
          "Male",
          "Male",
          "Male",
          "Male",
          "Female",
          "Male",
          "Male",
          "Female",
          "Female",
          "Male",
          "Male",
          "Male",
          "Female",
          "Male",
          "Male",
          "Female",
          "Male",
          "Female",
          "Male",
          "Female",
          "Male",
          "Female",
          "Female",
          "Male",
          "Male",
          "Male",
          "Female",
          "Male",
          "Male",
          "Male",
          "Male",
          "Female",
          "Male",
          "Female",
          "Female",
          "Female",
          "Male",
          "Male",
          "Male",
          "Male",
          "Female",
          "Male",
          "Male",
          "Female",
          "Male",
          "Female",
          "Female",
          "Female",
          "Male",
          "Male",
          "Male",
          "Female",
          "Male",
          "Female",
          "Female",
          "Male",
          "Male",
          "Male",
          "Male",
          "Male",
          "Female",
          "Male",
          "Female",
          "Male",
          "Female",
          "Male",
          "Male",
          "Female",
          "Male",
          "Male",
          "Male",
          "Male",
          "Female",
          "Female",
          "Male",
          "Male",
          "Male",
          "Female",
          "Male",
          "Male",
          "Male",
          "Male",
          "Male",
          "Male",
          "Male",
          "Male",
          "Male",
          "Male",
          "Male",
          "Male",
          "Female",
          "Male",
          "Female",
          "Male",
          "Male",
          "Female",
          "Male",
          "Male",
          "Male",
          "Male",
          "Male",
          "Male",
          "Female",
          "Male",
          "Female",
          "Male",
          "Female",
          "Male",
          "Female",
          "Female",
          "Female",
          "Female",
          "Female",
          "Male",
          "Female",
          "Female",
          "Male",
          "Male",
          "Female",
          "Female",
          "Female",
          "Male",
          "Male",
          "Female",
          "Male",
          "Male",
          "Male",
          "Male",
          "Male",
          "Male",
          "Male",
          "Female",
          "Male",
          "Female",
          "Female",
          "Male",
          "Female",
          "Male",
          "Female",
          "Male",
          "Male",
          "Male",
          "Male",
          "Male",
          "Female",
          "Male",
          "Female",
          "Female",
          "Male",
          "Female",
          "Female",
          "Male",
          "Male",
          "Female",
          "Male",
          "Male",
          "Male",
          "Female",
          "Female",
          "Female",
          "Male",
          "Female",
          "Female",
          "Male",
          "Male",
          "Male",
          "Male",
          "Female",
          "Female",
          "Female",
          "Male",
          "Female",
          "Male",
          "Male",
          "Female",
          "Male",
          "Female",
          "Female",
          "Male",
          "Male",
          "Male",
          "Female",
          "Male",
          "Male",
          "Female",
          "Male",
          "Female",
          "Male",
          "Male",
          "Male",
          "Male",
          "Female",
          "Male",
          "Male",
          "Female",
          "Male",
          "Female",
          "Male",
          "Male",
          "Female",
          "Male",
          "Male",
          "Male",
          "Male",
          "Male",
          "Male",
          "Female",
          "Male",
          "Female",
          "Male",
          "Female",
          "Female",
          "Female",
          "Male",
          "Male",
          "Female",
          "Male",
          "Female",
          "Female",
          "Female",
          "Male",
          "Female",
          "Male",
          "Female",
          "Female",
          "Female",
          "Male",
          "Female",
          "Male",
          "Male",
          "Female",
          "Female",
          "Male",
          "Male",
          "Female",
          "Male",
          "Male",
          "Male",
          "Male",
          "Male",
          "Male",
          "Female",
          "Female",
          "Female",
          "Female",
          "Female",
          "Female",
          "Male",
          "Male",
          "Female",
          "Male",
          "Female",
          "Male",
          "Female",
          "Female",
          "Female",
          "Female",
          "Female",
          "Male",
          "Male",
          "Male",
          "Female",
          "Male",
          "Male",
          "Male",
          "Male",
          "Female",
          "Female",
          "Female",
          "Female",
          "Male",
          "Male",
          "Male",
          "Male",
          "Female",
          "Male",
          "Male",
          "Male",
          "Male",
          "Male",
          "Male",
          "Male",
          "Male",
          "Male",
          "Male",
          "Male",
          "Female",
          "Male",
          "Male",
          "Male",
          "Female",
          "Male",
          "Male",
          "Male",
          "Male",
          "Male",
          "Female",
          "Male",
          "Male",
          "Male",
          "Male",
          "Male",
          "Female",
          "Male",
          "Female",
          "Female",
          "Female",
          "Male",
          "Female",
          "Female",
          "Female",
          "Male",
          "Male",
          "Male",
          "Male",
          "Female",
          "Male",
          "Female",
          "Male",
          "Female",
          "Male",
          "Female",
          "Female",
          "Male",
          "Male",
          "Male",
          "Male",
          "Male",
          "Male",
          "Male",
          "Male",
          "Male",
          "Female",
          "Female",
          "Male",
          "Male",
          "Male",
          "Female",
          "Male",
          "Female",
          "Male",
          "Male",
          "Male",
          "Male",
          "Male",
          "Female",
          "Female",
          "Female",
          "Female",
          "Female",
          "Male",
          "Male",
          "Male",
          "Male",
          "Male",
          "Male",
          "Female",
          "Male",
          "Female",
          "Male",
          "Female",
          "Female",
          "Male",
          "Female",
          "Female",
          "Male",
          "Male",
          "Female",
          "Female",
          "Female",
          "Male",
          "Male",
          "Male",
          "Female",
          "Male",
          "Male",
          "Female",
          "Male",
          "Male",
          "Male",
          "Female",
          "Male",
          "Male",
          "Female",
          "Female",
          "Female",
          "Male",
          "Female",
          "Female",
          "Male",
          "Male",
          "Male",
          "Female",
          "Male",
          "Male",
          "Female",
          "Female",
          "Female",
          "Male",
          "Male",
          "Male",
          "Male",
          "Female",
          "Male",
          "Male",
          "Male",
          "Female",
          "Female",
          "Male",
          "Female",
          "Male",
          "Male",
          "Male",
          "Male",
          "Male",
          "Male",
          "Male",
          "Male",
          "Male",
          "Male",
          "Female",
          "Male",
          "Male",
          "Male",
          "Male",
          "Female",
          "Male",
          "Male",
          "Female",
          "Female",
          "Female",
          "Male",
          "Male",
          "Female",
          "Female",
          "Female",
          "Female",
          "Male",
          "Female",
          "Female",
          "Male",
          "Male",
          "Male",
          "Male",
          "Female",
          "Male",
          "Male",
          "Male",
          "Male",
          "Female",
          "Female",
          "Male",
          "Female",
          "Female",
          "Female",
          "Male",
          "Female",
          "Male",
          "Male",
          "Male",
          "Male",
          "Female",
          "Male",
          "Male",
          "Female",
          "Male",
          "Male",
          "Female",
          "Male",
          "Male",
          "Female",
          "Female",
          "Female",
          "Female",
          "Male",
          "Male",
          "Male",
          "Male",
          "Male",
          "Female",
          "Female",
          "Male",
          "Male",
          "Male",
          "Male",
          "Female",
          "Male",
          "Female",
          "Female",
          "Female",
          "Male",
          "Male",
          "Male",
          "Female",
          "Female",
          "Female",
          "Female",
          "Male",
          "Male",
          "Female",
          "Male",
          "Female",
          "Male",
          "Female",
          "Male",
          "Male",
          "Male",
          "Female",
          "Female",
          "Male",
          "Female",
          "Female",
          "Male",
          "Male",
          "Female",
          "Male",
          "Male",
          "Male",
          "Male",
          "Female",
          "Male",
          "Male",
          "Female",
          "Female",
          "Male",
          "Male",
          "Male",
          "Female",
          "Female",
          "Female",
          "Female",
          "Male",
          "Male",
          "Female",
          "Male",
          "Male",
          "Male",
          "Female",
          "Male",
          "Male",
          "Male",
          "Female",
          "Male",
          "Male",
          "Female",
          "Male",
          "Female",
          "Female",
          "Female",
          "Male",
          "Male",
          "Female",
          "Male",
          "Male",
          "Male",
          "Male",
          "Female",
          "Male",
          "Female",
          "Male",
          "Male",
          "Female",
          "Male",
          "Female",
          "Male",
          "Male",
          "Male",
          "Male",
          "Female",
          "Female",
          "Male",
          "Female",
          "Female",
          "Female",
          "Male",
          "Male",
          "Female",
          "Male",
          "Female",
          "Male",
          "Male",
          "Female",
          "Female",
          "Male",
          "Male",
          "Male",
          "Female",
          "Female",
          "Female",
          "Male",
          "Female",
          "Female",
          "Male",
          "Female",
          "Male",
          "Male",
          "Male",
          "Male",
          "Female",
          "Male",
          "Male",
          "Male",
          "Male",
          "Female",
          "Male",
          "Female",
          "Female",
          "Female",
          "Male",
          "Male",
          "Female",
          "Female",
          "Male",
          "Male",
          "Female",
          "Female",
          "Male",
          "Male",
          "Female",
          "Male",
          "Male",
          "Male",
          "Male",
          "Male",
          "Female",
          "Female",
          "Female",
          "Female",
          "Female",
          "Female",
          "Male",
          "Male",
          "Female",
          "Female",
          "Male",
          "Female",
          "Male",
          "Male",
          "Female",
          "Male",
          "Male",
          "Male",
          "Male",
          "Male",
          "Male",
          "Male",
          "Female",
          "Male",
          "Male",
          "Male",
          "Male",
          "Female",
          "Male",
          "Female",
          "Male",
          "Male",
          "Male",
          "Male",
          "Male",
          "Female",
          "Female",
          "Male",
          "Female",
          "Female",
          "Male",
          "Male",
          "Male",
          "Male",
          "Male",
          "Female",
          "Female",
          "Male",
          "Female",
          "Male",
          "Male",
          "Female",
          "Female",
          "Female",
          "Male",
          "Male",
          "Male",
          "Male",
          "Female",
          "Male",
          "Female",
          "Male",
          "Female",
          "Male",
          "Male",
          "Male",
          "Female",
          "Female",
          "Female",
          "Male",
          "Female",
          "Female",
          "Female",
          "Female",
          "Female",
          "Female",
          "Female",
          "Female",
          "Female",
          "Male",
          "Male",
          "Female",
          "Male",
          "Female",
          "Male",
          "Female",
          "Male",
          "Male",
          "Female",
          "Male",
          "Male",
          "Male",
          "Female",
          "Female",
          "Male",
          "Male",
          "Male",
          "Male",
          "Female",
          "Female",
          "Male",
          "Male",
          "Male",
          "Female",
          "Male",
          "Male",
          "Male",
          "Male",
          "Male",
          "Male",
          "Male",
          "Male",
          "Male",
          "Male",
          "Female",
          "Male",
          "Male",
          "Female",
          "Male",
          "Female",
          "Male",
          "Male",
          "Female",
          "Male",
          "Female",
          "Female",
          "Male",
          "Male",
          "Male",
          "Male",
          "Male",
          "Female",
          "Female",
          "Male",
          "Male",
          "Male",
          "Male",
          "Female",
          "Male",
          "Female",
          "Female",
          "Female",
          "Female",
          "Female",
          "Male",
          "Male",
          "Female",
          "Female",
          "Male",
          "Male",
          "Male",
          "Male",
          "Male",
          "Male",
          "Female",
          "Female",
          "Male",
          "Male",
          "Female",
          "Female",
          "Female",
          "Male",
          "Male",
          "Male",
          "Male",
          "Male",
          "Male",
          "Female",
          "Female",
          "Female",
          "Female",
          "Female",
          "Male",
          "Female",
          "Male",
          "Male",
          "Female",
          "Female",
          "Male",
          "Female",
          "Male",
          "Female",
          "Male",
          "Female",
          "Female",
          "Female",
          "Female",
          "Male",
          "Male",
          "Female",
          "Female",
          "Male",
          "Male",
          "Male",
          "Female",
          "Female",
          "Male",
          "Male",
          "Female",
          "Male",
          "Male",
          "Female",
          "Male",
          "Female",
          "Male",
          "Female",
          "Female",
          "Male",
          "Female",
          "Female",
          "Female",
          "Male",
          "Male",
          "Female",
          "Male",
          "Female",
          "Male",
          "Male",
          "Female",
          "Male",
          "Male",
          "Female",
          "Male",
          "Male",
          "Male",
          "Male",
          "Female",
          "Female",
          "Male",
          "Female",
          "Female",
          "Female",
          "Male",
          "Female",
          "Male",
          "Male",
          "Female",
          "Male",
          "Male",
          "Male",
          "Male",
          "Female",
          "Male",
          "Female",
          "Female",
          "Male",
          "Female",
          "Female",
          "Male",
          "Female",
          "Female",
          "Male",
          "Female",
          "Male",
          "Male",
          "Male",
          "Female",
          "Female",
          "Female",
          "Male",
          "Male",
          "Male",
          "Female",
          "Female",
          "Male",
          "Female",
          "Female",
          "Female",
          "Female",
          "Male",
          "Male",
          "Female",
          "Male",
          "Male",
          "Male",
          "Male",
          "Male",
          "Female",
          "Female",
          "Female",
          "Female",
          "Male",
          "Female",
          "Female",
          "Male",
          "Male",
          "Female",
          "Male",
          "Male",
          "Male",
          "Female",
          "Female",
          "Male",
          "Male",
          "Female",
          "Male",
          "Female",
          "Male",
          "Male",
          "Male",
          "Female",
          "Female",
          "Male",
          "Male",
          "Male",
          "Male",
          "Male",
          "Female",
          "Female",
          "Female",
          "Male",
          "Female",
          "Male",
          "Female",
          "Male",
          "Female",
          "Female",
          "Male",
          "Male",
          "Female",
          "Female",
          "Male",
          "Male",
          "Female",
          "Male",
          "Male",
          "Female",
          "Male",
          "Male",
          "Male",
          "Male",
          "Male",
          "Male",
          "Female",
          "Male",
          "Male",
          "Male",
          "Female",
          "Female",
          "Male",
          "Female",
          "Male",
          "Female",
          "Male",
          "Female",
          "Female",
          "Male",
          "Female",
          "Male",
          "Male",
          "Male",
          "Male",
          "Male",
          "Male",
          "Male",
          "Female",
          "Male",
          "Male",
          "Male",
          "Male",
          "Female",
          "Female",
          "Female",
          "Male",
          "Female",
          "Female",
          "Male",
          "Male",
          "Female",
          "Male",
          "Male",
          "Female",
          "Male",
          "Female",
          "Female",
          "Male",
          "Male",
          "Female",
          "Female",
          "Female",
          "Male",
          "Male",
          "Male",
          "Male",
          "Male",
          "Male",
          "Male",
          "Male",
          "Female",
          "Male",
          "Male",
          "Female",
          "Female",
          "Male",
          "Female",
          "Female",
          "Male",
          "Male",
          "Female",
          "Male",
          "Female",
          "Male",
          "Male",
          "Female",
          "Male",
          "Female",
          "Female",
          "Male",
          "Male",
          "Female",
          "Female",
          "Female",
          "Female",
          "Male",
          "Male",
          "Female",
          "Male",
          "Female",
          "Male",
          "Male",
          "Female",
          "Female",
          "Male",
          "Male",
          "Male",
          "Female",
          "Male",
          "Female",
          "Female",
          "Female",
          "Female",
          "Male",
          "Male",
          "Female",
          "Female",
          "Male",
          "Male",
          "Male",
          "Male",
          "Female",
          "Male",
          "Male",
          "Female",
          "Male",
          "Female",
          "Male",
          "Female",
          "Female",
          "Male",
          "Male",
          "Female",
          "Female",
          "Male",
          "Male",
          "Male",
          "Male",
          "Female",
          "Female",
          "Female",
          "Female",
          "Male",
          "Female",
          "Male",
          "Male",
          "Male",
          "Male",
          "Male",
          "Female",
          "Female",
          "Male",
          "Male",
          "Male",
          "Female",
          "Male",
          "Female",
          "Female",
          "Male",
          "Male",
          "Male",
          "Male",
          "Male",
          "Male",
          "Male",
          "Female",
          "Male",
          "Male",
          "Female",
          "Female",
          "Male",
          "Male",
          "Female",
          "Male",
          "Female",
          "Male",
          "Male",
          "Female",
          "Male",
          "Male",
          "Female",
          "Female",
          "Female",
          "Male",
          "Male",
          "Male",
          "Male",
          "Male",
          "Male",
          "Female",
          "Male",
          "Female",
          "Female",
          "Female",
          "Male",
          "Male",
          "Female",
          "Female",
          "Female",
          "Male",
          "Male",
          "Male",
          "Male",
          "Male",
          "Female",
          "Male",
          "Male",
          "Male",
          "Male",
          "Male",
          "Female",
          "Male",
          "Male",
          "Male",
          "Female",
          "Male",
          "Male",
          "Male",
          "Female",
          "Male",
          "Male",
          "Male",
          "Female",
          "Male",
          "Female",
          "Male",
          "Male",
          "Female",
          "Male",
          "Male",
          "Female",
          "Female",
          "Female",
          "Female",
          "Male",
          "Male",
          "Female",
          "Male",
          "Male",
          "Female",
          "Male",
          "Female",
          "Female",
          "Female",
          "Female",
          "Female",
          "Female",
          "Female",
          "Male",
          "Female",
          "Female",
          "Male",
          "Male",
          "Female",
          "Male",
          "Male",
          "Male",
          "Female",
          "Female",
          "Female",
          "Female",
          "Female",
          "Male",
          "Female",
          "Male",
          "Female",
          "Female",
          "Male",
          "Female",
          "Female",
          "Female",
          "Male",
          "Female",
          "Female",
          "Male",
          "Male",
          "Female",
          "Male",
          "Male",
          "Male",
          "Female",
          "Female",
          "Male",
          "Male",
          "Male",
          "Male",
          "Male",
          "Male",
          "Male",
          "Female",
          "Male",
          "Female",
          "Male",
          "Female",
          "Male",
          "Male",
          "Female",
          "Female",
          "Male",
          "Male",
          "Female",
          "Female",
          "Female",
          "Male",
          "Male",
          "Male",
          "Female",
          "Female",
          "Female",
          "Female",
          "Female",
          "Female",
          "Male",
          "Male",
          "Male",
          "Male",
          "Male",
          "Female",
          "Male",
          "Male",
          "Female",
          "Female",
          "Female",
          "Female",
          "Female",
          "Male",
          "Male",
          "Male",
          "Female",
          "Male",
          "Female",
          "Male",
          "Female",
          "Female",
          "Male",
          "Female",
          "Male",
          "Male",
          "Female",
          "Male",
          "Female",
          "Female",
          "Female",
          "Female",
          "Male",
          "Female",
          "Male",
          "Female",
          "Male",
          "Female",
          "Male",
          "Male",
          "Male",
          "Female",
          "Male",
          "Male",
          "Female",
          "Male",
          "Female",
          "Male",
          "Female",
          "Female",
          "Female",
          "Male",
          "Female",
          "Male",
          "Female",
          "Male",
          "Female",
          "Female",
          "Female",
          "Male",
          "Male",
          "Male",
          "Male",
          "Female",
          "Male",
          "Female",
          "Male",
          "Female",
          "Male",
          "Female",
          "Male",
          "Male",
          "Female",
          "Male",
          "Male",
          "Female",
          "Female",
          "Female",
          "Male",
          "Male",
          "Male",
          "Female",
          "Female",
          "Male",
          "Male",
          "Male",
          "Female",
          "Male",
          "Female",
          "Female",
          "Male",
          "Male",
          "Male",
          "Female",
          "Male",
          "Female",
          "Female",
          "Female",
          "Female",
          "Female",
          "Male",
          "Female",
          "Male",
          "Male",
          "Male",
          "Female",
          "Female",
          "Male",
          "Male",
          "Female",
          "Male",
          "Male",
          "Male",
          "Male",
          "Female",
          "Female",
          "Male",
          "Female",
          "Male",
          "Female",
          "Female",
          "Female",
          "Female",
          "Male",
          "Male",
          "Female",
          "Female",
          "Male",
          "Female",
          "Female",
          "Male",
          "Male",
          "Male",
          "Female",
          "Male",
          "Female",
          "Male",
          "Female",
          "Male",
          "Male",
          "Male",
          "Male",
          "Male",
          "Male",
          "Female",
          "Male",
          "Female",
          "Female",
          "Male",
          "Female",
          "Male",
          "Female",
          "Female",
          "Female",
          "Male",
          "Male",
          "Male",
          "Female",
          "Male",
          "Male",
          "Male",
          "Male",
          "Male",
          "Male",
          "Male",
          "Female",
          "Female",
          "Female",
          "Male",
          "Male",
          "Female",
          "Female",
          "Male",
          "Male",
          "Male",
          "Male",
          "Male",
          "Male",
          "Female",
          "Female",
          "Male",
          "Male",
          "Male",
          "Male",
          "Female",
          "Male",
          "Female",
          "Male",
          "Female",
          "Male",
          "Male",
          "Female",
          "Female",
          "Female",
          "Female",
          "Female",
          "Male",
          "Male",
          "Female",
          "Female",
          "Male",
          "Female",
          "Male",
          "Male",
          "Female",
          "Female",
          "Male",
          "Female",
          "Female",
          "Male",
          "Female",
          "Female",
          "Female",
          "Male",
          "Female",
          "Male",
          "Female",
          "Female",
          "Male",
          "Female",
          "Male",
          "Male",
          "Female",
          "Male",
          "Female",
          "Female",
          "Male",
          "Female",
          "Female",
          "Male",
          "Female",
          "Male",
          "Male",
          "Female",
          "Female",
          "Female",
          "Female",
          "Female",
          "Female",
          "Male",
          "Female",
          "Female",
          "Male",
          "Female",
          "Male",
          "Male",
          "Female",
          "Female",
          "Female",
          "Male",
          "Male",
          "Male",
          "Male",
          "Male",
          "Male",
          "Male",
          "Male",
          "Male",
          "Female",
          "Male",
          "Male",
          "Male",
          "Female",
          "Male",
          "Male",
          "Female",
          "Male",
          "Male",
          "Female",
          "Male",
          "Female",
          "Female",
          "Female",
          "Male",
          "Female",
          "Male",
          "Male",
          "Female",
          "Male",
          "Female",
          "Male",
          "Female",
          "Male",
          "Male",
          "Male",
          "Female",
          "Male",
          "Male",
          "Female",
          "Female",
          "Male",
          "Male",
          "Female",
          "Female",
          "Female",
          "Female",
          "Male",
          "Male",
          "Female",
          "Female",
          "Male",
          "Male",
          "Male",
          "Male",
          "Male",
          "Female",
          "Male",
          "Male",
          "Female",
          "Male",
          "Female",
          "Male",
          "Male",
          "Female",
          "Female",
          "Female",
          "Male",
          "Female",
          "Male",
          "Male",
          "Male",
          "Female",
          "Male",
          "Female",
          "Male",
          "Male",
          "Male",
          "Male",
          "Male",
          "Male",
          "Male",
          "Female",
          "Female",
          "Male",
          "Male",
          "Female",
          "Male",
          "Male",
          "Female",
          "Male",
          "Female",
          "Male",
          "Male",
          "Female",
          "Male",
          "Male",
          "Male",
          "Male",
          "Male",
          "Male",
          "Female",
          "Male",
          "Male",
          "Male",
          "Female",
          "Female",
          "Male",
          "Male",
          "Male",
          "Female",
          "Male",
          "Male",
          "Female",
          "Female",
          "Female",
          "Male",
          "Male",
          "Male",
          "Male",
          "Female",
          "Female",
          "Male",
          "Male",
          "Male",
          "Male",
          "Male",
          "Female",
          "Female",
          "Male",
          "Male",
          "Female",
          "Male",
          "Male",
          "Male",
          "Female",
          "Male",
          "Male",
          "Male",
          "Female",
          "Male",
          "Female",
          "Female",
          "Male",
          "Male",
          "Female",
          "Male",
          "Female",
          "Male",
          "Male",
          "Female",
          "Male",
          "Male",
          "Female",
          "Female",
          "Female",
          "Male",
          "Female",
          "Female",
          "Female",
          "Male",
          "Male",
          "Female",
          "Female",
          "Female",
          "Male",
          "Female",
          "Female",
          "Male",
          "Male",
          "Male",
          "Male",
          "Female",
          "Male",
          "Male",
          "Female",
          "Male",
          "Female",
          "Female",
          "Male",
          "Male",
          "Male",
          "Male",
          "Male",
          "Male",
          "Male",
          "Male",
          "Female",
          "Male",
          "Male",
          "Male",
          "Male",
          "Male",
          "Female",
          "Male",
          "Male",
          "Male",
          "Female",
          "Female",
          "Male",
          "Male",
          "Male",
          "Male",
          "Female",
          "Male",
          "Female",
          "Male",
          "Male",
          "Male",
          "Male",
          "Male",
          "Male",
          "Female",
          "Female",
          "Male",
          "Female",
          "Female",
          "Male",
          "Male",
          "Female",
          "Female",
          "Female",
          "Female",
          "Female",
          "Male",
          "Male",
          "Male",
          "Female",
          "Female",
          "Male",
          "Female",
          "Female",
          "Female",
          "Male",
          "Male",
          "Male",
          "Male",
          "Male",
          "Male",
          "Male",
          "Male",
          "Male",
          "Male",
          "Male",
          "Female",
          "Female",
          "Male",
          "Male",
          "Male",
          "Male",
          "Female",
          "Female",
          "Male",
          "Male",
          "Male",
          "Male",
          "Male",
          "Male",
          "Female",
          "Female",
          "Male",
          "Female",
          "Male",
          "Male",
          "Male",
          "Male",
          "Male",
          "Male",
          "Male",
          "Male",
          "Male",
          "Male",
          "Male",
          "Female",
          "Male",
          "Female",
          "Female",
          "Male",
          "Female",
          "Male",
          "Female",
          "Female",
          "Male",
          "Male",
          "Female",
          "Female",
          "Female",
          "Female",
          "Female",
          "Male",
          "Male",
          "Male",
          "Male",
          "Male",
          "Female",
          "Male",
          "Male",
          "Female",
          "Male",
          "Male",
          "Female",
          "Female",
          "Male",
          "Female",
          "Female",
          "Female",
          "Male",
          "Male",
          "Male",
          "Female",
          "Male",
          "Female",
          "Male",
          "Male",
          "Female",
          "Male",
          "Female",
          "Male",
          "Male",
          "Male",
          "Male",
          "Female",
          "Male",
          "Male",
          "Male",
          "Male",
          "Male",
          "Female",
          "Male",
          "Male",
          "Female",
          "Female",
          "Male",
          "Female",
          "Female",
          "Female",
          "Male",
          "Male",
          "Male",
          "Female",
          "Male",
          "Male",
          "Female",
          "Male",
          "Male",
          "Male",
          "Male",
          "Male",
          "Male",
          "Female",
          "Male",
          "Male",
          "Female",
          "Male",
          "Female",
          "Male",
          "Male",
          "Male",
          "Female",
          "Male",
          "Female",
          "Male",
          "Male",
          "Male",
          "Male",
          "Female",
          "Female",
          "Male",
          "Male",
          "Male",
          "Female",
          "Female",
          "Female",
          "Female",
          "Female",
          "Male",
          "Female",
          "Female",
          "Female",
          "Female",
          "Female",
          "Female",
          "Male",
          "Male",
          "Male",
          "Female",
          "Female",
          "Female",
          "Male",
          "Female",
          "Male",
          "Male",
          "Male",
          "Male",
          "Female",
          "Female",
          "Male",
          "Female",
          "Male",
          "Male",
          "Male",
          "Female",
          "Male",
          "Female",
          "Male",
          "Male",
          "Female",
          "Female",
          "Female",
          "Female",
          "Male",
          "Female",
          "Male",
          "Male",
          "Male",
          "Female",
          "Female",
          "Female",
          "Female",
          "Male",
          "Male",
          "Male",
          "Male",
          "Male",
          "Male",
          "Male",
          "Male",
          "Male",
          "Male",
          "Male",
          "Female",
          "Male",
          "Male",
          "Female",
          "Male",
          "Male",
          "Female",
          "Male",
          "Male",
          "Male",
          "Female",
          "Female",
          "Male",
          "Female",
          "Male",
          "Male",
          "Male",
          "Male",
          "Male",
          "Male",
          "Male",
          "Male",
          "Male",
          "Male",
          "Male",
          "Female",
          "Male",
          "Male",
          "Female"
         ],
         "xaxis": "x",
         "yaxis": "y"
        }
       ],
       "layout": {
        "barmode": "relative",
        "legend": {
         "title": {
          "text": "Exited"
         },
         "tracegroupgap": 0
        },
        "template": {
         "data": {
          "bar": [
           {
            "error_x": {
             "color": "#2a3f5f"
            },
            "error_y": {
             "color": "#2a3f5f"
            },
            "marker": {
             "line": {
              "color": "#E5ECF6",
              "width": 0.5
             },
             "pattern": {
              "fillmode": "overlay",
              "size": 10,
              "solidity": 0.2
             }
            },
            "type": "bar"
           }
          ],
          "barpolar": [
           {
            "marker": {
             "line": {
              "color": "#E5ECF6",
              "width": 0.5
             },
             "pattern": {
              "fillmode": "overlay",
              "size": 10,
              "solidity": 0.2
             }
            },
            "type": "barpolar"
           }
          ],
          "carpet": [
           {
            "aaxis": {
             "endlinecolor": "#2a3f5f",
             "gridcolor": "white",
             "linecolor": "white",
             "minorgridcolor": "white",
             "startlinecolor": "#2a3f5f"
            },
            "baxis": {
             "endlinecolor": "#2a3f5f",
             "gridcolor": "white",
             "linecolor": "white",
             "minorgridcolor": "white",
             "startlinecolor": "#2a3f5f"
            },
            "type": "carpet"
           }
          ],
          "choropleth": [
           {
            "colorbar": {
             "outlinewidth": 0,
             "ticks": ""
            },
            "type": "choropleth"
           }
          ],
          "contour": [
           {
            "colorbar": {
             "outlinewidth": 0,
             "ticks": ""
            },
            "colorscale": [
             [
              0,
              "#0d0887"
             ],
             [
              0.1111111111111111,
              "#46039f"
             ],
             [
              0.2222222222222222,
              "#7201a8"
             ],
             [
              0.3333333333333333,
              "#9c179e"
             ],
             [
              0.4444444444444444,
              "#bd3786"
             ],
             [
              0.5555555555555556,
              "#d8576b"
             ],
             [
              0.6666666666666666,
              "#ed7953"
             ],
             [
              0.7777777777777778,
              "#fb9f3a"
             ],
             [
              0.8888888888888888,
              "#fdca26"
             ],
             [
              1,
              "#f0f921"
             ]
            ],
            "type": "contour"
           }
          ],
          "contourcarpet": [
           {
            "colorbar": {
             "outlinewidth": 0,
             "ticks": ""
            },
            "type": "contourcarpet"
           }
          ],
          "heatmap": [
           {
            "colorbar": {
             "outlinewidth": 0,
             "ticks": ""
            },
            "colorscale": [
             [
              0,
              "#0d0887"
             ],
             [
              0.1111111111111111,
              "#46039f"
             ],
             [
              0.2222222222222222,
              "#7201a8"
             ],
             [
              0.3333333333333333,
              "#9c179e"
             ],
             [
              0.4444444444444444,
              "#bd3786"
             ],
             [
              0.5555555555555556,
              "#d8576b"
             ],
             [
              0.6666666666666666,
              "#ed7953"
             ],
             [
              0.7777777777777778,
              "#fb9f3a"
             ],
             [
              0.8888888888888888,
              "#fdca26"
             ],
             [
              1,
              "#f0f921"
             ]
            ],
            "type": "heatmap"
           }
          ],
          "histogram": [
           {
            "marker": {
             "pattern": {
              "fillmode": "overlay",
              "size": 10,
              "solidity": 0.2
             }
            },
            "type": "histogram"
           }
          ],
          "histogram2d": [
           {
            "colorbar": {
             "outlinewidth": 0,
             "ticks": ""
            },
            "colorscale": [
             [
              0,
              "#0d0887"
             ],
             [
              0.1111111111111111,
              "#46039f"
             ],
             [
              0.2222222222222222,
              "#7201a8"
             ],
             [
              0.3333333333333333,
              "#9c179e"
             ],
             [
              0.4444444444444444,
              "#bd3786"
             ],
             [
              0.5555555555555556,
              "#d8576b"
             ],
             [
              0.6666666666666666,
              "#ed7953"
             ],
             [
              0.7777777777777778,
              "#fb9f3a"
             ],
             [
              0.8888888888888888,
              "#fdca26"
             ],
             [
              1,
              "#f0f921"
             ]
            ],
            "type": "histogram2d"
           }
          ],
          "histogram2dcontour": [
           {
            "colorbar": {
             "outlinewidth": 0,
             "ticks": ""
            },
            "colorscale": [
             [
              0,
              "#0d0887"
             ],
             [
              0.1111111111111111,
              "#46039f"
             ],
             [
              0.2222222222222222,
              "#7201a8"
             ],
             [
              0.3333333333333333,
              "#9c179e"
             ],
             [
              0.4444444444444444,
              "#bd3786"
             ],
             [
              0.5555555555555556,
              "#d8576b"
             ],
             [
              0.6666666666666666,
              "#ed7953"
             ],
             [
              0.7777777777777778,
              "#fb9f3a"
             ],
             [
              0.8888888888888888,
              "#fdca26"
             ],
             [
              1,
              "#f0f921"
             ]
            ],
            "type": "histogram2dcontour"
           }
          ],
          "mesh3d": [
           {
            "colorbar": {
             "outlinewidth": 0,
             "ticks": ""
            },
            "type": "mesh3d"
           }
          ],
          "parcoords": [
           {
            "line": {
             "colorbar": {
              "outlinewidth": 0,
              "ticks": ""
             }
            },
            "type": "parcoords"
           }
          ],
          "pie": [
           {
            "automargin": true,
            "type": "pie"
           }
          ],
          "scatter": [
           {
            "fillpattern": {
             "fillmode": "overlay",
             "size": 10,
             "solidity": 0.2
            },
            "type": "scatter"
           }
          ],
          "scatter3d": [
           {
            "line": {
             "colorbar": {
              "outlinewidth": 0,
              "ticks": ""
             }
            },
            "marker": {
             "colorbar": {
              "outlinewidth": 0,
              "ticks": ""
             }
            },
            "type": "scatter3d"
           }
          ],
          "scattercarpet": [
           {
            "marker": {
             "colorbar": {
              "outlinewidth": 0,
              "ticks": ""
             }
            },
            "type": "scattercarpet"
           }
          ],
          "scattergeo": [
           {
            "marker": {
             "colorbar": {
              "outlinewidth": 0,
              "ticks": ""
             }
            },
            "type": "scattergeo"
           }
          ],
          "scattergl": [
           {
            "marker": {
             "colorbar": {
              "outlinewidth": 0,
              "ticks": ""
             }
            },
            "type": "scattergl"
           }
          ],
          "scattermap": [
           {
            "marker": {
             "colorbar": {
              "outlinewidth": 0,
              "ticks": ""
             }
            },
            "type": "scattermap"
           }
          ],
          "scattermapbox": [
           {
            "marker": {
             "colorbar": {
              "outlinewidth": 0,
              "ticks": ""
             }
            },
            "type": "scattermapbox"
           }
          ],
          "scatterpolar": [
           {
            "marker": {
             "colorbar": {
              "outlinewidth": 0,
              "ticks": ""
             }
            },
            "type": "scatterpolar"
           }
          ],
          "scatterpolargl": [
           {
            "marker": {
             "colorbar": {
              "outlinewidth": 0,
              "ticks": ""
             }
            },
            "type": "scatterpolargl"
           }
          ],
          "scatterternary": [
           {
            "marker": {
             "colorbar": {
              "outlinewidth": 0,
              "ticks": ""
             }
            },
            "type": "scatterternary"
           }
          ],
          "surface": [
           {
            "colorbar": {
             "outlinewidth": 0,
             "ticks": ""
            },
            "colorscale": [
             [
              0,
              "#0d0887"
             ],
             [
              0.1111111111111111,
              "#46039f"
             ],
             [
              0.2222222222222222,
              "#7201a8"
             ],
             [
              0.3333333333333333,
              "#9c179e"
             ],
             [
              0.4444444444444444,
              "#bd3786"
             ],
             [
              0.5555555555555556,
              "#d8576b"
             ],
             [
              0.6666666666666666,
              "#ed7953"
             ],
             [
              0.7777777777777778,
              "#fb9f3a"
             ],
             [
              0.8888888888888888,
              "#fdca26"
             ],
             [
              1,
              "#f0f921"
             ]
            ],
            "type": "surface"
           }
          ],
          "table": [
           {
            "cells": {
             "fill": {
              "color": "#EBF0F8"
             },
             "line": {
              "color": "white"
             }
            },
            "header": {
             "fill": {
              "color": "#C8D4E3"
             },
             "line": {
              "color": "white"
             }
            },
            "type": "table"
           }
          ]
         },
         "layout": {
          "annotationdefaults": {
           "arrowcolor": "#2a3f5f",
           "arrowhead": 0,
           "arrowwidth": 1
          },
          "autotypenumbers": "strict",
          "coloraxis": {
           "colorbar": {
            "outlinewidth": 0,
            "ticks": ""
           }
          },
          "colorscale": {
           "diverging": [
            [
             0,
             "#8e0152"
            ],
            [
             0.1,
             "#c51b7d"
            ],
            [
             0.2,
             "#de77ae"
            ],
            [
             0.3,
             "#f1b6da"
            ],
            [
             0.4,
             "#fde0ef"
            ],
            [
             0.5,
             "#f7f7f7"
            ],
            [
             0.6,
             "#e6f5d0"
            ],
            [
             0.7,
             "#b8e186"
            ],
            [
             0.8,
             "#7fbc41"
            ],
            [
             0.9,
             "#4d9221"
            ],
            [
             1,
             "#276419"
            ]
           ],
           "sequential": [
            [
             0,
             "#0d0887"
            ],
            [
             0.1111111111111111,
             "#46039f"
            ],
            [
             0.2222222222222222,
             "#7201a8"
            ],
            [
             0.3333333333333333,
             "#9c179e"
            ],
            [
             0.4444444444444444,
             "#bd3786"
            ],
            [
             0.5555555555555556,
             "#d8576b"
            ],
            [
             0.6666666666666666,
             "#ed7953"
            ],
            [
             0.7777777777777778,
             "#fb9f3a"
            ],
            [
             0.8888888888888888,
             "#fdca26"
            ],
            [
             1,
             "#f0f921"
            ]
           ],
           "sequentialminus": [
            [
             0,
             "#0d0887"
            ],
            [
             0.1111111111111111,
             "#46039f"
            ],
            [
             0.2222222222222222,
             "#7201a8"
            ],
            [
             0.3333333333333333,
             "#9c179e"
            ],
            [
             0.4444444444444444,
             "#bd3786"
            ],
            [
             0.5555555555555556,
             "#d8576b"
            ],
            [
             0.6666666666666666,
             "#ed7953"
            ],
            [
             0.7777777777777778,
             "#fb9f3a"
            ],
            [
             0.8888888888888888,
             "#fdca26"
            ],
            [
             1,
             "#f0f921"
            ]
           ]
          },
          "colorway": [
           "#636efa",
           "#EF553B",
           "#00cc96",
           "#ab63fa",
           "#FFA15A",
           "#19d3f3",
           "#FF6692",
           "#B6E880",
           "#FF97FF",
           "#FECB52"
          ],
          "font": {
           "color": "#2a3f5f"
          },
          "geo": {
           "bgcolor": "white",
           "lakecolor": "white",
           "landcolor": "#E5ECF6",
           "showlakes": true,
           "showland": true,
           "subunitcolor": "white"
          },
          "hoverlabel": {
           "align": "left"
          },
          "hovermode": "closest",
          "mapbox": {
           "style": "light"
          },
          "paper_bgcolor": "white",
          "plot_bgcolor": "#E5ECF6",
          "polar": {
           "angularaxis": {
            "gridcolor": "white",
            "linecolor": "white",
            "ticks": ""
           },
           "bgcolor": "#E5ECF6",
           "radialaxis": {
            "gridcolor": "white",
            "linecolor": "white",
            "ticks": ""
           }
          },
          "scene": {
           "xaxis": {
            "backgroundcolor": "#E5ECF6",
            "gridcolor": "white",
            "gridwidth": 2,
            "linecolor": "white",
            "showbackground": true,
            "ticks": "",
            "zerolinecolor": "white"
           },
           "yaxis": {
            "backgroundcolor": "#E5ECF6",
            "gridcolor": "white",
            "gridwidth": 2,
            "linecolor": "white",
            "showbackground": true,
            "ticks": "",
            "zerolinecolor": "white"
           },
           "zaxis": {
            "backgroundcolor": "#E5ECF6",
            "gridcolor": "white",
            "gridwidth": 2,
            "linecolor": "white",
            "showbackground": true,
            "ticks": "",
            "zerolinecolor": "white"
           }
          },
          "shapedefaults": {
           "line": {
            "color": "#2a3f5f"
           }
          },
          "ternary": {
           "aaxis": {
            "gridcolor": "white",
            "linecolor": "white",
            "ticks": ""
           },
           "baxis": {
            "gridcolor": "white",
            "linecolor": "white",
            "ticks": ""
           },
           "bgcolor": "#E5ECF6",
           "caxis": {
            "gridcolor": "white",
            "linecolor": "white",
            "ticks": ""
           }
          },
          "title": {
           "x": 0.05
          },
          "xaxis": {
           "automargin": true,
           "gridcolor": "white",
           "linecolor": "white",
           "ticks": "",
           "title": {
            "standoff": 15
           },
           "zerolinecolor": "white",
           "zerolinewidth": 2
          },
          "yaxis": {
           "automargin": true,
           "gridcolor": "white",
           "linecolor": "white",
           "ticks": "",
           "title": {
            "standoff": 15
           },
           "zerolinecolor": "white",
           "zerolinewidth": 2
          }
         }
        },
        "title": {
         "text": "Пол ушедших клиентов"
        },
        "xaxis": {
         "anchor": "y",
         "domain": [
          0,
          1
         ],
         "title": {
          "text": "Пол"
         }
        },
        "yaxis": {
         "anchor": "x",
         "domain": [
          0,
          1
         ],
         "title": {
          "text": "Количество клиентов"
         }
        }
       }
      }
     },
     "metadata": {},
     "output_type": "display_data"
    }
   ],
   "source": [
    "# 9.6\n",
    "\n",
    "fig = px.histogram(churn_data,\n",
    "    x='Gender',\n",
    "    nbins=30,\n",
    "    title='Пол ушедших клиентов',\n",
    "    color=\"Exited\",\n",
    "    color_discrete_sequence=['red', 'blue'],\n",
    "    opacity=0.6)\n",
    "fig.update_xaxes(title_text='Пол')\n",
    "fig.update_yaxes(title_text='Количество клиентов')\n",
    "fig.show()"
   ]
  },
  {
   "cell_type": "markdown",
   "metadata": {},
   "source": [
    "Вывод: большая часть ушедних клиентов - женщины"
   ]
  },
  {
   "cell_type": "code",
   "execution_count": null,
   "metadata": {},
   "outputs": [
    {
     "data": {
      "application/vnd.plotly.v1+json": {
       "config": {
        "plotlyServerURL": "https://plot.ly"
       },
       "data": [
        {
         "alignmentgroup": "True",
         "bingroup": "x",
         "hovertemplate": "Exited=1<br>NumOfProducts=%{x}<br>count=%{y}<extra></extra>",
         "legendgroup": "1",
         "marker": {
          "color": "red",
          "opacity": 0.6,
          "pattern": {
           "shape": ""
          }
         },
         "name": "1",
         "nbinsx": 30,
         "offsetgroup": "1",
         "orientation": "v",
         "showlegend": true,
         "type": "histogram",
         "x": {
          "bdata": "AQMCBAEBAwEBAQEBAQEBBAEBAwMBAgECAQEBAQECAQEBAQEBAgEBAQIBAgEBAQIBAQEDAQEDAwEBAQEDAQEBAQMBAQEBAQEBAQECAQEDAwICAQEDAQEBAQEBAQEBAQMBAQIBAQIBAQEDAgEBAQMBAQMBAwEBAQECAgIBAQIBAQMBAQEBAQIBAQEBAQEBAQEBAgMDAgIBAgEDAQEDAgECAgEBAQEDAQEBAQECAQIBAQECAwEDAQMCAQIBAQEBAQMBAQEBAQECAwEBAQEBAgMBAQEBAQEBAQEBAQIBAQEBAQEDAQEDAQEBAQEDAgEBAQEBAQIBAQEBAQEBAQIDAQMCAQEBAgEBAQQBAwIBAQECAQEBAQEDAgEBAQEDAgEBAQEBAQEDAwEBAQIBAgIBAQIBAQEBAwEBAQEBAQEBBAECAQQBAQEBAQEBAQEBAQIBAQIBAgEDAQEBAgEBAQEBAQMBAQEBAwEBBAEBAQECAQEBAgECAgEBAwEBAQIBAQICAQEBAQEBBAIBAQECAQEDAQEBAQEBAQMCAQMBAQMBAQEDAQICAQEBAQMBAQIBAQEBAQEBAQIBAQIDAQEBAQIBBAIBAQIBAQEBAwEBAgEBAgQBAgECAgEDAQIBAQECAQIBAwIEAgEBAQEBAQIBAQEBAQMCAwEBAQEBAQECAQECAQEBAQEDAQEBAQEBAQEBBAEBAgEBAwQEAQMBAQECAQIBBAMDAgIBAQEBAgEBAQEDBAQBAQEBAgEBAwEBAQEBAQEBAwMBAQMDAQMBAQMBAgECAQIBAQMBAQEBAQEBAQIBAQECBAECAQMDAQECAgEBAQEBAgEDAQMBAQMBAwEBAQEDAQECAgEBAQECAQIBAQIDAQEBAQEBAQIBAgIEAQEBAgEBAwMBAQEBAQMBAQEBAQEBAQEBAgMBAQECAQECAQEBAQIBAgECAQEBAgIBBAEBAQEBAgEBAQEBAQEBAgEBAQIBAQEBAQECAQECAwECAQEBAgMBAQEBAQEBAQEBAQECAQIBAwEBAQEBAQEBAQEBAQEBAQIBAQMBAQEBAQMBAQEBAQEBAQIBAgEBAgEBAQEBAQEBAwECAQQDAgECAgEBAgECAgECAQEBAQEDAQEBAQEBAQIBAQIEBAEBAwEBAQEDAQMBAQEBAQEBAQEBAwEBAQQCAQIBAQEBAwEBAQEBAQECAQEBBAEBAwEBAQIBAgEBAgEBAQEBAQMCAQEBAQIDAQEBAQEBAQEBAQQBAQEBAgECAQIDAQECAQEBBAEEAwECAQIBAQIBAQEDAwEBAQQBAQECAQEBAgECAgQBAQMDAQEBAQEBAQEBAgECAQEEAgEBAQMCAQEBBAEBAQIDAQEBAwEBAQMBAQIBAQEBAgICAQECAQECAwEBAgIDAQECAQMEAQEBAQEBAgEBAQMBAwIBAwIDAQEBAQMBAgEEAQECAQEBAgEBAgEDAwEBAQQBAQECAQMBAQEBAQEBAQMBAQEDAQIBAQMBAQEBAgEBAQMBAQIBAQQBAwIBAQEBAQEBAgECAgEBAgEBAgEBAwEBAQEBAQMDAQEBAwEBAQECAQEBAQEBAQEBAQEBAQQBAQECAQEBAQMCAQECAQMBAQIBAgEDAQEBAgEBAQMBAQECAQEBAQEBBAECAwECAQEBAQIBAQMBAQEBAQEBAQMBAQEBAQIBAQECAQEBAQEBAQIBAQEBAgEDAQEEAQMEAQIBAgEBAQMDAQEBAQMBAgEBAQIBAQQBAQMBAQIBAQECAQEBAwMCAQEBAQEBAgEBAQEBAQIBAQECAQEBAQEBAwIBAQEDAQECAQMCAgEBAQEBAgEBAQEBAQIBAQECAQIBAQMCAQIBAQMBAgEBAQMCAQEEAQIBAgEBAwEBAQIBAQICAQEDAwEBAgIDAQQCAwEBAQEBAwMBAQEBAQMBAQECAQEBAQECAQIDAQIBAQIDAwECAQEBAQEBAQEDAQEBAgIBAQMCAQEDAQEBAwMBAQECAQEDAQMBAQQBAQEBAgEBAwIBAQEDAQEBAQECAgEBAQEBAgECAQEBAQEBAQEDAQEBAwEEAQEBAQEBAQEBAQEBAQMDAQECAwIBAQEEAwMBAQMBAQIBAQECAQMBAQECAgEBAgEEAQEBAwIEBAEBAQEBAQECAgIBAQEBAQEBAgEBAgIBAQEBAQEBAQEBAgIBAQICAQMCAQEBAQEBAQIBAQMDAgECAQECAQQBAQMCAQEBAQEDAQEBAQECAQMDAQEBAwECAQEBAQMBAQECAQIBAQEBAQECAQEBAQMBAgEDAQMBAQIBAQMDAwECAQEDAQEBAgEDAQIBAQIBAQMBAgIBAQEBAQIBAQEBAgMBAwEBAwICAQICAQMBAQEBAQMCAQIBAQEBAQEBAQQBAgEBAQEBAQEBAgECAQIBAQQBAgEBAgEBAQECAQEBAgECAQEBAQEDAQIBAgIBAQEEAQECAQEBAQMBAgEBAQEBBAECAQEBAQMBAQECAQECAgEBAQEBAQEBAgMCAgICAQEBAQEDAQECAQEBAQEDAQEBAQEBAgEBAQIEAQEBAwECBAEBAQEBAQMBAQQBAQEBAQEBBAIBAQEBAQQBAgMDAQECAQECAQECAQECAQEBAQEBBAMBAQEDBAIBAQEBAQEDAgECAQECAQEBAgECAwIBAgEBAgEBAwIBAQIBAQIBAQMBAQECAQEBAQIBAQIDAgEBAwEBAQEBAQECAQEBAgEBAQEC",
          "dtype": "i1"
         },
         "xaxis": "x",
         "yaxis": "y"
        },
        {
         "alignmentgroup": "True",
         "bingroup": "x",
         "hovertemplate": "Exited=0<br>NumOfProducts=%{x}<br>count=%{y}<extra></extra>",
         "legendgroup": "0",
         "marker": {
          "color": "blue",
          "opacity": 0.6,
          "pattern": {
           "shape": ""
          }
         },
         "name": "0",
         "nbinsx": 30,
         "offsetgroup": "0",
         "orientation": "v",
         "showlegend": true,
         "type": "histogram",
         "x": {
          "bdata": "AQIBAgIBAgICAgICAgECAgICAQIBAgECAQICAgEBAQIBAQECAQICAgIBAQEBAQICAQECAQICAQEBAgICAgEBAgICAQICAgICAgICAQECAgIBAgECAQEBAQIBAQIBAgICAQIBAQIBAgEBAgICAQEBAgEBAgEBAgICAQICAgEBAQIBAgIBAgECAQIBAgIBAQICAgIBAQICAgIBAgECAQIBAQEBAQEBAgICAQIBAgIBAgICAQICAgICAQICAQICAgIBAQICAQECAgIBAQIBAgEBAQICAQICAgECAgECAgECAgEBAQIBAgICAQEBAgIBAgIBAQIBAgECAQECAgEBAQECAgECAQICAQIBAgIBAgICAgIBAQICAQECAgICAQICAQICAQICAgEBAgIBAgEBAQICAgIBAQICAgIBAQECAQECAQECAgIBAgIBAgIBAgIBAgICAQEBAgEBAgEBAQICAgEBAgIBAQEBAgECAQEBAgECAQICAgIBAgICAQECAgECAQEBAgMCAQICAQEBAgICAQICAgIBAgEBAgICAgIBAgIBAQIBAQICAgECAQEBAQICAgIBAgICAgMCAQIBAgIBAQEBAQIBAgMCAgECAQIBAgICAQEBAQEBAgECAQECAQEBAgICAQECAQEBAgECAQECAgEBAQECAQECAgIBAQEBAQIBAgICAQECAQECAQIBAQICAgIBAgEBAgIBAgICAgICAQEBAgECAQICAQIBAgIBAgECAgIBAgICAQEBAQIBAgIBAgEBAgIDAQECAQEBAQICAQEBAgIBAQECAgEBAgICAgIBAQEBAQICAQIBAQIBAgICAgECAQIBAgIBAQECAQECAQICAgICAQIBAQICAgICAgECAgEBAgICAgICAgEBAgICAgEBAQEBAQICAQECAQICAgIBAQICAgIBAQICAgEBAgECAQECAQIBAQECAQECAQECAQIBAQICAQEBAQEBAgICAQECAQECAQECAgMCAQEBAQIBAQIBAgEBAQECAgEBAQEBAQECAQIBAgICAgECAQIBAgICAgECAgICAQIDAgECAQICAgICAQEBAgICAgEBAgICAQICAQIBAQICAgIBAQIBAQECAgICAQEBAQEBAgICAQECAQICAQICAgICAQIBAQECAgICAgEBAgICAgIBAgICAgECAgICAQIBAgICAQECAQEBAgIBAgICAgECAgIBAgMBAgEBAQIBAgECAQIBAgIBAgEBAgICAgICAgECAQECAgIBAgEBAgEBAgEBAgECAQECAgIBAgICAQIBAQICAgICAQIBAQECAgIBAgEBAgICAgIBAQICAQICAgIBAQEBAQECAQECAQECAgICAgEBAQIBAQEBAgIBAQECAQIBAQICAgICAQECAQICAgIBAQECAQICAgECAQIBAQEBAgECAQEBAgECAgIBAgICAgICAgIBAgECAQIBAQIBAQIBAgIBAQICAgIBAQEBAgECAQIBAgICAQEBAQECAQEBAQEBAQIBAgIBAQEBAgEBAgIBAgICAgECAQIBAQICAQECAgECAQIBAgECAgEBAgECAQICAgECAgICAQIBAQICAgIBAQICAgECAgECAQECAgIBAQECAQEBAgEBAQIBAQICAgIBAgICAgIBAgECAgIBAQEBAgICAQEBAgICAQICAQECAgEBAgIBAQIBAgEBAgICAgECAgMBAgICAQICAQICAQIBAQIBAgIBAgECAQEBAQIBAgIBAgEBAQICAgEBAgIBAgICAQICAQEBAgEBAQIBAgIBAgEBAgICAgICAgEBAQECAQIBAgEBAQIBAQICAgECAgIBAgICAgIBAgIBAQEBAgECAQEBAQIBAQICAgECAQECAgICAgIBAgECAQIBAQICAQIBAgECAgIBAgIBAQICAQEBAQICAgICAgECAgEBAQICAQIBAQICAgIBAgECAQEBAgICAQECAgEBAQECAgECAQECAQECAQIBAgEBAQIBAgICAQICAQECAQICAQIBAgICAQECAQIBAQICAgIBAgIBAQICAQICAgECAgECAgICAQEBAQECAgICAgICAgEBAQICAQIBAgECAQICAgICAgIBAQICAgECAgICAgEBAQICAQECAgECAQIBAQEBAgEBAQIBAgICAgIBAgICAQEBAQICAgICAgICAQIBAgICAgIBAgIBAQECAgIBAQEBAgEBAgICAgEBAgICAgECAgIBAwIBAgICAgEBAgICAQECAgICAgEBAQEBAQICAQECAgIBAQIBAQICAQECAQECAQIBAgIBAgECAQICAgEBAgECAgEBAQEBAQIBAgEBAgEBAgEBAQIDAQICAgEBAQIBAgIBAgIBAgICAQIBAgECAgIBAgICAQEBAQIBAgECAgECAQICAgIBAgIBAgIBAQEBAgEBAgICAQECAQECAgEBAQECAQEBAgICAQIBAQICAgECAgECAQICAQICAgIBAgECAQECAgECAQEBAgICAQICAQECAgECAgECAgECAgECAgICAgECAgEBAgICAQIBAQICAQICAQEBAQEBAwECAgEBAQIBAgICAgICAgIBAQEBAgIBAQECAgECAQECAgEBAgECAQECAgIBAgEBAgECAQECAQECAgICAQEBAgECAgEBAQECAgICAgICAgECAgIBAQICAQECAgIBAQIBAgEBAgICAgEBAgIBAgEBAQICAgEBAgICAQIBAgEBAQECAgECAQIBAgIBAQICAQEBAQECAgECAgIBAgIBAQICAgECAQICAgICAQEBAQICAQIBAgIBAgIBAQECAgECAgIBAQIBAgECAgIBAgIBAgECAgICAgECAQICAQICAQEBAQICAQEBAQICAQEBAQEBAgICAQIBAgECAgEBAgEBAQICAQICAQIBAgEBAgIBAgIBAQICAQICAQICAgICAgIBAQECAQEBAgEBAgEBAgIBAgICAwICAgIBAgECAQECAQECAQICAgEBAQICAQIBAgICAQICAQECAQICAgIBAgECAQEBAQICAgEBAQECAQECAQICAgECAQECAgIBAQECAgIBAgEBAgIBAgEBAgIBAgEBAgEBAgEBAQIBAgECAgICAQECAgECAQEBAgIBAgIBAQICAgICAgEBAQIBAQECAgIBAgECAQECAQEBAgECAQICAgECAgECAQECAQIBAgECAgECAQECAgECAgEBAgECAgICAgICAQEBAgECAQICAQIBAQICAgIDAQIBAgEBAgIBAgICAQICAgECAgIBAQIBAQIBAQIBAgECAgECAgICAQEBAgIBAQIBAQICAgEBAQECAQICAgEBAQIBAQICAgEBAgIBAgECAQICAgICAgEBAgIBAQIBAgIBAQICAQECAQIBAQEBAgEBAgEBAgICAgIBAQIBAgIBAgECAQICAQEBAgEBAQEBAgIBAQICAgIBAQIBAQIBAQECAgECAQICAQICAgICAQIBAgIBAQEBAgICAQIBAQICAgEBAgECAQICAgIBAQECAgICAQECAQIBAQEBAgECAgIBAgIBAQICAQIBAgECAQECAgECAgICAQEBAgECAgECAgIBAQECAQEBAgICAQECAgIBAgICAQIBAgICAQICAQEBAQEBAQIBAgECAgIBAQECAgECAgICAQEBAgECAgECAQIBAgEBAQICAgIBAQECAQECAQECAgIBAgEBAQIBAgECAQIBAQICAgIBAgECAgIBAQICAQECAQEBAQEBAQIBAQICAgECAgIBAgICAgIBAQICAgECAQECAQIBAQECAQEBAQEBAgEBAQICAQECAgICAgIBAgEBAgEBAgIBAQIBAgICAgECAQIBAQIBAQECAgICAgEBAQICAgICAQECAQICAQIBAgECAgIBAgEBAgEBAQICAgIBAgECAgEBAQEBAQECAgEBAgICAgEBAgECAQIBAgICAgEBAgIBAgEBAgEBAQECAQECAQECAQIBAwIBAQECAQECAgEBAgECAQIBAgECAgECAQEBAQIBAQIBAgEBAgEBAQEBAQECAgICAgICAgEBAgIBAgEBAQICAgEBAQEBAgECAgECAQICAQECAQECAgIBAgECAgICAgIBAQIBAgICAQICAgICAgIBAQECAQEDAgIBAgICAgECAQIBAQICAQICAgIBAgEBAgECAQEBAgECAQEBAgECAgECAQEBAgICAgECAgICAQECAgECAQIBAQICAgIBAQEBAgECAQECAgECAQEBAgICAQICAQIBAQIBAgEBAgECAgIBAgIBAgEBAQIBAgICAgIBAgEBAQEBAgIBAgICAQECAgICAgICAQECAQEBAgIBAgEBAQICAQICAgICAgICAgECAgEBAQECAQIBAQECAQEBAQICAgECAgIBAgIBAQEBAgIBAgEBAgIBAgEDAQICAgIBAgICAQIBAQECAgEBAgECAQEBAQEBAQICAQECAgIBAgIDAgICAgECAQIBAQIBAgEBAgIBAgEBAgIBAQIDAQIBAQEBAgIBAQICAQEBAQEBAgEBAQEBAQECAQICAgICAgEBAQEBAQICAgIBAQEBAwIBAgIBAgICAQIBAgICAgECAgEBAgICAQIBAQICAgECAgECAQICAgICAQIBAQICAQIBAgIBAQIBAQECAQEBAQICAgIBAQECAgIBAgEBAgECAgICAQIBAgEBAgICAQICAgIBAQECAgECAQEBAgICAgECAQEBAgICAgIBAgICAQEBAgEBAQICAQEBAQEBAgECAQECAQICAgEBAgEBAgECAQEBAQICAgICAgICAQECAQECAgICAgECAQICAgIBAgIBAQICAQECAgIBAgECAgIBAgIBAQIBAgICAgECAgEBAgECAgECAgICAQIBAQIBAQIBAQICAQICAgIBAgEBAQICAgICAgECAgECAQICAQIBAgIBAQIBAQIBAQECAQIBAQIBAgICAgIBAQEBAgICAQECAQECAgICAQEBAgICAQIBAQEBAgECAQICAgIBAgECAQICAgEBAQIBAgEBAgECAwICAgECAQECAQICAgICAQIBAgECAQIBAQIBAQECAgEBAgIBAQIBAQICAQICAQICAQECAgEBAQECAQICAQECAQIBAgECAQIBAgIBAgICAgECAQEBAQICAQEBAgECAgICAgIBAgEBAgEBAgICAgICAQEBAQICAgICAQICAgIBAQECAgICAQIBAQEBAgEBAgECAQIBAgICAgECAQEBAgEBAgECAgIBAgIBAQEBAQICAQEBAQIBAgEBAgEBAQECAgECAgIBAQIBAgICAgICAQIBAgICAgICAQEBAQICAgICAgMBAgEBAQEBAQECAQICAQIBAgIBAgECAgIBAgEBAgIBAgIBAQECAQICAQEBAgICAgIBAQEBAQECAQEBAgECAQIBAQECAgECAQEBAgIBAgICAQECAQIBAQECAgICAQEBAQIBAgICAQEBAgICAgECAgECAgIBAgICAwICAQIBAgEBAgECAgEBAQEBAgIBAgIBAQECAQIBAQECAQIBAgICAQEBAQICAgIBAQICAgIBAwEBAgEBAgIBAgICAQICAgIBAgEBAQECAgEBAgIBAQIBAgIBAgICAQECAgIBAQEBAgEBAgECAgECAQEBAgEBAQECAgIBAgECAQECAgICAgICAwECAgEBAQICAQICAQIBAgICAgEBAgIBAgICAQECAQICAQICAgIBAgIBAgIBAgIBAgICAgEBAQIBAgEBAgEBAgICAQECAgIBAgEBAgICAQEBAwEBAgICAQECAQICAQICAQICAQEBAgECAgIBAQIBAQEBAgICAgIBAQICAQICAQECAQICAQECAgEBAgECAgECAQEBAgECAgIBAgICAgICAgEBAQIBAQICAgEBAgIBAgICAgECAgICAgICAgIBAQEBAgEBAgEBAwEDAgEBAQIBAgECAgIBAgEBAgECAgIBAgIBAgICAQIBAQEBAgEBAgECAgEBAgICAgICAgICAgIBAgECAgECAQICAQIBAgEBAgICAgECAQIBAgIBAgECAgICAQIBAQICAQEBAgECAgECAgIBAQEBAQECAQEBAgECAgIBAgICAQIBAgECAQIBAQEBAQECAQECAQECAgICAgICAQICAgICAQECAgEBAgECAQECAgIBAQIBAQICAgMBAgEBAgECAgECAgECAgEBAgECAgECAQIBAgECAQEBAgICAQIBAgICAQICAQIBAgEBAgIBAQECAwECAgECAgECAQECAgEBAgIBAgEBAgIBAQICAQICAgECAgEBAgEBAQEBAgIBAQEBAgECAQIBAQIBAQICAgECAgEBAgIBAQICAQICAgEBAQECAgECAgICAQECAQICAQECAQECAQICAgICAQIBAgEBAQICAgICAQIBAgICAQIBAgIBAgECAQICAQICAgIBAQEBAQECAgICAQICAQEBAQICAgICAgICAQICAgECAQIBAgIBAQICAgICAQICAgECAQICAgECAgIBAgIBAgECAgIBAgIBAgIBAQEBAQEBAQICAgECAgIBAQECAQICAgECAQECAQMBAgEBAQICAQICAgEBAgIBAgIBAgIBAQECAQICAQIBAQECAQICAgICAgEBAgEBAQICAQICAgEBAgECAgIBAgICAQIBAQECAQIBAgEBAQECAgICAgICAgEBAgEBAQECAQECAQEBAQEBAgIBAQEBAgEBAgICAgIBAgIBAQIBAgICAgECAQECAwICAgIBAgIBAgICAQIBAgICAgIBAQICAQEBAgICAQEBAgECAgICAQEBAQECAgEBAgECAQEBAgEBAQEBAQECAQICAgECAgEBAQIBAgICAQIBAgICAgIBAgICAgIBAgICAgICAgECAQEBAgEBAgECAgICAgMCAQICAgEBAQECAQIDAgECAQEBAQECAQICAQICAgEBAgIBAgIBAgIBAgIBAQEBAgIBAgEBAQIBAgICAQICAgEBAgIBAgIBAQEBAgECAQICAgEBAgEBAQEBAgICAgECAgICAQIBAgECAgECAQEBAQECAgEBAgEBAgICAQICAQIBAgICAQECAgEBAQEBAgECAQIBAQEBAQEBAgEBAQIBAQIBAgICAQEBAgECAgIBAgEBAQICAQICAgEBAgIBAQEBAQEBAQICAQIBAgEDAQIBAgEBAQIBAQICAgICAgECAQECAQIBAQECAQIBAgICAQICAQICAQIBAQIBAgICAgIBAgIBAgICAgICAQIBAQEBAQICAQECAQIBAQEBAQEBAQECAgICAgICAQECAgECAQIBAgICAQIBAQECAQICAgECAgEBAgEBAgECAQIBAQECAQEBAgECAgICAQICAQIBAQEBAQICAQEBAQEBAQECAgEBAgIBAQICAgICAQIBAgECAgICAQICAgICAQEBAgECAgEBAgIBAQICAgIBAQECAQIBAgEBAQECAgECAQICAgICAgICAgICAgIBAgICAgECAgIBAgEBAQEBAQIBAgECAgICAQIBAQICAgECAQEBAgEBAgICAQICAQECAgEBAgEBAgICAgICAgIBAQEBAQIBAQIBAQICAgECAgEBAQEBAQICAgECAgECAgECAQIBAgECAgECAgIBAQICAQECAQICAgEBAQECAQIBAgIBAgIBAgECAgECAgECAgEBAQEBAQIBAgICAgICAgEBAQEBAQEBAgECAQEBAgEBAgIBAgIBAgECAgIBAQECAgECAQEBAQEBAQECAgECAgECAgECAgICAQICAQEBAQICAgECAgICAgECAgICAgICAQICAgIBAQIBAwIBAgICAgICAQECAQECAgIBAQECAQECAQEBAgICAQICAQICAQIBAgICAQICAQEBAgECAQICAgIBAgIBAgIBAgECAgICAgICAQICAgEBAQECAgECAQIBAQICAQECAgECAgEBAQICAQIBAgICAQICAgICAQIBAQECAgEBAgEBAgIBAQEBAgIBAQIBAQICAgECAgECAQIBAQICAgECAQICAQICAQEBAQIBAgECAgEBAgIBAQECAQICAQEBAgMCAgEBAgECAgECAgICAgICAgIBAgEBAgEBAgEBAgIBAgECAQIBAQIBAgICAQECAQECAgEBAgECAgECAQEBAQEBAgIBAQECAQEBAQIBAgICAgICAgIBAQECAgICAgICAQECAgECAQIBAgECAQEBAQICAgICAgEBAgEBAgICAQICAgIBAQICAgICAgEBAQECAgICAQEBAgIBAQICAgIBAQECAQEBAQECAQIBAQICAQIBAgECAgIBAQIBAgIBAgEBAQEBAgECAgICAQIBAgMBAgIBAQICAQICAQEBAgICAgECAQICAgIBAQICAQICAgIBAgECAgECAQICAgIBAQECAgECAgECAgEBAQECAgECAQECAQIBAQICAgEBAgICAgICAgICAQEBAQEBAgEBAgIBAQIBAQICAgICAQICAQIBAQECAgICAQIBAQICAQECAgECAQECAQEBAgECAgICAgICAgICAQICAQECAQEBAgICAgICAgIBAgEBAQECAgEBAQEBAgECAQICAQICAQIBAgICAgICAQECAQICAQICAQEBAgICAgIBAgIBAQEBAQECAQEBAgIBAgIBAQICAQIBAgIBAQIBAgMBAgEBAgEBAgECAgIBAgIBAQEBAQEBAgECAgEBAgICAgICAQICAQICAQECAQIBAgICAQECAQICAgIBAQICAQICAgIBAQECAQEBAgICAgICAgECAQMBAQICAgECAQICAQEBAQIBAQEBAQICAgIBAgECAQICAQEBAgICAgEBAQICAgECAQIBAgEBAQEBAgECAgICAgMBAgIBAgICAgICAgIBAgICAgICAgICAgEBAgEBAQICAgICAQECAQECAgIBAQICAQEBAQICAgEBAQICAQECAgECAgIBAQIBAgIBAgICAQECAQICAgICAgECAgIBAgIBAgICAgIBAgICAgECAgIBAgICAQIBAQECAgICAgECAgEBAQIBAQICAQICAQICAgIBAgIBAgIBAQEBAQECAQEBAQICAQECAQICAgEBAQIBAQICAgECAQIBAgICAgECAgICAgICAgICAQEBAgICAgICAgEBAgICAgICAgECAgIBAgECAQICAgICAQICAgEBAQIBAQICAgICAgICAQECAQIBAQICAgEBAgICAgECAgECAQECAgECAgEBAgIBAQIBAgIBAQICAQECAgICAQIBAQEBAgICAgICAgECAQECAgEBAQICAQIBAgICAgICAgIBAQECAgIBAQIBAgICAgECAgEBAQICAgICAQIBAgIBAgEBAQIBAgICAgIBAgEBAQICAgECAQIBAgIBAgEBAgECAgICAQECAgEBAQIBAgECAgECAQICAgEBAQEBAgEBAgECAgECAQECAQECAgICAQICAQICAgICAgICAQECAQEBAgICAgECAQEBAgEBAgECAgEBAQEBAgECAgIBAQIBAgIBAQICAQIBAQEBAgECAQECAgECAQIBAQEBAgIBAgICAgEBAgEBAwICAgICAQEBAQECAgICAQIBAQECAQECAgICAgICAQICAQECAgICAQECAgECAQICAgICAgIBAQEBAQIBAgICAgIBAgEBAQECAgEBAgICAgIBAQIBAgIBAgEBAQECAgICAQEBAgECAgECAQICAgEBAgEBAgEBAQIDAQECAQIBAQICAQEBAgICAQICAgECAQECAQEBAgECAQIBAgIBAgIBAQEBAgICAQECAQEBAQICAgICAQECAQICAQEBAQICAQIBAgICAgICAQICAQEBAgIBAQEBAgEBAQIBAQICAgECAgIBAQIBAgECAgECAgICAgECAgEBAQICAgICAQICAgEBAgIBAQICAgICAQEBAQECAwECAQIBAgECAQICAQECAQEBAgEBAgIBAQECAgIBAgECAgIBAgICAgEBAQECAgEBAgIBAgIBAgEBAgEBAQICAgIBAgECAgICAwEBAQICAQICAQIBAgIBAQIBAgICAQICAQIBAgEBAgIBAgEBAQEBAQECAQEBAQICAQIBAQIBAQECAQICAgEBAgEBAgECAgICAQECAQICAQICAQICAQIBAgECAgICAQIBAgEBAgICAgECAgECAgIBAgIBAgEBAgEBAQEBAQEBAgIBAgEBAQICAgIBAgIDAQICAQIBAQEBAQEBAQIBAgEBAQIBAgECAQICAQIBAgIBAQICAQECAgICAgIBAgIBAgECAgICAgEBAgICAQICAQECAQECAgECAQEBAgIBAQICAgIBAgECAQIBAQIBAQECAQIBAgEBAgICAQMCAgICAgIBAgECAQECAQECAQICAQIBAQEBAQICAgECAQIBAQECAgIBAQICAQEBAgICAQEBAQEBAQIBAQECAQICAgIBAQIBAQECAgIBAQICAgEBAgICAQECAgIBAgECAQEBAgIBAgECAgIBAgECAgECAgEBAQIBAQIBAQEBAgEBAgECAQIBAgIBAQICAQEBAQICAgECAQECAQIBAgECAQIBAgECAQICAgEBAgICAgEBAgECAQIBAQECAQIBAQECAQIBAQIBAQICAQEBAgICAgICAQEBAgIBAQ==",
          "dtype": "i1"
         },
         "xaxis": "x",
         "yaxis": "y"
        }
       ],
       "layout": {
        "barmode": "group",
        "legend": {
         "title": {
          "text": "Exited"
         },
         "tracegroupgap": 0
        },
        "template": {
         "data": {
          "bar": [
           {
            "error_x": {
             "color": "#2a3f5f"
            },
            "error_y": {
             "color": "#2a3f5f"
            },
            "marker": {
             "line": {
              "color": "#E5ECF6",
              "width": 0.5
             },
             "pattern": {
              "fillmode": "overlay",
              "size": 10,
              "solidity": 0.2
             }
            },
            "type": "bar"
           }
          ],
          "barpolar": [
           {
            "marker": {
             "line": {
              "color": "#E5ECF6",
              "width": 0.5
             },
             "pattern": {
              "fillmode": "overlay",
              "size": 10,
              "solidity": 0.2
             }
            },
            "type": "barpolar"
           }
          ],
          "carpet": [
           {
            "aaxis": {
             "endlinecolor": "#2a3f5f",
             "gridcolor": "white",
             "linecolor": "white",
             "minorgridcolor": "white",
             "startlinecolor": "#2a3f5f"
            },
            "baxis": {
             "endlinecolor": "#2a3f5f",
             "gridcolor": "white",
             "linecolor": "white",
             "minorgridcolor": "white",
             "startlinecolor": "#2a3f5f"
            },
            "type": "carpet"
           }
          ],
          "choropleth": [
           {
            "colorbar": {
             "outlinewidth": 0,
             "ticks": ""
            },
            "type": "choropleth"
           }
          ],
          "contour": [
           {
            "colorbar": {
             "outlinewidth": 0,
             "ticks": ""
            },
            "colorscale": [
             [
              0,
              "#0d0887"
             ],
             [
              0.1111111111111111,
              "#46039f"
             ],
             [
              0.2222222222222222,
              "#7201a8"
             ],
             [
              0.3333333333333333,
              "#9c179e"
             ],
             [
              0.4444444444444444,
              "#bd3786"
             ],
             [
              0.5555555555555556,
              "#d8576b"
             ],
             [
              0.6666666666666666,
              "#ed7953"
             ],
             [
              0.7777777777777778,
              "#fb9f3a"
             ],
             [
              0.8888888888888888,
              "#fdca26"
             ],
             [
              1,
              "#f0f921"
             ]
            ],
            "type": "contour"
           }
          ],
          "contourcarpet": [
           {
            "colorbar": {
             "outlinewidth": 0,
             "ticks": ""
            },
            "type": "contourcarpet"
           }
          ],
          "heatmap": [
           {
            "colorbar": {
             "outlinewidth": 0,
             "ticks": ""
            },
            "colorscale": [
             [
              0,
              "#0d0887"
             ],
             [
              0.1111111111111111,
              "#46039f"
             ],
             [
              0.2222222222222222,
              "#7201a8"
             ],
             [
              0.3333333333333333,
              "#9c179e"
             ],
             [
              0.4444444444444444,
              "#bd3786"
             ],
             [
              0.5555555555555556,
              "#d8576b"
             ],
             [
              0.6666666666666666,
              "#ed7953"
             ],
             [
              0.7777777777777778,
              "#fb9f3a"
             ],
             [
              0.8888888888888888,
              "#fdca26"
             ],
             [
              1,
              "#f0f921"
             ]
            ],
            "type": "heatmap"
           }
          ],
          "histogram": [
           {
            "marker": {
             "pattern": {
              "fillmode": "overlay",
              "size": 10,
              "solidity": 0.2
             }
            },
            "type": "histogram"
           }
          ],
          "histogram2d": [
           {
            "colorbar": {
             "outlinewidth": 0,
             "ticks": ""
            },
            "colorscale": [
             [
              0,
              "#0d0887"
             ],
             [
              0.1111111111111111,
              "#46039f"
             ],
             [
              0.2222222222222222,
              "#7201a8"
             ],
             [
              0.3333333333333333,
              "#9c179e"
             ],
             [
              0.4444444444444444,
              "#bd3786"
             ],
             [
              0.5555555555555556,
              "#d8576b"
             ],
             [
              0.6666666666666666,
              "#ed7953"
             ],
             [
              0.7777777777777778,
              "#fb9f3a"
             ],
             [
              0.8888888888888888,
              "#fdca26"
             ],
             [
              1,
              "#f0f921"
             ]
            ],
            "type": "histogram2d"
           }
          ],
          "histogram2dcontour": [
           {
            "colorbar": {
             "outlinewidth": 0,
             "ticks": ""
            },
            "colorscale": [
             [
              0,
              "#0d0887"
             ],
             [
              0.1111111111111111,
              "#46039f"
             ],
             [
              0.2222222222222222,
              "#7201a8"
             ],
             [
              0.3333333333333333,
              "#9c179e"
             ],
             [
              0.4444444444444444,
              "#bd3786"
             ],
             [
              0.5555555555555556,
              "#d8576b"
             ],
             [
              0.6666666666666666,
              "#ed7953"
             ],
             [
              0.7777777777777778,
              "#fb9f3a"
             ],
             [
              0.8888888888888888,
              "#fdca26"
             ],
             [
              1,
              "#f0f921"
             ]
            ],
            "type": "histogram2dcontour"
           }
          ],
          "mesh3d": [
           {
            "colorbar": {
             "outlinewidth": 0,
             "ticks": ""
            },
            "type": "mesh3d"
           }
          ],
          "parcoords": [
           {
            "line": {
             "colorbar": {
              "outlinewidth": 0,
              "ticks": ""
             }
            },
            "type": "parcoords"
           }
          ],
          "pie": [
           {
            "automargin": true,
            "type": "pie"
           }
          ],
          "scatter": [
           {
            "fillpattern": {
             "fillmode": "overlay",
             "size": 10,
             "solidity": 0.2
            },
            "type": "scatter"
           }
          ],
          "scatter3d": [
           {
            "line": {
             "colorbar": {
              "outlinewidth": 0,
              "ticks": ""
             }
            },
            "marker": {
             "colorbar": {
              "outlinewidth": 0,
              "ticks": ""
             }
            },
            "type": "scatter3d"
           }
          ],
          "scattercarpet": [
           {
            "marker": {
             "colorbar": {
              "outlinewidth": 0,
              "ticks": ""
             }
            },
            "type": "scattercarpet"
           }
          ],
          "scattergeo": [
           {
            "marker": {
             "colorbar": {
              "outlinewidth": 0,
              "ticks": ""
             }
            },
            "type": "scattergeo"
           }
          ],
          "scattergl": [
           {
            "marker": {
             "colorbar": {
              "outlinewidth": 0,
              "ticks": ""
             }
            },
            "type": "scattergl"
           }
          ],
          "scattermap": [
           {
            "marker": {
             "colorbar": {
              "outlinewidth": 0,
              "ticks": ""
             }
            },
            "type": "scattermap"
           }
          ],
          "scattermapbox": [
           {
            "marker": {
             "colorbar": {
              "outlinewidth": 0,
              "ticks": ""
             }
            },
            "type": "scattermapbox"
           }
          ],
          "scatterpolar": [
           {
            "marker": {
             "colorbar": {
              "outlinewidth": 0,
              "ticks": ""
             }
            },
            "type": "scatterpolar"
           }
          ],
          "scatterpolargl": [
           {
            "marker": {
             "colorbar": {
              "outlinewidth": 0,
              "ticks": ""
             }
            },
            "type": "scatterpolargl"
           }
          ],
          "scatterternary": [
           {
            "marker": {
             "colorbar": {
              "outlinewidth": 0,
              "ticks": ""
             }
            },
            "type": "scatterternary"
           }
          ],
          "surface": [
           {
            "colorbar": {
             "outlinewidth": 0,
             "ticks": ""
            },
            "colorscale": [
             [
              0,
              "#0d0887"
             ],
             [
              0.1111111111111111,
              "#46039f"
             ],
             [
              0.2222222222222222,
              "#7201a8"
             ],
             [
              0.3333333333333333,
              "#9c179e"
             ],
             [
              0.4444444444444444,
              "#bd3786"
             ],
             [
              0.5555555555555556,
              "#d8576b"
             ],
             [
              0.6666666666666666,
              "#ed7953"
             ],
             [
              0.7777777777777778,
              "#fb9f3a"
             ],
             [
              0.8888888888888888,
              "#fdca26"
             ],
             [
              1,
              "#f0f921"
             ]
            ],
            "type": "surface"
           }
          ],
          "table": [
           {
            "cells": {
             "fill": {
              "color": "#EBF0F8"
             },
             "line": {
              "color": "white"
             }
            },
            "header": {
             "fill": {
              "color": "#C8D4E3"
             },
             "line": {
              "color": "white"
             }
            },
            "type": "table"
           }
          ]
         },
         "layout": {
          "annotationdefaults": {
           "arrowcolor": "#2a3f5f",
           "arrowhead": 0,
           "arrowwidth": 1
          },
          "autotypenumbers": "strict",
          "coloraxis": {
           "colorbar": {
            "outlinewidth": 0,
            "ticks": ""
           }
          },
          "colorscale": {
           "diverging": [
            [
             0,
             "#8e0152"
            ],
            [
             0.1,
             "#c51b7d"
            ],
            [
             0.2,
             "#de77ae"
            ],
            [
             0.3,
             "#f1b6da"
            ],
            [
             0.4,
             "#fde0ef"
            ],
            [
             0.5,
             "#f7f7f7"
            ],
            [
             0.6,
             "#e6f5d0"
            ],
            [
             0.7,
             "#b8e186"
            ],
            [
             0.8,
             "#7fbc41"
            ],
            [
             0.9,
             "#4d9221"
            ],
            [
             1,
             "#276419"
            ]
           ],
           "sequential": [
            [
             0,
             "#0d0887"
            ],
            [
             0.1111111111111111,
             "#46039f"
            ],
            [
             0.2222222222222222,
             "#7201a8"
            ],
            [
             0.3333333333333333,
             "#9c179e"
            ],
            [
             0.4444444444444444,
             "#bd3786"
            ],
            [
             0.5555555555555556,
             "#d8576b"
            ],
            [
             0.6666666666666666,
             "#ed7953"
            ],
            [
             0.7777777777777778,
             "#fb9f3a"
            ],
            [
             0.8888888888888888,
             "#fdca26"
            ],
            [
             1,
             "#f0f921"
            ]
           ],
           "sequentialminus": [
            [
             0,
             "#0d0887"
            ],
            [
             0.1111111111111111,
             "#46039f"
            ],
            [
             0.2222222222222222,
             "#7201a8"
            ],
            [
             0.3333333333333333,
             "#9c179e"
            ],
            [
             0.4444444444444444,
             "#bd3786"
            ],
            [
             0.5555555555555556,
             "#d8576b"
            ],
            [
             0.6666666666666666,
             "#ed7953"
            ],
            [
             0.7777777777777778,
             "#fb9f3a"
            ],
            [
             0.8888888888888888,
             "#fdca26"
            ],
            [
             1,
             "#f0f921"
            ]
           ]
          },
          "colorway": [
           "#636efa",
           "#EF553B",
           "#00cc96",
           "#ab63fa",
           "#FFA15A",
           "#19d3f3",
           "#FF6692",
           "#B6E880",
           "#FF97FF",
           "#FECB52"
          ],
          "font": {
           "color": "#2a3f5f"
          },
          "geo": {
           "bgcolor": "white",
           "lakecolor": "white",
           "landcolor": "#E5ECF6",
           "showlakes": true,
           "showland": true,
           "subunitcolor": "white"
          },
          "hoverlabel": {
           "align": "left"
          },
          "hovermode": "closest",
          "mapbox": {
           "style": "light"
          },
          "paper_bgcolor": "white",
          "plot_bgcolor": "#E5ECF6",
          "polar": {
           "angularaxis": {
            "gridcolor": "white",
            "linecolor": "white",
            "ticks": ""
           },
           "bgcolor": "#E5ECF6",
           "radialaxis": {
            "gridcolor": "white",
            "linecolor": "white",
            "ticks": ""
           }
          },
          "scene": {
           "xaxis": {
            "backgroundcolor": "#E5ECF6",
            "gridcolor": "white",
            "gridwidth": 2,
            "linecolor": "white",
            "showbackground": true,
            "ticks": "",
            "zerolinecolor": "white"
           },
           "yaxis": {
            "backgroundcolor": "#E5ECF6",
            "gridcolor": "white",
            "gridwidth": 2,
            "linecolor": "white",
            "showbackground": true,
            "ticks": "",
            "zerolinecolor": "white"
           },
           "zaxis": {
            "backgroundcolor": "#E5ECF6",
            "gridcolor": "white",
            "gridwidth": 2,
            "linecolor": "white",
            "showbackground": true,
            "ticks": "",
            "zerolinecolor": "white"
           }
          },
          "shapedefaults": {
           "line": {
            "color": "#2a3f5f"
           }
          },
          "ternary": {
           "aaxis": {
            "gridcolor": "white",
            "linecolor": "white",
            "ticks": ""
           },
           "baxis": {
            "gridcolor": "white",
            "linecolor": "white",
            "ticks": ""
           },
           "bgcolor": "#E5ECF6",
           "caxis": {
            "gridcolor": "white",
            "linecolor": "white",
            "ticks": ""
           }
          },
          "title": {
           "x": 0.05
          },
          "xaxis": {
           "automargin": true,
           "gridcolor": "white",
           "linecolor": "white",
           "ticks": "",
           "title": {
            "standoff": 15
           },
           "zerolinecolor": "white",
           "zerolinewidth": 2
          },
          "yaxis": {
           "automargin": true,
           "gridcolor": "white",
           "linecolor": "white",
           "ticks": "",
           "title": {
            "standoff": 15
           },
           "zerolinecolor": "white",
           "zerolinewidth": 2
          }
         }
        },
        "title": {
         "text": "Зависимость количества услуг от оттока клиентов"
        },
        "xaxis": {
         "anchor": "y",
         "domain": [
          0,
          1
         ],
         "title": {
          "text": "Количество услуг"
         }
        },
        "yaxis": {
         "anchor": "x",
         "domain": [
          0,
          1
         ],
         "title": {
          "text": "Количество клиентов"
         }
        }
       }
      }
     },
     "metadata": {},
     "output_type": "display_data"
    }
   ],
   "source": [
    "# 9.7\n",
    "\n",
    "fig = px.histogram(churn_data,\n",
    "    x='NumOfProducts',\n",
    "    nbins=30,\n",
    "    title='Зависимость количества услуг от оттока клиентов',\n",
    "    color=\"Exited\",\n",
    "    color_discrete_sequence=['red', 'blue'],\n",
    "    barmode='group',\n",
    "    opacity=0.6)\n",
    "fig.update_xaxes(title_text='Количество услуг')\n",
    "fig.update_yaxes(title_text='Количество клиентов')\n",
    "fig.show()"
   ]
  },
  {
   "cell_type": "code",
   "execution_count": 20,
   "metadata": {},
   "outputs": [
    {
     "data": {
      "application/vnd.plotly.v1+json": {
       "config": {
        "plotlyServerURL": "https://plot.ly"
       },
       "data": [
        {
         "alignmentgroup": "True",
         "hovertemplate": "NumOfProducts=%{x}<br>CustomerId=%{y}<br>Exited=%{marker.color}<extra></extra>",
         "legendgroup": "",
         "marker": {
          "color": {
           "bdata": "AAEAAQABAQ==",
           "dtype": "i1"
          },
          "coloraxis": "coloraxis",
          "pattern": {
           "shape": ""
          }
         },
         "name": "",
         "offsetgroup": "",
         "orientation": "v",
         "showlegend": false,
         "textposition": "auto",
         "texttemplate": "%{y}",
         "type": "bar",
         "x": {
          "bdata": "AQECAgMDBA==",
          "dtype": "i1"
         },
         "xaxis": "x",
         "y": {
          "bdata": "Ww6BBZIQXAEuANwAPAA=",
          "dtype": "i2"
         },
         "yaxis": "y"
        }
       ],
       "layout": {
        "barmode": "group",
        "coloraxis": {
         "colorbar": {
          "title": {
           "text": "Exited"
          }
         },
         "colorscale": [
          [
           0,
           "#0d0887"
          ],
          [
           0.1111111111111111,
           "#46039f"
          ],
          [
           0.2222222222222222,
           "#7201a8"
          ],
          [
           0.3333333333333333,
           "#9c179e"
          ],
          [
           0.4444444444444444,
           "#bd3786"
          ],
          [
           0.5555555555555556,
           "#d8576b"
          ],
          [
           0.6666666666666666,
           "#ed7953"
          ],
          [
           0.7777777777777778,
           "#fb9f3a"
          ],
          [
           0.8888888888888888,
           "#fdca26"
          ],
          [
           1,
           "#f0f921"
          ]
         ]
        },
        "height": 500,
        "legend": {
         "tracegroupgap": 0
        },
        "template": {
         "data": {
          "bar": [
           {
            "error_x": {
             "color": "#2a3f5f"
            },
            "error_y": {
             "color": "#2a3f5f"
            },
            "marker": {
             "line": {
              "color": "#E5ECF6",
              "width": 0.5
             },
             "pattern": {
              "fillmode": "overlay",
              "size": 10,
              "solidity": 0.2
             }
            },
            "type": "bar"
           }
          ],
          "barpolar": [
           {
            "marker": {
             "line": {
              "color": "#E5ECF6",
              "width": 0.5
             },
             "pattern": {
              "fillmode": "overlay",
              "size": 10,
              "solidity": 0.2
             }
            },
            "type": "barpolar"
           }
          ],
          "carpet": [
           {
            "aaxis": {
             "endlinecolor": "#2a3f5f",
             "gridcolor": "white",
             "linecolor": "white",
             "minorgridcolor": "white",
             "startlinecolor": "#2a3f5f"
            },
            "baxis": {
             "endlinecolor": "#2a3f5f",
             "gridcolor": "white",
             "linecolor": "white",
             "minorgridcolor": "white",
             "startlinecolor": "#2a3f5f"
            },
            "type": "carpet"
           }
          ],
          "choropleth": [
           {
            "colorbar": {
             "outlinewidth": 0,
             "ticks": ""
            },
            "type": "choropleth"
           }
          ],
          "contour": [
           {
            "colorbar": {
             "outlinewidth": 0,
             "ticks": ""
            },
            "colorscale": [
             [
              0,
              "#0d0887"
             ],
             [
              0.1111111111111111,
              "#46039f"
             ],
             [
              0.2222222222222222,
              "#7201a8"
             ],
             [
              0.3333333333333333,
              "#9c179e"
             ],
             [
              0.4444444444444444,
              "#bd3786"
             ],
             [
              0.5555555555555556,
              "#d8576b"
             ],
             [
              0.6666666666666666,
              "#ed7953"
             ],
             [
              0.7777777777777778,
              "#fb9f3a"
             ],
             [
              0.8888888888888888,
              "#fdca26"
             ],
             [
              1,
              "#f0f921"
             ]
            ],
            "type": "contour"
           }
          ],
          "contourcarpet": [
           {
            "colorbar": {
             "outlinewidth": 0,
             "ticks": ""
            },
            "type": "contourcarpet"
           }
          ],
          "heatmap": [
           {
            "colorbar": {
             "outlinewidth": 0,
             "ticks": ""
            },
            "colorscale": [
             [
              0,
              "#0d0887"
             ],
             [
              0.1111111111111111,
              "#46039f"
             ],
             [
              0.2222222222222222,
              "#7201a8"
             ],
             [
              0.3333333333333333,
              "#9c179e"
             ],
             [
              0.4444444444444444,
              "#bd3786"
             ],
             [
              0.5555555555555556,
              "#d8576b"
             ],
             [
              0.6666666666666666,
              "#ed7953"
             ],
             [
              0.7777777777777778,
              "#fb9f3a"
             ],
             [
              0.8888888888888888,
              "#fdca26"
             ],
             [
              1,
              "#f0f921"
             ]
            ],
            "type": "heatmap"
           }
          ],
          "histogram": [
           {
            "marker": {
             "pattern": {
              "fillmode": "overlay",
              "size": 10,
              "solidity": 0.2
             }
            },
            "type": "histogram"
           }
          ],
          "histogram2d": [
           {
            "colorbar": {
             "outlinewidth": 0,
             "ticks": ""
            },
            "colorscale": [
             [
              0,
              "#0d0887"
             ],
             [
              0.1111111111111111,
              "#46039f"
             ],
             [
              0.2222222222222222,
              "#7201a8"
             ],
             [
              0.3333333333333333,
              "#9c179e"
             ],
             [
              0.4444444444444444,
              "#bd3786"
             ],
             [
              0.5555555555555556,
              "#d8576b"
             ],
             [
              0.6666666666666666,
              "#ed7953"
             ],
             [
              0.7777777777777778,
              "#fb9f3a"
             ],
             [
              0.8888888888888888,
              "#fdca26"
             ],
             [
              1,
              "#f0f921"
             ]
            ],
            "type": "histogram2d"
           }
          ],
          "histogram2dcontour": [
           {
            "colorbar": {
             "outlinewidth": 0,
             "ticks": ""
            },
            "colorscale": [
             [
              0,
              "#0d0887"
             ],
             [
              0.1111111111111111,
              "#46039f"
             ],
             [
              0.2222222222222222,
              "#7201a8"
             ],
             [
              0.3333333333333333,
              "#9c179e"
             ],
             [
              0.4444444444444444,
              "#bd3786"
             ],
             [
              0.5555555555555556,
              "#d8576b"
             ],
             [
              0.6666666666666666,
              "#ed7953"
             ],
             [
              0.7777777777777778,
              "#fb9f3a"
             ],
             [
              0.8888888888888888,
              "#fdca26"
             ],
             [
              1,
              "#f0f921"
             ]
            ],
            "type": "histogram2dcontour"
           }
          ],
          "mesh3d": [
           {
            "colorbar": {
             "outlinewidth": 0,
             "ticks": ""
            },
            "type": "mesh3d"
           }
          ],
          "parcoords": [
           {
            "line": {
             "colorbar": {
              "outlinewidth": 0,
              "ticks": ""
             }
            },
            "type": "parcoords"
           }
          ],
          "pie": [
           {
            "automargin": true,
            "type": "pie"
           }
          ],
          "scatter": [
           {
            "fillpattern": {
             "fillmode": "overlay",
             "size": 10,
             "solidity": 0.2
            },
            "type": "scatter"
           }
          ],
          "scatter3d": [
           {
            "line": {
             "colorbar": {
              "outlinewidth": 0,
              "ticks": ""
             }
            },
            "marker": {
             "colorbar": {
              "outlinewidth": 0,
              "ticks": ""
             }
            },
            "type": "scatter3d"
           }
          ],
          "scattercarpet": [
           {
            "marker": {
             "colorbar": {
              "outlinewidth": 0,
              "ticks": ""
             }
            },
            "type": "scattercarpet"
           }
          ],
          "scattergeo": [
           {
            "marker": {
             "colorbar": {
              "outlinewidth": 0,
              "ticks": ""
             }
            },
            "type": "scattergeo"
           }
          ],
          "scattergl": [
           {
            "marker": {
             "colorbar": {
              "outlinewidth": 0,
              "ticks": ""
             }
            },
            "type": "scattergl"
           }
          ],
          "scattermap": [
           {
            "marker": {
             "colorbar": {
              "outlinewidth": 0,
              "ticks": ""
             }
            },
            "type": "scattermap"
           }
          ],
          "scattermapbox": [
           {
            "marker": {
             "colorbar": {
              "outlinewidth": 0,
              "ticks": ""
             }
            },
            "type": "scattermapbox"
           }
          ],
          "scatterpolar": [
           {
            "marker": {
             "colorbar": {
              "outlinewidth": 0,
              "ticks": ""
             }
            },
            "type": "scatterpolar"
           }
          ],
          "scatterpolargl": [
           {
            "marker": {
             "colorbar": {
              "outlinewidth": 0,
              "ticks": ""
             }
            },
            "type": "scatterpolargl"
           }
          ],
          "scatterternary": [
           {
            "marker": {
             "colorbar": {
              "outlinewidth": 0,
              "ticks": ""
             }
            },
            "type": "scatterternary"
           }
          ],
          "surface": [
           {
            "colorbar": {
             "outlinewidth": 0,
             "ticks": ""
            },
            "colorscale": [
             [
              0,
              "#0d0887"
             ],
             [
              0.1111111111111111,
              "#46039f"
             ],
             [
              0.2222222222222222,
              "#7201a8"
             ],
             [
              0.3333333333333333,
              "#9c179e"
             ],
             [
              0.4444444444444444,
              "#bd3786"
             ],
             [
              0.5555555555555556,
              "#d8576b"
             ],
             [
              0.6666666666666666,
              "#ed7953"
             ],
             [
              0.7777777777777778,
              "#fb9f3a"
             ],
             [
              0.8888888888888888,
              "#fdca26"
             ],
             [
              1,
              "#f0f921"
             ]
            ],
            "type": "surface"
           }
          ],
          "table": [
           {
            "cells": {
             "fill": {
              "color": "#EBF0F8"
             },
             "line": {
              "color": "white"
             }
            },
            "header": {
             "fill": {
              "color": "#C8D4E3"
             },
             "line": {
              "color": "white"
             }
            },
            "type": "table"
           }
          ]
         },
         "layout": {
          "annotationdefaults": {
           "arrowcolor": "#2a3f5f",
           "arrowhead": 0,
           "arrowwidth": 1
          },
          "autotypenumbers": "strict",
          "coloraxis": {
           "colorbar": {
            "outlinewidth": 0,
            "ticks": ""
           }
          },
          "colorscale": {
           "diverging": [
            [
             0,
             "#8e0152"
            ],
            [
             0.1,
             "#c51b7d"
            ],
            [
             0.2,
             "#de77ae"
            ],
            [
             0.3,
             "#f1b6da"
            ],
            [
             0.4,
             "#fde0ef"
            ],
            [
             0.5,
             "#f7f7f7"
            ],
            [
             0.6,
             "#e6f5d0"
            ],
            [
             0.7,
             "#b8e186"
            ],
            [
             0.8,
             "#7fbc41"
            ],
            [
             0.9,
             "#4d9221"
            ],
            [
             1,
             "#276419"
            ]
           ],
           "sequential": [
            [
             0,
             "#0d0887"
            ],
            [
             0.1111111111111111,
             "#46039f"
            ],
            [
             0.2222222222222222,
             "#7201a8"
            ],
            [
             0.3333333333333333,
             "#9c179e"
            ],
            [
             0.4444444444444444,
             "#bd3786"
            ],
            [
             0.5555555555555556,
             "#d8576b"
            ],
            [
             0.6666666666666666,
             "#ed7953"
            ],
            [
             0.7777777777777778,
             "#fb9f3a"
            ],
            [
             0.8888888888888888,
             "#fdca26"
            ],
            [
             1,
             "#f0f921"
            ]
           ],
           "sequentialminus": [
            [
             0,
             "#0d0887"
            ],
            [
             0.1111111111111111,
             "#46039f"
            ],
            [
             0.2222222222222222,
             "#7201a8"
            ],
            [
             0.3333333333333333,
             "#9c179e"
            ],
            [
             0.4444444444444444,
             "#bd3786"
            ],
            [
             0.5555555555555556,
             "#d8576b"
            ],
            [
             0.6666666666666666,
             "#ed7953"
            ],
            [
             0.7777777777777778,
             "#fb9f3a"
            ],
            [
             0.8888888888888888,
             "#fdca26"
            ],
            [
             1,
             "#f0f921"
            ]
           ]
          },
          "colorway": [
           "#636efa",
           "#EF553B",
           "#00cc96",
           "#ab63fa",
           "#FFA15A",
           "#19d3f3",
           "#FF6692",
           "#B6E880",
           "#FF97FF",
           "#FECB52"
          ],
          "font": {
           "color": "#2a3f5f"
          },
          "geo": {
           "bgcolor": "white",
           "lakecolor": "white",
           "landcolor": "#E5ECF6",
           "showlakes": true,
           "showland": true,
           "subunitcolor": "white"
          },
          "hoverlabel": {
           "align": "left"
          },
          "hovermode": "closest",
          "mapbox": {
           "style": "light"
          },
          "paper_bgcolor": "white",
          "plot_bgcolor": "#E5ECF6",
          "polar": {
           "angularaxis": {
            "gridcolor": "white",
            "linecolor": "white",
            "ticks": ""
           },
           "bgcolor": "#E5ECF6",
           "radialaxis": {
            "gridcolor": "white",
            "linecolor": "white",
            "ticks": ""
           }
          },
          "scene": {
           "xaxis": {
            "backgroundcolor": "#E5ECF6",
            "gridcolor": "white",
            "gridwidth": 2,
            "linecolor": "white",
            "showbackground": true,
            "ticks": "",
            "zerolinecolor": "white"
           },
           "yaxis": {
            "backgroundcolor": "#E5ECF6",
            "gridcolor": "white",
            "gridwidth": 2,
            "linecolor": "white",
            "showbackground": true,
            "ticks": "",
            "zerolinecolor": "white"
           },
           "zaxis": {
            "backgroundcolor": "#E5ECF6",
            "gridcolor": "white",
            "gridwidth": 2,
            "linecolor": "white",
            "showbackground": true,
            "ticks": "",
            "zerolinecolor": "white"
           }
          },
          "shapedefaults": {
           "line": {
            "color": "#2a3f5f"
           }
          },
          "ternary": {
           "aaxis": {
            "gridcolor": "white",
            "linecolor": "white",
            "ticks": ""
           },
           "baxis": {
            "gridcolor": "white",
            "linecolor": "white",
            "ticks": ""
           },
           "bgcolor": "#E5ECF6",
           "caxis": {
            "gridcolor": "white",
            "linecolor": "white",
            "ticks": ""
           }
          },
          "title": {
           "x": 0.05
          },
          "xaxis": {
           "automargin": true,
           "gridcolor": "white",
           "linecolor": "white",
           "ticks": "",
           "title": {
            "standoff": 15
           },
           "zerolinecolor": "white",
           "zerolinewidth": 2
          },
          "yaxis": {
           "automargin": true,
           "gridcolor": "white",
           "linecolor": "white",
           "ticks": "",
           "title": {
            "standoff": 15
           },
           "zerolinecolor": "white",
           "zerolinewidth": 2
          }
         }
        },
        "title": {
         "text": "Зависимость оттока клиентов от количества услуг"
        },
        "width": 1000,
        "xaxis": {
         "anchor": "y",
         "domain": [
          0,
          1
         ],
         "title": {
          "text": "NumOfProducts"
         }
        },
        "yaxis": {
         "anchor": "x",
         "domain": [
          0,
          1
         ],
         "title": {
          "text": "CustomerId"
         }
        }
       }
      }
     },
     "metadata": {},
     "output_type": "display_data"
    }
   ],
   "source": [
    "# 9.7 second option\n",
    "\n",
    "products = churn_data.groupby(by=['NumOfProducts', 'Exited'], as_index=False).count()\n",
    "fig = px.bar(\n",
    "    data_frame=products,\n",
    "    x = 'NumOfProducts',\n",
    "    y = 'CustomerId',\n",
    "    color = 'Exited',\n",
    "    text_auto=True,\n",
    "    height=500,\n",
    "    width=1000,\n",
    "    title='Зависимость оттока клиентов от количества услуг',\n",
    "    barmode='group'\n",
    ")\n",
    "fig.show()"
   ]
  },
  {
   "cell_type": "markdown",
   "metadata": {},
   "source": [
    "Вывод: с количеством приобретенных услуг падает количество ушедших клиентов, наибольшее количество уходит после приобретения 1 услуги\n",
    "\n",
    "P.S. Составил 2 графика, подскажите, пожалуйста, какой наиболее наглядный/точный, сначала я сделал привычным для себя способом, т.к. на мой взгляд он проще, потом сделал так, как требовалось в задании, т.е. многоуровневой диаграммой, но потратил больше времени на ее построение"
   ]
  },
  {
   "cell_type": "code",
   "execution_count": 25,
   "metadata": {},
   "outputs": [
    {
     "data": {
      "application/vnd.plotly.v1+json": {
       "config": {
        "plotlyServerURL": "https://plot.ly"
       },
       "data": [
        {
         "alignmentgroup": "True",
         "hovertemplate": "IsActiveMember=%{x}<br>CustomerId=%{y}<br>Exited=%{marker.color}<extra></extra>",
         "legendgroup": "",
         "marker": {
          "color": {
           "bdata": "AAEAAQ==",
           "dtype": "i1"
          },
          "coloraxis": "coloraxis",
          "pattern": {
           "shape": ""
          }
         },
         "name": "",
         "offsetgroup": "",
         "orientation": "v",
         "showlegend": false,
         "textposition": "auto",
         "texttemplate": "%{y}",
         "type": "bar",
         "x": {
          "bdata": "AAABAQ==",
          "dtype": "i1"
         },
         "xaxis": "x",
         "y": {
          "bdata": "2w0WBUAR3wI=",
          "dtype": "i2"
         },
         "yaxis": "y"
        }
       ],
       "layout": {
        "barmode": "group",
        "coloraxis": {
         "colorbar": {
          "title": {
           "text": "Exited"
          }
         },
         "colorscale": [
          [
           0,
           "#0d0887"
          ],
          [
           0.1111111111111111,
           "#46039f"
          ],
          [
           0.2222222222222222,
           "#7201a8"
          ],
          [
           0.3333333333333333,
           "#9c179e"
          ],
          [
           0.4444444444444444,
           "#bd3786"
          ],
          [
           0.5555555555555556,
           "#d8576b"
          ],
          [
           0.6666666666666666,
           "#ed7953"
          ],
          [
           0.7777777777777778,
           "#fb9f3a"
          ],
          [
           0.8888888888888888,
           "#fdca26"
          ],
          [
           1,
           "#f0f921"
          ]
         ]
        },
        "height": 500,
        "legend": {
         "tracegroupgap": 0
        },
        "template": {
         "data": {
          "bar": [
           {
            "error_x": {
             "color": "#2a3f5f"
            },
            "error_y": {
             "color": "#2a3f5f"
            },
            "marker": {
             "line": {
              "color": "#E5ECF6",
              "width": 0.5
             },
             "pattern": {
              "fillmode": "overlay",
              "size": 10,
              "solidity": 0.2
             }
            },
            "type": "bar"
           }
          ],
          "barpolar": [
           {
            "marker": {
             "line": {
              "color": "#E5ECF6",
              "width": 0.5
             },
             "pattern": {
              "fillmode": "overlay",
              "size": 10,
              "solidity": 0.2
             }
            },
            "type": "barpolar"
           }
          ],
          "carpet": [
           {
            "aaxis": {
             "endlinecolor": "#2a3f5f",
             "gridcolor": "white",
             "linecolor": "white",
             "minorgridcolor": "white",
             "startlinecolor": "#2a3f5f"
            },
            "baxis": {
             "endlinecolor": "#2a3f5f",
             "gridcolor": "white",
             "linecolor": "white",
             "minorgridcolor": "white",
             "startlinecolor": "#2a3f5f"
            },
            "type": "carpet"
           }
          ],
          "choropleth": [
           {
            "colorbar": {
             "outlinewidth": 0,
             "ticks": ""
            },
            "type": "choropleth"
           }
          ],
          "contour": [
           {
            "colorbar": {
             "outlinewidth": 0,
             "ticks": ""
            },
            "colorscale": [
             [
              0,
              "#0d0887"
             ],
             [
              0.1111111111111111,
              "#46039f"
             ],
             [
              0.2222222222222222,
              "#7201a8"
             ],
             [
              0.3333333333333333,
              "#9c179e"
             ],
             [
              0.4444444444444444,
              "#bd3786"
             ],
             [
              0.5555555555555556,
              "#d8576b"
             ],
             [
              0.6666666666666666,
              "#ed7953"
             ],
             [
              0.7777777777777778,
              "#fb9f3a"
             ],
             [
              0.8888888888888888,
              "#fdca26"
             ],
             [
              1,
              "#f0f921"
             ]
            ],
            "type": "contour"
           }
          ],
          "contourcarpet": [
           {
            "colorbar": {
             "outlinewidth": 0,
             "ticks": ""
            },
            "type": "contourcarpet"
           }
          ],
          "heatmap": [
           {
            "colorbar": {
             "outlinewidth": 0,
             "ticks": ""
            },
            "colorscale": [
             [
              0,
              "#0d0887"
             ],
             [
              0.1111111111111111,
              "#46039f"
             ],
             [
              0.2222222222222222,
              "#7201a8"
             ],
             [
              0.3333333333333333,
              "#9c179e"
             ],
             [
              0.4444444444444444,
              "#bd3786"
             ],
             [
              0.5555555555555556,
              "#d8576b"
             ],
             [
              0.6666666666666666,
              "#ed7953"
             ],
             [
              0.7777777777777778,
              "#fb9f3a"
             ],
             [
              0.8888888888888888,
              "#fdca26"
             ],
             [
              1,
              "#f0f921"
             ]
            ],
            "type": "heatmap"
           }
          ],
          "histogram": [
           {
            "marker": {
             "pattern": {
              "fillmode": "overlay",
              "size": 10,
              "solidity": 0.2
             }
            },
            "type": "histogram"
           }
          ],
          "histogram2d": [
           {
            "colorbar": {
             "outlinewidth": 0,
             "ticks": ""
            },
            "colorscale": [
             [
              0,
              "#0d0887"
             ],
             [
              0.1111111111111111,
              "#46039f"
             ],
             [
              0.2222222222222222,
              "#7201a8"
             ],
             [
              0.3333333333333333,
              "#9c179e"
             ],
             [
              0.4444444444444444,
              "#bd3786"
             ],
             [
              0.5555555555555556,
              "#d8576b"
             ],
             [
              0.6666666666666666,
              "#ed7953"
             ],
             [
              0.7777777777777778,
              "#fb9f3a"
             ],
             [
              0.8888888888888888,
              "#fdca26"
             ],
             [
              1,
              "#f0f921"
             ]
            ],
            "type": "histogram2d"
           }
          ],
          "histogram2dcontour": [
           {
            "colorbar": {
             "outlinewidth": 0,
             "ticks": ""
            },
            "colorscale": [
             [
              0,
              "#0d0887"
             ],
             [
              0.1111111111111111,
              "#46039f"
             ],
             [
              0.2222222222222222,
              "#7201a8"
             ],
             [
              0.3333333333333333,
              "#9c179e"
             ],
             [
              0.4444444444444444,
              "#bd3786"
             ],
             [
              0.5555555555555556,
              "#d8576b"
             ],
             [
              0.6666666666666666,
              "#ed7953"
             ],
             [
              0.7777777777777778,
              "#fb9f3a"
             ],
             [
              0.8888888888888888,
              "#fdca26"
             ],
             [
              1,
              "#f0f921"
             ]
            ],
            "type": "histogram2dcontour"
           }
          ],
          "mesh3d": [
           {
            "colorbar": {
             "outlinewidth": 0,
             "ticks": ""
            },
            "type": "mesh3d"
           }
          ],
          "parcoords": [
           {
            "line": {
             "colorbar": {
              "outlinewidth": 0,
              "ticks": ""
             }
            },
            "type": "parcoords"
           }
          ],
          "pie": [
           {
            "automargin": true,
            "type": "pie"
           }
          ],
          "scatter": [
           {
            "fillpattern": {
             "fillmode": "overlay",
             "size": 10,
             "solidity": 0.2
            },
            "type": "scatter"
           }
          ],
          "scatter3d": [
           {
            "line": {
             "colorbar": {
              "outlinewidth": 0,
              "ticks": ""
             }
            },
            "marker": {
             "colorbar": {
              "outlinewidth": 0,
              "ticks": ""
             }
            },
            "type": "scatter3d"
           }
          ],
          "scattercarpet": [
           {
            "marker": {
             "colorbar": {
              "outlinewidth": 0,
              "ticks": ""
             }
            },
            "type": "scattercarpet"
           }
          ],
          "scattergeo": [
           {
            "marker": {
             "colorbar": {
              "outlinewidth": 0,
              "ticks": ""
             }
            },
            "type": "scattergeo"
           }
          ],
          "scattergl": [
           {
            "marker": {
             "colorbar": {
              "outlinewidth": 0,
              "ticks": ""
             }
            },
            "type": "scattergl"
           }
          ],
          "scattermap": [
           {
            "marker": {
             "colorbar": {
              "outlinewidth": 0,
              "ticks": ""
             }
            },
            "type": "scattermap"
           }
          ],
          "scattermapbox": [
           {
            "marker": {
             "colorbar": {
              "outlinewidth": 0,
              "ticks": ""
             }
            },
            "type": "scattermapbox"
           }
          ],
          "scatterpolar": [
           {
            "marker": {
             "colorbar": {
              "outlinewidth": 0,
              "ticks": ""
             }
            },
            "type": "scatterpolar"
           }
          ],
          "scatterpolargl": [
           {
            "marker": {
             "colorbar": {
              "outlinewidth": 0,
              "ticks": ""
             }
            },
            "type": "scatterpolargl"
           }
          ],
          "scatterternary": [
           {
            "marker": {
             "colorbar": {
              "outlinewidth": 0,
              "ticks": ""
             }
            },
            "type": "scatterternary"
           }
          ],
          "surface": [
           {
            "colorbar": {
             "outlinewidth": 0,
             "ticks": ""
            },
            "colorscale": [
             [
              0,
              "#0d0887"
             ],
             [
              0.1111111111111111,
              "#46039f"
             ],
             [
              0.2222222222222222,
              "#7201a8"
             ],
             [
              0.3333333333333333,
              "#9c179e"
             ],
             [
              0.4444444444444444,
              "#bd3786"
             ],
             [
              0.5555555555555556,
              "#d8576b"
             ],
             [
              0.6666666666666666,
              "#ed7953"
             ],
             [
              0.7777777777777778,
              "#fb9f3a"
             ],
             [
              0.8888888888888888,
              "#fdca26"
             ],
             [
              1,
              "#f0f921"
             ]
            ],
            "type": "surface"
           }
          ],
          "table": [
           {
            "cells": {
             "fill": {
              "color": "#EBF0F8"
             },
             "line": {
              "color": "white"
             }
            },
            "header": {
             "fill": {
              "color": "#C8D4E3"
             },
             "line": {
              "color": "white"
             }
            },
            "type": "table"
           }
          ]
         },
         "layout": {
          "annotationdefaults": {
           "arrowcolor": "#2a3f5f",
           "arrowhead": 0,
           "arrowwidth": 1
          },
          "autotypenumbers": "strict",
          "coloraxis": {
           "colorbar": {
            "outlinewidth": 0,
            "ticks": ""
           }
          },
          "colorscale": {
           "diverging": [
            [
             0,
             "#8e0152"
            ],
            [
             0.1,
             "#c51b7d"
            ],
            [
             0.2,
             "#de77ae"
            ],
            [
             0.3,
             "#f1b6da"
            ],
            [
             0.4,
             "#fde0ef"
            ],
            [
             0.5,
             "#f7f7f7"
            ],
            [
             0.6,
             "#e6f5d0"
            ],
            [
             0.7,
             "#b8e186"
            ],
            [
             0.8,
             "#7fbc41"
            ],
            [
             0.9,
             "#4d9221"
            ],
            [
             1,
             "#276419"
            ]
           ],
           "sequential": [
            [
             0,
             "#0d0887"
            ],
            [
             0.1111111111111111,
             "#46039f"
            ],
            [
             0.2222222222222222,
             "#7201a8"
            ],
            [
             0.3333333333333333,
             "#9c179e"
            ],
            [
             0.4444444444444444,
             "#bd3786"
            ],
            [
             0.5555555555555556,
             "#d8576b"
            ],
            [
             0.6666666666666666,
             "#ed7953"
            ],
            [
             0.7777777777777778,
             "#fb9f3a"
            ],
            [
             0.8888888888888888,
             "#fdca26"
            ],
            [
             1,
             "#f0f921"
            ]
           ],
           "sequentialminus": [
            [
             0,
             "#0d0887"
            ],
            [
             0.1111111111111111,
             "#46039f"
            ],
            [
             0.2222222222222222,
             "#7201a8"
            ],
            [
             0.3333333333333333,
             "#9c179e"
            ],
            [
             0.4444444444444444,
             "#bd3786"
            ],
            [
             0.5555555555555556,
             "#d8576b"
            ],
            [
             0.6666666666666666,
             "#ed7953"
            ],
            [
             0.7777777777777778,
             "#fb9f3a"
            ],
            [
             0.8888888888888888,
             "#fdca26"
            ],
            [
             1,
             "#f0f921"
            ]
           ]
          },
          "colorway": [
           "#636efa",
           "#EF553B",
           "#00cc96",
           "#ab63fa",
           "#FFA15A",
           "#19d3f3",
           "#FF6692",
           "#B6E880",
           "#FF97FF",
           "#FECB52"
          ],
          "font": {
           "color": "#2a3f5f"
          },
          "geo": {
           "bgcolor": "white",
           "lakecolor": "white",
           "landcolor": "#E5ECF6",
           "showlakes": true,
           "showland": true,
           "subunitcolor": "white"
          },
          "hoverlabel": {
           "align": "left"
          },
          "hovermode": "closest",
          "mapbox": {
           "style": "light"
          },
          "paper_bgcolor": "white",
          "plot_bgcolor": "#E5ECF6",
          "polar": {
           "angularaxis": {
            "gridcolor": "white",
            "linecolor": "white",
            "ticks": ""
           },
           "bgcolor": "#E5ECF6",
           "radialaxis": {
            "gridcolor": "white",
            "linecolor": "white",
            "ticks": ""
           }
          },
          "scene": {
           "xaxis": {
            "backgroundcolor": "#E5ECF6",
            "gridcolor": "white",
            "gridwidth": 2,
            "linecolor": "white",
            "showbackground": true,
            "ticks": "",
            "zerolinecolor": "white"
           },
           "yaxis": {
            "backgroundcolor": "#E5ECF6",
            "gridcolor": "white",
            "gridwidth": 2,
            "linecolor": "white",
            "showbackground": true,
            "ticks": "",
            "zerolinecolor": "white"
           },
           "zaxis": {
            "backgroundcolor": "#E5ECF6",
            "gridcolor": "white",
            "gridwidth": 2,
            "linecolor": "white",
            "showbackground": true,
            "ticks": "",
            "zerolinecolor": "white"
           }
          },
          "shapedefaults": {
           "line": {
            "color": "#2a3f5f"
           }
          },
          "ternary": {
           "aaxis": {
            "gridcolor": "white",
            "linecolor": "white",
            "ticks": ""
           },
           "baxis": {
            "gridcolor": "white",
            "linecolor": "white",
            "ticks": ""
           },
           "bgcolor": "#E5ECF6",
           "caxis": {
            "gridcolor": "white",
            "linecolor": "white",
            "ticks": ""
           }
          },
          "title": {
           "x": 0.05
          },
          "xaxis": {
           "automargin": true,
           "gridcolor": "white",
           "linecolor": "white",
           "ticks": "",
           "title": {
            "standoff": 15
           },
           "zerolinecolor": "white",
           "zerolinewidth": 2
          },
          "yaxis": {
           "automargin": true,
           "gridcolor": "white",
           "linecolor": "white",
           "ticks": "",
           "title": {
            "standoff": 15
           },
           "zerolinecolor": "white",
           "zerolinewidth": 2
          }
         }
        },
        "title": {
         "text": "Влияние наличия статуса клиента на отток"
        },
        "width": 1000,
        "xaxis": {
         "anchor": "y",
         "domain": [
          0,
          1
         ],
         "title": {
          "text": "IsActiveMember"
         }
        },
        "yaxis": {
         "anchor": "x",
         "domain": [
          0,
          1
         ],
         "title": {
          "text": "CustomerId"
         }
        }
       }
      }
     },
     "metadata": {},
     "output_type": "display_data"
    }
   ],
   "source": [
    "# 9.8\n",
    "\n",
    "clients_status = churn_data.groupby(by=['IsActiveMember', 'Exited'], as_index=False).count()\n",
    "fig = px.bar(\n",
    "    data_frame=clients_status,\n",
    "    x = 'IsActiveMember',\n",
    "    y = 'CustomerId',\n",
    "    color = 'Exited',\n",
    "    text_auto=True,\n",
    "    height=500,\n",
    "    width=1000,\n",
    "    title='Влияние наличия статуса клиента на отток',\n",
    "    barmode='group'\n",
    ")\n",
    "fig.show()"
   ]
  },
  {
   "cell_type": "markdown",
   "metadata": {},
   "source": [
    "Вывод: неактивные клиенты чаще уходят, чем активные, можно предложить ввести какую-нибудь выгодную акцию для активных клиентов банка, чтобы замотивировать неактивных клиентов приобрести статус активного, либо небольшой бонус для тех, кто становится активным клиентом, чтобы мотивировать не только получить статус \"активного клиента\", но и уменьшить предпосылки для потери этих же клиентов"
   ]
  },
  {
   "cell_type": "code",
   "execution_count": 3,
   "metadata": {},
   "outputs": [
    {
     "data": {
      "application/vnd.plotly.v1+json": {
       "config": {
        "plotlyServerURL": "https://plot.ly"
       },
       "data": [
        {
         "coloraxis": "coloraxis",
         "geo": "geo",
         "hovertemplate": "Geography=%{location}<br>Exited=%{z}<extra></extra>",
         "locationmode": "country names",
         "locations": [
          "France",
          "Germany",
          "Spain"
         ],
         "name": "",
         "type": "choropleth",
         "z": {
          "bdata": "zvFADJitxD9EA2CffsPUP35iQ8SJV8U/",
          "dtype": "f8"
         }
        }
       ],
       "layout": {
        "coloraxis": {
         "cmax": 35,
         "cmin": 0,
         "colorbar": {
          "title": {
           "text": "Exited"
          }
         },
         "colorscale": [
          [
           0,
           "rgb(255,245,240)"
          ],
          [
           0.125,
           "rgb(254,224,210)"
          ],
          [
           0.25,
           "rgb(252,187,161)"
          ],
          [
           0.375,
           "rgb(252,146,114)"
          ],
          [
           0.5,
           "rgb(251,106,74)"
          ],
          [
           0.625,
           "rgb(239,59,44)"
          ],
          [
           0.75,
           "rgb(203,24,29)"
          ],
          [
           0.875,
           "rgb(165,15,21)"
          ],
          [
           1,
           "rgb(103,0,13)"
          ]
         ]
        },
        "geo": {
         "center": {},
         "domain": {
          "x": [
           0,
           1
          ],
          "y": [
           0,
           1
          ]
         }
        },
        "height": 500,
        "legend": {
         "tracegroupgap": 0
        },
        "template": {
         "data": {
          "bar": [
           {
            "error_x": {
             "color": "#2a3f5f"
            },
            "error_y": {
             "color": "#2a3f5f"
            },
            "marker": {
             "line": {
              "color": "#E5ECF6",
              "width": 0.5
             },
             "pattern": {
              "fillmode": "overlay",
              "size": 10,
              "solidity": 0.2
             }
            },
            "type": "bar"
           }
          ],
          "barpolar": [
           {
            "marker": {
             "line": {
              "color": "#E5ECF6",
              "width": 0.5
             },
             "pattern": {
              "fillmode": "overlay",
              "size": 10,
              "solidity": 0.2
             }
            },
            "type": "barpolar"
           }
          ],
          "carpet": [
           {
            "aaxis": {
             "endlinecolor": "#2a3f5f",
             "gridcolor": "white",
             "linecolor": "white",
             "minorgridcolor": "white",
             "startlinecolor": "#2a3f5f"
            },
            "baxis": {
             "endlinecolor": "#2a3f5f",
             "gridcolor": "white",
             "linecolor": "white",
             "minorgridcolor": "white",
             "startlinecolor": "#2a3f5f"
            },
            "type": "carpet"
           }
          ],
          "choropleth": [
           {
            "colorbar": {
             "outlinewidth": 0,
             "ticks": ""
            },
            "type": "choropleth"
           }
          ],
          "contour": [
           {
            "colorbar": {
             "outlinewidth": 0,
             "ticks": ""
            },
            "colorscale": [
             [
              0,
              "#0d0887"
             ],
             [
              0.1111111111111111,
              "#46039f"
             ],
             [
              0.2222222222222222,
              "#7201a8"
             ],
             [
              0.3333333333333333,
              "#9c179e"
             ],
             [
              0.4444444444444444,
              "#bd3786"
             ],
             [
              0.5555555555555556,
              "#d8576b"
             ],
             [
              0.6666666666666666,
              "#ed7953"
             ],
             [
              0.7777777777777778,
              "#fb9f3a"
             ],
             [
              0.8888888888888888,
              "#fdca26"
             ],
             [
              1,
              "#f0f921"
             ]
            ],
            "type": "contour"
           }
          ],
          "contourcarpet": [
           {
            "colorbar": {
             "outlinewidth": 0,
             "ticks": ""
            },
            "type": "contourcarpet"
           }
          ],
          "heatmap": [
           {
            "colorbar": {
             "outlinewidth": 0,
             "ticks": ""
            },
            "colorscale": [
             [
              0,
              "#0d0887"
             ],
             [
              0.1111111111111111,
              "#46039f"
             ],
             [
              0.2222222222222222,
              "#7201a8"
             ],
             [
              0.3333333333333333,
              "#9c179e"
             ],
             [
              0.4444444444444444,
              "#bd3786"
             ],
             [
              0.5555555555555556,
              "#d8576b"
             ],
             [
              0.6666666666666666,
              "#ed7953"
             ],
             [
              0.7777777777777778,
              "#fb9f3a"
             ],
             [
              0.8888888888888888,
              "#fdca26"
             ],
             [
              1,
              "#f0f921"
             ]
            ],
            "type": "heatmap"
           }
          ],
          "histogram": [
           {
            "marker": {
             "pattern": {
              "fillmode": "overlay",
              "size": 10,
              "solidity": 0.2
             }
            },
            "type": "histogram"
           }
          ],
          "histogram2d": [
           {
            "colorbar": {
             "outlinewidth": 0,
             "ticks": ""
            },
            "colorscale": [
             [
              0,
              "#0d0887"
             ],
             [
              0.1111111111111111,
              "#46039f"
             ],
             [
              0.2222222222222222,
              "#7201a8"
             ],
             [
              0.3333333333333333,
              "#9c179e"
             ],
             [
              0.4444444444444444,
              "#bd3786"
             ],
             [
              0.5555555555555556,
              "#d8576b"
             ],
             [
              0.6666666666666666,
              "#ed7953"
             ],
             [
              0.7777777777777778,
              "#fb9f3a"
             ],
             [
              0.8888888888888888,
              "#fdca26"
             ],
             [
              1,
              "#f0f921"
             ]
            ],
            "type": "histogram2d"
           }
          ],
          "histogram2dcontour": [
           {
            "colorbar": {
             "outlinewidth": 0,
             "ticks": ""
            },
            "colorscale": [
             [
              0,
              "#0d0887"
             ],
             [
              0.1111111111111111,
              "#46039f"
             ],
             [
              0.2222222222222222,
              "#7201a8"
             ],
             [
              0.3333333333333333,
              "#9c179e"
             ],
             [
              0.4444444444444444,
              "#bd3786"
             ],
             [
              0.5555555555555556,
              "#d8576b"
             ],
             [
              0.6666666666666666,
              "#ed7953"
             ],
             [
              0.7777777777777778,
              "#fb9f3a"
             ],
             [
              0.8888888888888888,
              "#fdca26"
             ],
             [
              1,
              "#f0f921"
             ]
            ],
            "type": "histogram2dcontour"
           }
          ],
          "mesh3d": [
           {
            "colorbar": {
             "outlinewidth": 0,
             "ticks": ""
            },
            "type": "mesh3d"
           }
          ],
          "parcoords": [
           {
            "line": {
             "colorbar": {
              "outlinewidth": 0,
              "ticks": ""
             }
            },
            "type": "parcoords"
           }
          ],
          "pie": [
           {
            "automargin": true,
            "type": "pie"
           }
          ],
          "scatter": [
           {
            "fillpattern": {
             "fillmode": "overlay",
             "size": 10,
             "solidity": 0.2
            },
            "type": "scatter"
           }
          ],
          "scatter3d": [
           {
            "line": {
             "colorbar": {
              "outlinewidth": 0,
              "ticks": ""
             }
            },
            "marker": {
             "colorbar": {
              "outlinewidth": 0,
              "ticks": ""
             }
            },
            "type": "scatter3d"
           }
          ],
          "scattercarpet": [
           {
            "marker": {
             "colorbar": {
              "outlinewidth": 0,
              "ticks": ""
             }
            },
            "type": "scattercarpet"
           }
          ],
          "scattergeo": [
           {
            "marker": {
             "colorbar": {
              "outlinewidth": 0,
              "ticks": ""
             }
            },
            "type": "scattergeo"
           }
          ],
          "scattergl": [
           {
            "marker": {
             "colorbar": {
              "outlinewidth": 0,
              "ticks": ""
             }
            },
            "type": "scattergl"
           }
          ],
          "scattermap": [
           {
            "marker": {
             "colorbar": {
              "outlinewidth": 0,
              "ticks": ""
             }
            },
            "type": "scattermap"
           }
          ],
          "scattermapbox": [
           {
            "marker": {
             "colorbar": {
              "outlinewidth": 0,
              "ticks": ""
             }
            },
            "type": "scattermapbox"
           }
          ],
          "scatterpolar": [
           {
            "marker": {
             "colorbar": {
              "outlinewidth": 0,
              "ticks": ""
             }
            },
            "type": "scatterpolar"
           }
          ],
          "scatterpolargl": [
           {
            "marker": {
             "colorbar": {
              "outlinewidth": 0,
              "ticks": ""
             }
            },
            "type": "scatterpolargl"
           }
          ],
          "scatterternary": [
           {
            "marker": {
             "colorbar": {
              "outlinewidth": 0,
              "ticks": ""
             }
            },
            "type": "scatterternary"
           }
          ],
          "surface": [
           {
            "colorbar": {
             "outlinewidth": 0,
             "ticks": ""
            },
            "colorscale": [
             [
              0,
              "#0d0887"
             ],
             [
              0.1111111111111111,
              "#46039f"
             ],
             [
              0.2222222222222222,
              "#7201a8"
             ],
             [
              0.3333333333333333,
              "#9c179e"
             ],
             [
              0.4444444444444444,
              "#bd3786"
             ],
             [
              0.5555555555555556,
              "#d8576b"
             ],
             [
              0.6666666666666666,
              "#ed7953"
             ],
             [
              0.7777777777777778,
              "#fb9f3a"
             ],
             [
              0.8888888888888888,
              "#fdca26"
             ],
             [
              1,
              "#f0f921"
             ]
            ],
            "type": "surface"
           }
          ],
          "table": [
           {
            "cells": {
             "fill": {
              "color": "#EBF0F8"
             },
             "line": {
              "color": "white"
             }
            },
            "header": {
             "fill": {
              "color": "#C8D4E3"
             },
             "line": {
              "color": "white"
             }
            },
            "type": "table"
           }
          ]
         },
         "layout": {
          "annotationdefaults": {
           "arrowcolor": "#2a3f5f",
           "arrowhead": 0,
           "arrowwidth": 1
          },
          "autotypenumbers": "strict",
          "coloraxis": {
           "colorbar": {
            "outlinewidth": 0,
            "ticks": ""
           }
          },
          "colorscale": {
           "diverging": [
            [
             0,
             "#8e0152"
            ],
            [
             0.1,
             "#c51b7d"
            ],
            [
             0.2,
             "#de77ae"
            ],
            [
             0.3,
             "#f1b6da"
            ],
            [
             0.4,
             "#fde0ef"
            ],
            [
             0.5,
             "#f7f7f7"
            ],
            [
             0.6,
             "#e6f5d0"
            ],
            [
             0.7,
             "#b8e186"
            ],
            [
             0.8,
             "#7fbc41"
            ],
            [
             0.9,
             "#4d9221"
            ],
            [
             1,
             "#276419"
            ]
           ],
           "sequential": [
            [
             0,
             "#0d0887"
            ],
            [
             0.1111111111111111,
             "#46039f"
            ],
            [
             0.2222222222222222,
             "#7201a8"
            ],
            [
             0.3333333333333333,
             "#9c179e"
            ],
            [
             0.4444444444444444,
             "#bd3786"
            ],
            [
             0.5555555555555556,
             "#d8576b"
            ],
            [
             0.6666666666666666,
             "#ed7953"
            ],
            [
             0.7777777777777778,
             "#fb9f3a"
            ],
            [
             0.8888888888888888,
             "#fdca26"
            ],
            [
             1,
             "#f0f921"
            ]
           ],
           "sequentialminus": [
            [
             0,
             "#0d0887"
            ],
            [
             0.1111111111111111,
             "#46039f"
            ],
            [
             0.2222222222222222,
             "#7201a8"
            ],
            [
             0.3333333333333333,
             "#9c179e"
            ],
            [
             0.4444444444444444,
             "#bd3786"
            ],
            [
             0.5555555555555556,
             "#d8576b"
            ],
            [
             0.6666666666666666,
             "#ed7953"
            ],
            [
             0.7777777777777778,
             "#fb9f3a"
            ],
            [
             0.8888888888888888,
             "#fdca26"
            ],
            [
             1,
             "#f0f921"
            ]
           ]
          },
          "colorway": [
           "#636efa",
           "#EF553B",
           "#00cc96",
           "#ab63fa",
           "#FFA15A",
           "#19d3f3",
           "#FF6692",
           "#B6E880",
           "#FF97FF",
           "#FECB52"
          ],
          "font": {
           "color": "#2a3f5f"
          },
          "geo": {
           "bgcolor": "white",
           "lakecolor": "white",
           "landcolor": "#E5ECF6",
           "showlakes": true,
           "showland": true,
           "subunitcolor": "white"
          },
          "hoverlabel": {
           "align": "left"
          },
          "hovermode": "closest",
          "mapbox": {
           "style": "light"
          },
          "paper_bgcolor": "white",
          "plot_bgcolor": "#E5ECF6",
          "polar": {
           "angularaxis": {
            "gridcolor": "white",
            "linecolor": "white",
            "ticks": ""
           },
           "bgcolor": "#E5ECF6",
           "radialaxis": {
            "gridcolor": "white",
            "linecolor": "white",
            "ticks": ""
           }
          },
          "scene": {
           "xaxis": {
            "backgroundcolor": "#E5ECF6",
            "gridcolor": "white",
            "gridwidth": 2,
            "linecolor": "white",
            "showbackground": true,
            "ticks": "",
            "zerolinecolor": "white"
           },
           "yaxis": {
            "backgroundcolor": "#E5ECF6",
            "gridcolor": "white",
            "gridwidth": 2,
            "linecolor": "white",
            "showbackground": true,
            "ticks": "",
            "zerolinecolor": "white"
           },
           "zaxis": {
            "backgroundcolor": "#E5ECF6",
            "gridcolor": "white",
            "gridwidth": 2,
            "linecolor": "white",
            "showbackground": true,
            "ticks": "",
            "zerolinecolor": "white"
           }
          },
          "shapedefaults": {
           "line": {
            "color": "#2a3f5f"
           }
          },
          "ternary": {
           "aaxis": {
            "gridcolor": "white",
            "linecolor": "white",
            "ticks": ""
           },
           "baxis": {
            "gridcolor": "white",
            "linecolor": "white",
            "ticks": ""
           },
           "bgcolor": "#E5ECF6",
           "caxis": {
            "gridcolor": "white",
            "linecolor": "white",
            "ticks": ""
           }
          },
          "title": {
           "x": 0.05
          },
          "xaxis": {
           "automargin": true,
           "gridcolor": "white",
           "linecolor": "white",
           "ticks": "",
           "title": {
            "standoff": 15
           },
           "zerolinecolor": "white",
           "zerolinewidth": 2
          },
          "yaxis": {
           "automargin": true,
           "gridcolor": "white",
           "linecolor": "white",
           "ticks": "",
           "title": {
            "standoff": 15
           },
           "zerolinecolor": "white",
           "zerolinewidth": 2
          }
         }
        },
        "title": {
         "text": "Соотношение ушедших клиентов по странам"
        },
        "width": 800
       }
      }
     },
     "metadata": {},
     "output_type": "display_data"
    }
   ],
   "source": [
    "# 9.9\n",
    "\n",
    "exited_clients = churn_data.groupby('Geography')['Exited'].mean().reset_index()\n",
    "\n",
    "fig = px.choropleth(\n",
    "    data_frame= exited_clients,\n",
    "    locations= 'Geography',\n",
    "    locationmode= 'country names',\n",
    "    color='Exited',\n",
    "    range_color= [0, 35],\n",
    "    title= 'Соотношение ушедших клиентов по странам',\n",
    "    width=800,\n",
    "    height=500,\n",
    "    color_continuous_scale= 'Reds'\n",
    ")\n",
    "\n",
    "fig.show()"
   ]
  },
  {
   "cell_type": "markdown",
   "metadata": {},
   "source": [
    "Вывод: большая доля ушедших клиентов приходится на Германию, это может быть связано с трудностями использования Евро в этом банке"
   ]
  },
  {
   "cell_type": "code",
   "execution_count": 50,
   "metadata": {},
   "outputs": [
    {
     "data": {
      "text/plain": [
       "Text(0.5, 1.0, 'Тепловая карта')"
      ]
     },
     "execution_count": 50,
     "metadata": {},
     "output_type": "execute_result"
    },
    {
     "data": {
      "image/png": "[encoded data removed]",
      "text/plain": [
       "<Figure size 640x480 with 2 Axes>"
      ]
     },
     "metadata": {},
     "output_type": "display_data"
    }
   ],
   "source": [
    "# 9.10\n",
    "\n",
    "def get_credit_score_cat(credit_score):\n",
    "    if credit_score >= 300 and credit_score < 500:\n",
    "        return \"Very_Poor\"\n",
    "    elif credit_score >= 500 and credit_score < 601:\n",
    "        return \"Poor\"\n",
    "    elif credit_score >= 601 and credit_score < 661:\n",
    "        return \"Fair\"\n",
    "    elif credit_score >= 661 and credit_score < 781:\n",
    "        return \"Good\"\n",
    "    elif credit_score >= 781 and credit_score < 851:\n",
    "        return \"Excellent\"\n",
    "    elif credit_score >= 851:\n",
    "        return \"Top\"\n",
    "    elif credit_score < 300:\n",
    "        return \"Deep\"\n",
    "    \n",
    "churn_data['CreditScoreCat'] = churn_data['CreditScore'].apply(get_credit_score_cat)\n",
    "table = churn_data.pivot_table(\n",
    "    values='Exited',\n",
    "    index='CreditScoreCat',\n",
    "    columns='Tenure',\n",
    "    fill_value='-'\n",
    ")\n",
    "\n",
    "heatmap = sns.heatmap(data=table,cmap='YlGnBu')\n",
    "heatmap.set_title('Тепловая карта', fontsize=16)"
   ]
  },
  {
   "cell_type": "markdown",
   "metadata": {},
   "source": [
    "Вывод: чаще всего уходят клиенты на первом году пользования услугами банка с очень плохой кредитной историей"
   ]
  }
 ],
 "metadata": {
  "kernelspec": {
   "display_name": "Python 3",
   "language": "python",
   "name": "python3"
  },
  "language_info": {
   "codemirror_mode": {
    "name": "ipython",
    "version": 3
   },
   "file_extension": ".py",
   "mimetype": "text/x-python",
   "name": "python",
   "nbconvert_exporter": "python",
   "pygments_lexer": "ipython3",
   "version": "3.13.1"
  }
 },
 "nbformat": 4,
 "nbformat_minor": 2
}
