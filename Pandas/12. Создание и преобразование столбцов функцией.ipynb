{
 "cells": [
  {
   "cell_type": "markdown",
   "metadata": {},
   "source": [
    "В Pandas мы не можем извлечь из столбцов, содержащий в себе некоторый текст, извлечь определенные слова, даты или время, но можно сделать это с помощью пользовательских функций. Т.е. можно написать функцию, которая принимает на вход какой-либо элемент, обрабатывает его и возвращает результат, и применить ее ко всем элементам с помощью метода apply(). В результате будет возвращен объект Series\n",
    "\n",
    "Рассмотрим пример: у нас есть столбец с адресами объектов недвижимости, проблема в том, что почти все они уникальны, убедимся в этом,  вычислив количество уникальных значений для столбца"
   ]
  },
  {
   "cell_type": "code",
   "execution_count": 1,
   "metadata": {},
   "outputs": [],
   "source": [
    "import pandas as pd\n",
    "melf_df = pd.read_csv('data/melb_data_ps.csv', sep=',')"
   ]
  },
  {
   "cell_type": "code",
   "execution_count": 2,
   "metadata": {},
   "outputs": [
    {
     "name": "stdout",
     "output_type": "stream",
     "text": [
      "13378\n"
     ]
    }
   ],
   "source": [
    "print(melf_df['Address'].nunique())"
   ]
  },
  {
   "cell_type": "markdown",
   "metadata": {},
   "source": [
    "Для прогноза цены объекта такое большое количество категорий может плохо сказаться при построении модели. Говорят, что такой признак не имеет статистической значимости, потому что не позволяет разделить данные на группы, которые можно сравнить по целевому признаку\n",
    "\n",
    "Из-за этого зависимость между целевым признаком, который мы хотим предсказать и признаками, на основе которых мы делаем предсказание, становится очень сложной. Точность моделирования снизится, а производительность резко упадет\n",
    "\n",
    "Обычно такие признаки удаляют, но можно сделать иначе: извлечем из признака адреса характеристику подтипа улицы(улица, шоссе, авеню, бульвар)"
   ]
  },
  {
   "cell_type": "code",
   "execution_count": 4,
   "metadata": {},
   "outputs": [
    {
     "name": "stdout",
     "output_type": "stream",
     "text": [
      "2/119 Railway St N\n",
      "9/400 Dandenong Rd\n",
      "172 Danks St\n"
     ]
    }
   ],
   "source": [
    "print(melf_df['Address'].loc[177])\n",
    "print(melf_df['Address'].loc[1812])\n",
    "print(melf_df['Address'].loc[9001])"
   ]
  },
  {
   "cell_type": "markdown",
   "metadata": {},
   "source": [
    "Адрес строится следующим образом: сначала указывается номер дома и корпус, затем название улицы, а в конце - подтип улицы, иногда к подтипу добавляется географическая отметка(N - север, S - юг и т.д.) она нам не нужна. Для выделения подтипа улицы напишем функцию:"
   ]
  },
  {
   "cell_type": "code",
   "execution_count": 5,
   "metadata": {},
   "outputs": [],
   "source": [
    "# На вход функции поступает строка с адресом\n",
    "def get_street_type(address):\n",
    "    # Создаем список географических пометок exclude_list\n",
    "    exclude_list = ['N', 'S', 'W', 'E']\n",
    "    # Методом split() разбиваем строку на слова по пробелу\n",
    "    # В результате получаем список слов в строке и заносим его в переменную address_list\n",
    "    address_list = address.split()\n",
    "    # Обрезаем список, оставляя на нем только последний элемент, потенциальный подтип улицы и заносим в street_type\n",
    "    street_type = address_list[-1]\n",
    "    # делаем проверку на то, что полученный подтип является географической пометкой\n",
    "    # Для этого проверяем его на наличие в списке exclude_list\n",
    "    if street_type in exclude_list:\n",
    "        # Если переменная является географической пометкой,\n",
    "        # переопределяем ее на второй элемент с конца списка address_list\n",
    "        street_type = address_list[-2]\n",
    "    return street_type\n"
   ]
  },
  {
   "cell_type": "markdown",
   "metadata": {},
   "source": [
    "Теперь применим ее к столбцу с адресом. Для этого передадим функцию get_street_type в агрумент метода столбца apply(). В результате получим объект Series, который положим в переменную street_types"
   ]
  },
  {
   "cell_type": "code",
   "execution_count": 6,
   "metadata": {},
   "outputs": [
    {
     "data": {
      "text/plain": [
       "0        St\n",
       "1        St\n",
       "2        St\n",
       "3        La\n",
       "4        St\n",
       "         ..\n",
       "13575    Cr\n",
       "13576    Dr\n",
       "13577    St\n",
       "13578    St\n",
       "13579    St\n",
       "Name: Address, Length: 13580, dtype: object"
      ]
     },
     "metadata": {},
     "output_type": "display_data"
    }
   ],
   "source": [
    "street_types = melf_df['Address'].apply(get_street_type)\n",
    "display(street_types)"
   ]
  },
  {
   "cell_type": "markdown",
   "metadata": {},
   "source": [
    "## функция пишется для одного элемента столбца, а метод apply() применяет ее ко всем элементам. Используемая функция обязательно должна иметь возвращаемое значение. "
   ]
  },
  {
   "cell_type": "code",
   "execution_count": 7,
   "metadata": {},
   "outputs": [
    {
     "name": "stdout",
     "output_type": "stream",
     "text": [
      "56\n"
     ]
    }
   ],
   "source": [
    "# У нас получилось сократить число уникальных значений до 56\n",
    "\n",
    "print(street_types.nunique())"
   ]
  },
  {
   "cell_type": "code",
   "execution_count": 8,
   "metadata": {},
   "outputs": [
    {
     "data": {
      "text/plain": [
       "Address\n",
       "St           8012\n",
       "Rd           2825\n",
       "Ct            612\n",
       "Dr            447\n",
       "Av            321\n",
       "Gr            311\n",
       "Pde           211\n",
       "Pl            169\n",
       "Cr            152\n",
       "Cl            100\n",
       "La             67\n",
       "Bvd            53\n",
       "Tce            47\n",
       "Wy             40\n",
       "Avenue         40\n",
       "Cct            25\n",
       "Hwy            24\n",
       "Parade         15\n",
       "Boulevard      13\n",
       "Sq             11\n",
       "Crescent        9\n",
       "Cir             7\n",
       "Strand          7\n",
       "Esplanade       6\n",
       "Grove           5\n",
       "Grn             4\n",
       "Fairway         4\n",
       "Mews            4\n",
       "Gdns            4\n",
       "Righi           3\n",
       "Crossway        3\n",
       "Esp             2\n",
       "Ridge           2\n",
       "Victoria        2\n",
       "Crofts          2\n",
       "Athol           1\n",
       "Highway         1\n",
       "Cove            1\n",
       "Grange          1\n",
       "Res             1\n",
       "Terrace         1\n",
       "Qy              1\n",
       "Glade           1\n",
       "Nook            1\n",
       "Eyrie           1\n",
       "Loop            1\n",
       "Dell            1\n",
       "East            1\n",
       "Summit          1\n",
       "Grand           1\n",
       "Gra             1\n",
       "Hts             1\n",
       "Outlook         1\n",
       "Woodland        1\n",
       "Ave             1\n",
       "Corso           1\n",
       "Name: count, dtype: int64"
      ]
     },
     "metadata": {},
     "output_type": "display_data"
    }
   ],
   "source": [
    "# У нас есть 56 уникальных значений. Однако результат можно улучшить. Для начала посмотрим на частоту\n",
    "# каждого подтипа улицы с помощью value_counts()\n",
    "display(street_types.value_counts())"
   ]
  },
  {
   "cell_type": "markdown",
   "metadata": {},
   "source": [
    "Из данного вывода можно увидеть, что есть группа наиболее популярных подтипов улиц, а дальше частота подтипов резко падает\n",
    "Применим очень распространенный метод уменьшения количества уникальных категорий - выделим n подтипов, которые встречаются чаще всего, а остальные обозначим как 'others'\n",
    "Для этого к результату метода value_counts применим метод nlargest(), который возвращает n наибольших значений из Series. Зададим n=10,\n",
    "то есть мы хотим отобрать 10 наиболее популярных подтипов. Извлечем их названия с помощью атрибута index, а результат занесем в переменную popular_stypes"
   ]
  },
  {
   "cell_type": "code",
   "execution_count": 14,
   "metadata": {},
   "outputs": [
    {
     "data": {
      "text/plain": [
       "Index(['St', 'Rd', 'Ct', 'Dr', 'Av', 'Gr', 'Pde', 'Pl', 'Cr', 'Cl'], dtype='object', name='Address')"
      ]
     },
     "metadata": {},
     "output_type": "display_data"
    }
   ],
   "source": [
    "popular_stypes = street_types.value_counts().nlargest(10).index\n",
    "display(popular_stypes)"
   ]
  },
  {
   "cell_type": "markdown",
   "metadata": {},
   "source": [
    "Теперь у нас есть список наиболее популярных подтипов улиц, введем lambda-функцию, которая будет проверять, есть ли строка x в этом перечне, и, если это так, lambda-функция будет возвращать х, в противном случае она будет возвращать строку \"other\". Наконец, применим строку к Series street_types, полученной ранее, а результат определим в новый столбец StreetType"
   ]
  },
  {
   "cell_type": "code",
   "execution_count": 16,
   "metadata": {},
   "outputs": [
    {
     "data": {
      "text/plain": [
       "0           St\n",
       "1           St\n",
       "2           St\n",
       "3        other\n",
       "4           St\n",
       "         ...  \n",
       "13575       Cr\n",
       "13576       Dr\n",
       "13577       St\n",
       "13578       St\n",
       "13579       St\n",
       "Name: StreetType, Length: 13580, dtype: object"
      ]
     },
     "metadata": {},
     "output_type": "display_data"
    }
   ],
   "source": [
    "melf_df['StreetType'] = street_types.apply(lambda x: x if x in popular_stypes else 'other')\n",
    "display(melf_df['StreetType'])"
   ]
  },
  {
   "cell_type": "code",
   "execution_count": 17,
   "metadata": {},
   "outputs": [
    {
     "name": "stdout",
     "output_type": "stream",
     "text": [
      "11\n"
     ]
    }
   ],
   "source": [
    "# посмотрим на результатирующее число уникальных подтипов\n",
    "print(melf_df['StreetType'].nunique())"
   ]
  },
  {
   "cell_type": "code",
   "execution_count": 18,
   "metadata": {},
   "outputs": [],
   "source": [
    "# Теперь у нас нет потребности в столбце Address, его можно удалить\n",
    "melf_df = melf_df.drop('Address', axis=1)"
   ]
  }
 ],
 "metadata": {
  "kernelspec": {
   "display_name": "Python 3",
   "language": "python",
   "name": "python3"
  },
  "language_info": {
   "codemirror_mode": {
    "name": "ipython",
    "version": 3
   },
   "file_extension": ".py",
   "mimetype": "text/x-python",
   "name": "python",
   "nbconvert_exporter": "python",
   "pygments_lexer": "ipython3",
   "version": "3.13.1"
  }
 },
 "nbformat": 4,
 "nbformat_minor": 2
}
