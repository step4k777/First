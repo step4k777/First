{
 "cells": [
  {
   "cell_type": "code",
   "execution_count": 3,
   "id": "9d1a6e14",
   "metadata": {},
   "outputs": [],
   "source": [
    "import pandas as pd\n",
    "df = pd.read_csv('data/wine_cleared.csv')"
   ]
  },
  {
   "cell_type": "code",
   "execution_count": 4,
   "id": "d3900c42",
   "metadata": {},
   "outputs": [
    {
     "data": {
      "text/plain": [
       "np.int64(80)"
      ]
     },
     "execution_count": 4,
     "metadata": {},
     "output_type": "execute_result"
    }
   ],
   "source": [
    "# 2.1 Вычислите наименьший балл за вино в датасете.\n",
    "\n",
    "df['points'].min()"
   ]
  },
  {
   "cell_type": "code",
   "execution_count": 5,
   "id": "e5c67876",
   "metadata": {},
   "outputs": [
    {
     "data": {
      "text/plain": [
       "np.float64(4.0)"
      ]
     },
     "execution_count": 5,
     "metadata": {},
     "output_type": "execute_result"
    }
   ],
   "source": [
    "# 2.2 Вычислите наименьшую цену за бутылку в наборе данных.\n",
    "\n",
    "df['price'].min()"
   ]
  },
  {
   "cell_type": "code",
   "execution_count": 6,
   "id": "54885a26",
   "metadata": {},
   "outputs": [],
   "source": [
    "import statistics"
   ]
  },
  {
   "cell_type": "markdown",
   "id": "252fa1de",
   "metadata": {},
   "source": [
    "## <center> Среднее арифметическое <center>\n",
    "\n",
    "Среднее арифметическое — сумма всех элементов, поделённая на количество элементов в числовом ряду или признаке (Series)."
   ]
  },
  {
   "cell_type": "code",
   "execution_count": 7,
   "id": "455924e0",
   "metadata": {},
   "outputs": [
    {
     "data": {
      "text/plain": [
       "35.36"
      ]
     },
     "execution_count": 7,
     "metadata": {},
     "output_type": "execute_result"
    }
   ],
   "source": [
    "# 2.3 Вычислите среднюю стоимость бутылки вина при помощи функции statistics.mean() библиотеки statistics. Округлите значение до сотых.\n",
    "\n",
    "round(statistics.mean(df['price']), 2)"
   ]
  },
  {
   "cell_type": "code",
   "execution_count": 8,
   "id": "a7346072",
   "metadata": {},
   "outputs": [
    {
     "data": {
      "text/plain": [
       "np.float64(35.363389129985535)"
      ]
     },
     "metadata": {},
     "output_type": "display_data"
    }
   ],
   "source": [
    "# 2.4 Вычислите среднюю стоимость бутылки вина при помощи стандартных функций Python.\n",
    "\n",
    "meaned = df['price'].sum() / len(df['price'])\n",
    "display(meaned)"
   ]
  },
  {
   "cell_type": "markdown",
   "id": "9e6a754c",
   "metadata": {},
   "source": [
    "## <center> Медиана <center>\n",
    "\n",
    "Медиана — средний элемент распределения. Для расчёта медианы должно выполняться одно условие: числовой ряд должен быть предварительно отсортирован. Только так мы сможем корректно рассчитать средний элемент. Признак может быть отсортирован как по возрастанию, так и по убыванию. "
   ]
  },
  {
   "cell_type": "code",
   "execution_count": 9,
   "id": "4fe7bde2",
   "metadata": {},
   "outputs": [
    {
     "data": {
      "text/plain": [
       "28.0"
      ]
     },
     "execution_count": 9,
     "metadata": {},
     "output_type": "execute_result"
    }
   ],
   "source": [
    "# 2.5 Вычислите медиану стоимости бутылки вина при помощи функции statistics.median() библиотеки statistics. Округлите значение до сотых.\n",
    "\n",
    "round(statistics.median(df['price']), 2)"
   ]
  },
  {
   "cell_type": "code",
   "execution_count": 10,
   "id": "ca11e69b",
   "metadata": {},
   "outputs": [
    {
     "data": {
      "text/plain": [
       "28.0"
      ]
     },
     "execution_count": 10,
     "metadata": {},
     "output_type": "execute_result"
    }
   ],
   "source": [
    "# 2.6 Вычислите медиану стоимости бутылки вина при помощи стандартных функций Python.\n",
    "\n",
    "count_price = len(df['price']) # количество записей цен\n",
    "sorted_price = sorted(df['price']) # отсортированные цены\n",
    "\n",
    "if count_price % 2: # при нечетном кол-ве элементов выбираем средний по индексу \n",
    "    median = sorted_price[round(0.5*(count_price-1))]\n",
    "else: # при четном кол-ве элементов выбираем 2 средних по индексу и считаем между ними среднее арифметическое\n",
    "    index = round(0.5 * count_price)\n",
    "    median_ = 0.5 * (sorted_price[index-1] + sorted_price[index])\n",
    "median"
   ]
  },
  {
   "cell_type": "markdown",
   "id": "e933f1a5",
   "metadata": {},
   "source": [
    "Также в библиотеке statistics есть функции, связанные с медианой, — функция statistics.median_low() и функция statistics.median_high().\n",
    "\n",
    "→ В случае, когда количество элементов в числовом ряду (серии) нечётное, функции возвращают то же, что и median().\n",
    "\n",
    "В случае, когда количество элементов чётное, у нас получается два средних значения:\n",
    "\n",
    "median_low() возвращает меньшее из них;\n",
    "median_high() возвращает большее из них.\n",
    "Примечание. Если в вашем наборе данных есть пропущенные значения, функции библиотеки statistics в отличие от других методов (например np.median() из библиотеки numpy) будут автоматически игнорировать пропущенные значения, не выдавая ошибку."
   ]
  },
  {
   "cell_type": "markdown",
   "id": "b7b52320",
   "metadata": {},
   "source": [
    "## <center> Мода <center>\n",
    "\n",
    "Мода — самое часто встречающееся значение в числовом или нечисловом ряду данных.\n",
    "\n",
    "Чаще всего мода используется в нечисловых рядах. Например самая популярная порода собак, фильм года, лучшие рестораны вычисляются именно модой."
   ]
  },
  {
   "cell_type": "code",
   "execution_count": 11,
   "id": "2d216d07",
   "metadata": {},
   "outputs": [
    {
     "data": {
      "text/plain": [
       "35.36"
      ]
     },
     "execution_count": 11,
     "metadata": {},
     "output_type": "execute_result"
    }
   ],
   "source": [
    "# 2.7 Вычислите моду стоимости бутылки (самую часто встречающуюся цену) вина при помощи функции statistics.mode() библиотеки statistics.\n",
    "# Округлите значение до сотых.\n",
    "\n",
    "round(statistics.mode(df['price']), 2)"
   ]
  },
  {
   "cell_type": "markdown",
   "id": "dccd2539",
   "metadata": {},
   "source": [
    "Моду также можно вычислить при помощи statistics.multimode(). В случае наличия нескольких модовых (популярных значений) функция statistics.mode() вернёт вам ошибку StatisticsError, а statistics.multimode() — список с всеми вычисленными модовыми значениями."
   ]
  },
  {
   "cell_type": "code",
   "execution_count": 12,
   "id": "10d0c766",
   "metadata": {},
   "outputs": [
    {
     "data": {
      "text/plain": [
       "np.float64(35.36)"
      ]
     },
     "metadata": {},
     "output_type": "display_data"
    }
   ],
   "source": [
    "# 2.8 Вычислите моду стоимости бутылки (самую часто встречающуюся цену) вина при помощи стандартных функций Python и pandas.\n",
    "\n",
    "mode = round(df['price'].value_counts().index[0], 2)\n",
    "display(mode)"
   ]
  },
  {
   "cell_type": "markdown",
   "id": "8e8580f8",
   "metadata": {},
   "source": [
    "## <center> Корреляция <center>\n",
    "\n",
    "***Корреляция*** — статистическая связь двух и более переменных. При изменении значения одной из переменных происходит закономерное изменение другой или других величин. \n",
    "\n",
    "Например, при взрослении у человека меняются его показатели: рост становится больше, риск сердечно-сосудистых заболеваний — выше.\n",
    "\n",
    "Мерой связи величин, мерой корреляции является ***коэффициент корреляции***. Он может принимать значение от -1 до +1.\n",
    "\n",
    "***Отрицательная корреляция***, коэффициент корреляции < 0 говорит об обратной связи между переменными. При обратной связи ***увеличение*** одной из величин ведёт к закономерному ***уменьшению*** другой (других) величин. \n",
    "\n",
    "Например, чем больше сумма активного долга, тем меньше шанс в одобрении кредита.\n",
    "\n",
    "***Положительная корреляция***, коэффициент корреляции > 0 говорит о прямой связи между переменными. При прямой связи ***увеличение*** одной из величин ведёт к закономерному ***увеличению*** другой (других) величин. \n",
    "\n",
    " Например, с увеличением возраста размер ноги человека увеличивается, и его рост увеличивается тоже.\n",
    "\n",
    "Коэффициент корреляции = 0 говорит о том, что переменные независимы друг от друга, по крайней мере линейно, но это вовсе не значит, что между ними нет какой-то более сложной взаимосвязи. Это достаточно редкое явление, которое может встретиться на конкретном наборе данных.\n",
    "\n",
    "Понимание корреляции приводит нас к понятию ***мультиколлинеарности*** — такой сильной зависимости переменных друг от друга, что она затрудняет анализ и оценку будущей модели машинного обучения. \n",
    "\n",
    "Например, сложилась ситуация, когда в датасете были обнаружены признаки с очень сильной корреляцией. Мы знаем, что мультиколлинеарность вредит такой модели, поэтому на этапе проектирования признаков можем объединить эту пару признаков в один или удалить из этой пары один — тот, что менее важен. Важность признаков мы оцениваем позже, на этапе отбора признаков."
   ]
  },
  {
   "cell_type": "code",
   "execution_count": 13,
   "id": "7daeddb4",
   "metadata": {},
   "outputs": [
    {
     "data": {
      "text/plain": [
       "np.float64(0.402137)"
      ]
     },
     "execution_count": 13,
     "metadata": {},
     "output_type": "execute_result"
    }
   ],
   "source": [
    "# 3.3 Для расчёта коэффициента корреляции применим функцию df.corr() библиотеки pandas.\n",
    "\n",
    "# data.corr()\n",
    "\n",
    "# Вычислите коэффициент корреляции между переменными в датасете винных обзоров.\n",
    "# В ответ запишите величину коэффициента корреляции между ценой за бутылку и баллами за вино. Округлите ответ до шести знаков после запятой.\n",
    "\n",
    "round(df['points'].corr(df['price']), 6)"
   ]
  },
  {
   "cell_type": "markdown",
   "id": "973bedfb",
   "metadata": {},
   "source": [
    "Результатом функции df.corr() является матрица корреляции. \n",
    "\n",
    "***Матрица корреляции*** — таблица, заголовками и строками которой являются названия признаков в датасете. На пересечении строк и столбцов находится значение коэффициента корреляции этих двух признаков.\n",
    "\n",
    "Данная матрица имеет значение 1 по главной диагонали, так как единица означает корреляцию признака с самим собой. Матрица является симметричной. "
   ]
  },
  {
   "cell_type": "markdown",
   "id": "1fa12686",
   "metadata": {},
   "source": [
    "## <center> Корреляция Пирсона <center>\n",
    "\n",
    "Коэффициент корреляции Пирсона используется для вычисления линейной взаимосвязи между признаками. \n",
    "\n",
    "Линейная взаимосвязь — вид связи между признаками, в котором изменение одного признака Х1 всегда приводит к изменению другого признака Х2 на величину, пропорциональную изменению Х1, в соответствии с правилом: Х2 = AX1 + b (уравнение прямой), где a и b — некоторые коэффициенты.\n",
    "\n",
    "Определить существование линейной связи в паре признаков эмпирическим путем можно, если вы можете формулировать фразу про признаки: «С уменьшением/увеличением признака 1 уменьшается/увеличивается признак 2 в соответствии с некоторым уравнением прямой». \n",
    "\n",
    "Например, с увеличением возраста заёмщика уменьшается количество дней просрочки по кредиту. \n",
    "\n",
    "## <center> Нормальное распределение <center>\n",
    "\n",
    "Большинство окружающих нас процессов и явлений, характеристик объектов можно описать нормальным распределением. В основном это переменные, которые зависят от множества факторов, например рост человека. Он сформировался благодаря местности, в которой проживает человек, генетическим предрасположенностям, перенесённым заболеваниям и так далее. Как следствие, показатели роста подвергаются законам нормального распределения.\n",
    "\n",
    "Если признак является совокупностью очень редких событий, например аварии на дорогах, то распределение признака нормальным не будет.\n",
    "\n",
    "С точки зрения визуализации нормальное (гауссово) распределение представляет собой распределение признака в виде колокола.\n",
    "\n",
    "Нормальность распределения признака можно определить визуально, построив гистограмму распределения непрерывного признака или так называемый q-q plot."
   ]
  },
  {
   "cell_type": "code",
   "execution_count": 14,
   "id": "b82d4022",
   "metadata": {},
   "outputs": [
    {
     "data": {
      "image/png": "[encoded data removed]",
      "text/plain": [
       "<Figure size 640x480 with 2 Axes>"
      ]
     },
     "metadata": {},
     "output_type": "display_data"
    }
   ],
   "source": [
    "import matplotlib.pyplot as plt # библиотека визуализации\n",
    "from scipy import stats # библиотека для расчетов\n",
    "\n",
    "plt.subplot(1, 2, 1) # задаем сетку рисунка количество строк и столбцов\n",
    "stats.probplot(df['price'], plot=plt) # qq plot\n",
    "\n",
    "plt.subplot(1, 2, 2) # располагаем второй рисунок рядом\n",
    "plt.hist(df['price']) # гистограмма распределения признака\n",
    "\n",
    "plt.tight_layout() # чтобы графики не наезжали другу на друга, используем tight_layout\n",
    "\n",
    "plt.show() # просмотр графика"
   ]
  },
  {
   "cell_type": "code",
   "execution_count": 15,
   "id": "dbfbf84d",
   "metadata": {},
   "outputs": [
    {
     "data": {
      "image/png": "[encoded data removed]",
      "text/plain": [
       "<Figure size 640x480 with 2 Axes>"
      ]
     },
     "metadata": {},
     "output_type": "display_data"
    }
   ],
   "source": [
    "# 4.2 Постройте приведённые выше графики для признака points из датасета винных обзоров и выберите верное утверждение:\n",
    "\n",
    "plt.subplot(1, 2, 1) # задаем сетку рисунка количество строк и столбцов\n",
    "stats.probplot(df['points'], plot=plt) # qq plot\n",
    "\n",
    "plt.subplot(1, 2, 2) # располагаем второй рисунок рядом\n",
    "plt.hist(df['points']) # гистограмма распределения признака\n",
    "\n",
    "plt.tight_layout() # чтобы графики не наезжали другу на друга, используем tight_layout\n",
    "\n",
    "plt.show() # просмотр графика"
   ]
  },
  {
   "cell_type": "markdown",
   "id": "82eec04e",
   "metadata": {},
   "source": [
    "Ранговая корреляция — это вид корреляции, отражающий отношения переменных, упорядоченных по возрастанию их значения. Ранги — это порядковые номера единиц совокупности в упорядоченном (ранжированном) ряду. Если проранжировать совокупность по двум признакам, связь между которыми изучается, то полное совпадение рангов означает максимально тесную прямую связь, а полная противоположность рангов — максимально тесную обратную связь.\n",
    "\n",
    "## <center> Корреляция Спирмена <center>\n",
    "\n",
    "Коэффициент корреляции Спирмена используется для вычисления взаимосвязей между категориальными переменными."
   ]
  },
  {
   "cell_type": "code",
   "execution_count": 17,
   "id": "9db6f4d6",
   "metadata": {},
   "outputs": [
    {
     "data": {
      "text/plain": [
       "np.float64(0.58)"
      ]
     },
     "execution_count": 17,
     "metadata": {},
     "output_type": "execute_result"
    }
   ],
   "source": [
    "# 5.1 Рассчитайте коэффициент корреляции Спирмена для признаков point и price. Ответ округлите до сотых.\n",
    "\n",
    "round(df['points'].corr(df['price'], method='spearman'), 2)"
   ]
  },
  {
   "cell_type": "markdown",
   "id": "eda6f0d6",
   "metadata": {},
   "source": [
    "Например, в нашем случае один из признаков price распределён ненормально, связь между ними также не является линейной. Корреляция по Пирсону составляет 0.4, что говорит о слабой связи признаков. А корреляция по Спирмену составляет 0.58, что говорит о более сильной связи. \n",
    "\n",
    "Скорее всего, корреляция Спирмена в данном случае будет более верным вариантом, но для точного ответа нам необходимо будет удовлетворить условиям корреляции Спирмена или корреляции Пирсона. Для этого будут необходимы преобразования, которые мы изучим в следующих модулях EDA.\n",
    "\n",
    "Так же, как и коэффициент Пирсона, коэффициент Спирмена распределён [-1; 1] с такой же интерпретацией силы связи, рассмотренной нами в предыдущих юнитах.\n",
    "\n",
    "Для ранговой корреляции существует ещё один метод расчёта — корреляция Кендалла.\n",
    "\n",
    "## <center> Корреляция Кендалла <center>\n",
    "\n",
    "Так же, как и корреляция Спирмена, корреляция Кендала предусмотрена для нахождения взаимосвязей между категориальными переменными. Для расчёта коэффициента корреляции Кендалла необходимо передать в изученный нами метод df.corr() аргумент method = 'kendall'. "
   ]
  },
  {
   "cell_type": "code",
   "execution_count": 18,
   "id": "e77e2ff3",
   "metadata": {},
   "outputs": [
    {
     "data": {
      "text/plain": [
       "np.float64(0.43)"
      ]
     },
     "execution_count": 18,
     "metadata": {},
     "output_type": "execute_result"
    }
   ],
   "source": [
    "# 5.2 Рассчитайте коэффициент корреляции Кендалла для признаков point и price. Ответ округлите до сотых.\n",
    "\n",
    "round(df['points'].corr(df['price'], method='kendall'), 2)"
   ]
  },
  {
   "cell_type": "markdown",
   "id": "e4e75ea1",
   "metadata": {},
   "source": [
    "## <center> Корреляция Мэтьюса <center>\n",
    "\n",
    "Кроме этого, существует корреляция Мэтьюса — мера силы связи между бинарными переменными.\n",
    "\n",
    "В df.corr() нет расчёта для корреляции Мэтьюса, но мы можем воспользоваться библиотекой scikit-learn и её функцией matthews_corrcoef() для расчёта коэффициента корреляции Мэтьюса."
   ]
  },
  {
   "cell_type": "code",
   "execution_count": 22,
   "id": "783e9002",
   "metadata": {},
   "outputs": [
    {
     "data": {
      "text/plain": [
       "-0.33"
      ]
     },
     "execution_count": 22,
     "metadata": {},
     "output_type": "execute_result"
    }
   ],
   "source": [
    "x = [+1, -1, +1, +1] # список значений признака х\n",
    "y = [+1, +1, +1, -1] # список значений признака y\n",
    "\n",
    "round(matthews_corrcoef(x, y), 2) # рассчитаем коэффициент корреляции Мэтьюса"
   ]
  }
 ],
 "metadata": {
  "kernelspec": {
   "display_name": "Python 3",
   "language": "python",
   "name": "python3"
  },
  "language_info": {
   "codemirror_mode": {
    "name": "ipython",
    "version": 3
   },
   "file_extension": ".py",
   "mimetype": "text/x-python",
   "name": "python",
   "nbconvert_exporter": "python",
   "pygments_lexer": "ipython3",
   "version": "3.10.0"
  }
 },
 "nbformat": 4,
 "nbformat_minor": 5
}
