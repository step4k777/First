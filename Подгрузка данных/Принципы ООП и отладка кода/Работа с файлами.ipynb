{
 "cells": [
  {
   "cell_type": "markdown",
   "metadata": {},
   "source": [
    "## Работа с файлами\n",
    "\n",
    "Чтобы открыть файл, нужно воспользоваться командой open\n",
    "f = open('path/to/file', 'filemode', encoding='utf8')\n",
    " - path/to/file - путь к файлу\n",
    " - filemode - режим, в котором нужно открывать файл\n",
    " Записывается в виде строки и может принимать следующие значения:\n",
    "    - r - открыть на чтение(по умолчанию)\n",
    "    - w — перезаписать и открыть на запись (если файла нет, то он создастся);\n",
    "    - x — создать и открыть на запись (если уже есть — исключение);\n",
    "    - a — открыть на дозапись (указатель будет поставлен в конец);\n",
    "    - t — открыть в текстовом виде (по умолчанию);\n",
    "    - b — открыть в бинарном виде.\n",
    " - encoding - указание, в какой кодировке записан файл\n",
    "\n",
    "Откроем файл на запись и с помощью метода write запишем в него строку. В качестве результата метод write возвращает количество записанных символов. "
   ]
  },
  {
   "cell_type": "code",
   "execution_count": 4,
   "metadata": {},
   "outputs": [],
   "source": [
    "f = open('test.txt', 'w', encoding='utf8')\n",
    "\n",
    "# Запишем в файл строку\n",
    "f.write('This is a test string\\n')\n",
    "f.write(\"This is a new string\\n\")\n",
    "f.close()"
   ]
  },
  {
   "cell_type": "code",
   "execution_count": 10,
   "metadata": {},
   "outputs": [
    {
     "name": "stdout",
     "output_type": "stream",
     "text": [
      "This is a test string\n",
      "This is a new string\n",
      "\n"
     ]
    }
   ],
   "source": [
    "# Теперь откроем файл для чтения, в который только что\n",
    "# записали 2 строки:\n",
    "f = open('test.txt', 'r', encoding='utf8')\n",
    "print(f.read())\n",
    "# После работы нужно закрыть файл\n",
    "f.close()"
   ]
  },
  {
   "cell_type": "markdown",
   "metadata": {},
   "source": [
    "## Чтение и запись построчно\n",
    "Зачастую с файлами удобнее работать построчно, поэтому для этого есть отдельные методы:\n",
    "\n",
    " - writelines — записывает список строк в файл;\n",
    " - readline — считывает из файла одну строку и возвращает её;\n",
    " - readlines — считывает из файла все строки в список и возвращает их.\n",
    "\n",
    " Метод f.writelines(sequence) не будет сам за вас дописывать символ конца строки ('\\n'), поэтому при необходимости его нужно прописать вручную."
   ]
  },
  {
   "cell_type": "code",
   "execution_count": 17,
   "metadata": {},
   "outputs": [],
   "source": [
    "# Открываем файл на дозапись\n",
    "f = open('test.txt', 'a', encoding='utf8')\n",
    "\n",
    "# Файл со строками\n",
    "sequence = [\"other string\\n\", \"123\\n\", \"test test\\n\"]\n",
    "# Берет строки из sequence и записывает в файл\n",
    "f.writelines(sequence)\n",
    "f.close()"
   ]
  },
  {
   "cell_type": "code",
   "execution_count": null,
   "metadata": {},
   "outputs": [],
   "source": [
    "# Теперь построчно считаем файл с помощью readlines\n",
    "f = open('test.txt', 'a', encoding='utf8')\n",
    "print(f.readlines())"
   ]
  },
  {
   "cell_type": "markdown",
   "metadata": {},
   "source": [
    "## Файл как итератор\n",
    "Объект файл является итератором, поэтому его можно использовать в цикле for\n",
    "\n",
    "В большинстве задач с обработкой текста весь файл разом читать не требуется. В таком случае с файлом работают построчно."
   ]
  },
  {
   "cell_type": "code",
   "execution_count": 21,
   "metadata": {},
   "outputs": [
    {
     "name": "stdout",
     "output_type": "stream",
     "text": [
      "This is a test string\n",
      "This is a new string\n",
      "other string\n",
      "123\n",
      "test test\n",
      "other string\n",
      "123\n",
      "test test\n",
      "other string\n",
      "123\n",
      "test test\n",
      "other string\n",
      "123\n",
      "test test\n",
      "other string\n",
      "123\n",
      "test test\n"
     ]
    }
   ],
   "source": [
    "f = open('test.txt')  # можно перечислять строки в файле\n",
    "for line in f:\n",
    "    print(line, end='')\n",
    "\n",
    "f.close()"
   ]
  },
  {
   "cell_type": "markdown",
   "metadata": {},
   "source": [
    "## Менеджер контекста with\n",
    "Для явного указания места работы с файлом, а также чтобы не забывать закрывать файл после обработки, существует менеджер контекста with."
   ]
  },
  {
   "cell_type": "code",
   "execution_count": null,
   "metadata": {},
   "outputs": [],
   "source": [
    "# 7.4 Создайте любой файл на операционной системе под \n",
    "# название input.txt и построчно перепишите его\n",
    "# в файл output.txt.\n",
    "\n",
    "with open(\"input.txt\", \"r\") as input_file:\n",
    "    with open(\"output.txt\", \"w\") as output_file:\n",
    "        for line in input_file:\n",
    "            output_file.write(line)\n"
   ]
  },
  {
   "cell_type": "markdown",
   "metadata": {},
   "source": [
    "Создайте класс Square. Добавьте в конструктор класса Square собственное исключение NonPositiveDigitException, унаследованное от ValueError, которое будет срабатывать каждый раз, когда сторона квадрата меньше или равна 0."
   ]
  },
  {
   "cell_type": "code",
   "execution_count": 26,
   "metadata": {},
   "outputs": [],
   "source": [
    "class NonPositiveDigitException(ValueError):\n",
    "    pass\n",
    "\n",
    "class Square:\n",
    "    def __init__(self, a):\n",
    "        if a <=0:\n",
    "            raise NonPositiveDigitException(\"Неправильно указана сторона квадрата\")\n"
   ]
  }
 ],
 "metadata": {
  "kernelspec": {
   "display_name": "Python 3",
   "language": "python",
   "name": "python3"
  },
  "language_info": {
   "codemirror_mode": {
    "name": "ipython",
    "version": 3
   },
   "file_extension": ".py",
   "mimetype": "text/x-python",
   "name": "python",
   "nbconvert_exporter": "python",
   "pygments_lexer": "ipython3",
   "version": "3.13.1"
  }
 },
 "nbformat": 4,
 "nbformat_minor": 2
}
