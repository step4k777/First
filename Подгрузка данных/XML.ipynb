{
 "cells": [
  {
   "cell_type": "markdown",
   "metadata": {},
   "source": [
    "→ Аббревиатура XML расшифровывается как eXtensible Markup Language — расширяемый язык разметки. Он (язык) позволяет описывать документы, используя теги.\n",
    "\n",
    "Если вы когда-нибудь сталкивались с HTML, языком разметки для создания веб-страниц, то можете заметить, что XML очень похож на него. Однако в отличие от HTML, где теги заранее чётко заданы, в XML мы можем задавать теги сами.\n",
    "\n",
    "Например, если мы хотим описать меню в ресторане в формате XML-документа, мы можем сделать это так:\n",
    "\n",
    "<img src=https://lms-cdn.skillfactory.ru/assets/courseware/v1/f92e35f47fa17ac0ddd40efde0e3389d/asset-v1:SkillFactory+DSPRMGU+2023_FEB+type@asset+block/xml_0.jpg>\n",
    "\n",
    "В примере выше довольно жёсткая структура: у нас есть меню  — тег <menu>, где хранятся объекты, то есть конкретные блюда, помеченные тегом <dish>. У каждого из блюд есть параметр name, в котором прописано имя блюда. Можно считать, что <dish> — класс этого объекта.\n",
    "\n",
    "Внутри каждого объекта-блюда находится набор значений, которые тоже задаются тегами. Например, внутри тега <price> находится значение 20, означающее цену данного блюда. Тег <price> и другие теги внутри можно рассматривать как атрибуты класса dish.\n",
    "\n",
    "Файлы XML не всегда имеют жёсткую структуру и не обязаны её иметь, но чаще всего какая-то структура внутри файла будет. Почему? Потому что обычно XML не пишут вручную. Такие файлы генерируются кодом и читаются тоже кодом. Поэтому при наличии понятной структуры обработка файла становится намного проще.\n",
    "\n",
    "## <center> Извлекаем контент из XML файла <center>\n",
    "\n",
    "Данные в формате XML имеют древовидную структуру. \n",
    "\n",
    "Что такое дерево? Это структура, которая имеет узлы и связи между ними. Самый верхнеуровневый узел называется корнем, а всё, что находится в самом низу, называется листьями. \n",
    "\n",
    "В примере из прошлого юнита корнем является **menu**, а листьями, например, **price** и **weight**.\n",
    "\n",
    "Кроме того, у **menu** есть дети (потомки) — это два узла **dish**, имеющие разное значение атрибута **name**.\n",
    "\n",
    "Таким образом, в файле используется набор тегов, внутри которых могут находиться другие теги со своими значениями.\n",
    "\n",
    "Для работы с XML-файлами мы будем использовать модуль ElementTree , входящий в стандартный пакет xml. Этот модуль позволит нам «перемещаться» по дереву XML и смотреть, что находится в каждом его узле, начиная с корня и заканчивая листьями.\n",
    "\n",
    "Импортируем этот модуль под псевдонимом ET: "
   ]
  },
  {
   "cell_type": "code",
   "execution_count": 4,
   "metadata": {},
   "outputs": [],
   "source": [
    "import xml.etree.ElementTree as ET\n",
    "tree = ET.parse('data/menu.xml')"
   ]
  },
  {
   "cell_type": "markdown",
   "metadata": {},
   "source": [
    "## <center> Корень <center>\n",
    "\n",
    "Запишем в переменную root корневой узел дерева tree и посмотрим, как выглядит содержимое переменной root, для чего выполним код:"
   ]
  },
  {
   "cell_type": "code",
   "execution_count": 5,
   "metadata": {},
   "outputs": [
    {
     "data": {
      "text/plain": [
       "<Element 'menu' at 0x000001AFDB7676A0>"
      ]
     },
     "metadata": {},
     "output_type": "display_data"
    }
   ],
   "source": [
    "root = tree.getroot()\n",
    "display(root)"
   ]
  },
  {
   "cell_type": "markdown",
   "metadata": {},
   "source": [
    "Мы видим, что в корне находится 'menu'. Всё правильно, мы и предполагали увидеть именно это. \n",
    "\n",
    "Какой тип у этого объекта? Если мы вызовем встроенный в Python метод type() и передадим ему root , то увидим, что это тип xml.etree.ElementTree.Element. Такой тип будет у любого узла в дереве."
   ]
  },
  {
   "cell_type": "code",
   "execution_count": 6,
   "metadata": {},
   "outputs": [
    {
     "data": {
      "text/plain": [
       "xml.etree.ElementTree.Element"
      ]
     },
     "metadata": {},
     "output_type": "display_data"
    }
   ],
   "source": [
    "display(type(root))"
   ]
  },
  {
   "cell_type": "markdown",
   "metadata": {},
   "source": [
    "## <center> Потомки <center>\n",
    "\n",
    "Если у узла нет потомков, то вернётся пустой список — [].\n",
    "\n",
    "Для того чтобы посмотреть список потомков корневого узла, выполним следующий код:"
   ]
  },
  {
   "cell_type": "code",
   "execution_count": 7,
   "metadata": {},
   "outputs": [
    {
     "data": {
      "text/plain": [
       "[<Element 'dish' at 0x000001AFDB764F40>,\n",
       " <Element 'dish' at 0x000001AFDB764BD0>]"
      ]
     },
     "metadata": {},
     "output_type": "display_data"
    }
   ],
   "source": [
    "display(list(root))"
   ]
  },
  {
   "cell_type": "markdown",
   "metadata": {},
   "source": [
    "Итак, использование list(root) возвращает список потомков указанного узла. У узла root, который представляет меню, два потомка, а именно — два блюда, которые представлены тегами dish.\n",
    "\n",
    "Для того чтобы получить список потомков второго блюда в нашем меню и вывести его на экран, выполним код:"
   ]
  },
  {
   "cell_type": "code",
   "execution_count": null,
   "metadata": {},
   "outputs": [
    {
     "data": {
      "text/plain": [
       "[<Element 'price' at 0x000001AFDB764C20>,\n",
       " <Element 'weight' at 0x000001AFDB7673D0>,\n",
       " <Element 'class' at 0x000001AFDB765BC0>]"
      ]
     },
     "metadata": {},
     "output_type": "display_data"
    }
   ],
   "source": [
    "display(list(root[1]))\n",
    "\n",
    "#Таким образом, у второго потомка узла root —  три потомка."
   ]
  },
  {
   "cell_type": "markdown",
   "metadata": {},
   "source": [
    "## <center> Атрибуты и теги <center>\n",
    "\n",
    "Как было сказано ранее, у узлов могут быть параметры, или атрибуты. Например, у узлов dish есть атрибут name, который хранит название блюда.\n",
    "\n",
    "Мы можем непосредственно обратиться к атрибутам, используя attrib.\n",
    "\n",
    "Выведем на экран атрибуты первого блюда из меню:"
   ]
  },
  {
   "cell_type": "code",
   "execution_count": 9,
   "metadata": {},
   "outputs": [
    {
     "data": {
      "text/plain": [
       "{'name': 'Кура'}"
      ]
     },
     "metadata": {},
     "output_type": "display_data"
    }
   ],
   "source": [
    "display(root[0].attrib)"
   ]
  },
  {
   "cell_type": "markdown",
   "metadata": {},
   "source": [
    "В XML-узлах часто хранятся количественные показатели. Эти показатели хранятся в виде текста, и прочитать их можно, обратившись к атрибуту text у соответствующего объекта типа ElementTree.Element.\n",
    "\n",
    "Например, возьмём узел price первого блюда из меню:"
   ]
  },
  {
   "cell_type": "code",
   "execution_count": 11,
   "metadata": {},
   "outputs": [
    {
     "data": {
      "text/plain": [
       "<Element 'price' at 0x000001AFDB7658F0>"
      ]
     },
     "metadata": {},
     "output_type": "display_data"
    },
    {
     "data": {
      "text/plain": [
       "'40'"
      ]
     },
     "metadata": {},
     "output_type": "display_data"
    }
   ],
   "source": [
    "display(root[0][0])\n",
    "\n",
    "# Теперь прочитаем значение этого узла с помощью text\n",
    "\n",
    "display(root[0][0].text)"
   ]
  },
  {
   "cell_type": "markdown",
   "metadata": {},
   "source": [
    "Все значения в XML, даже числовые, хранятся как строки, поэтому преобразовывать их к нужному типу вам нужно самим.\n",
    "\n",
    "Например, в данном случае можно обернуть значение стоимости в int() или float().\n",
    "\n",
    "Если вы хотите прочитать наименование тега конкретного узла, необходимо использовать tag. Например, получим наименование тега корневого узла:"
   ]
  },
  {
   "cell_type": "code",
   "execution_count": 13,
   "metadata": {},
   "outputs": [
    {
     "data": {
      "text/plain": [
       "'menu'"
      ]
     },
     "metadata": {},
     "output_type": "display_data"
    },
    {
     "data": {
      "text/plain": [
       "<Element 'class' at 0x000001AFDB767060>"
      ]
     },
     "metadata": {},
     "output_type": "display_data"
    }
   ],
   "source": [
    "display(root.tag)\n",
    "display(root[0][2])"
   ]
  },
  {
   "cell_type": "markdown",
   "metadata": {},
   "source": [
    "## <center> Использование циклов <center>\n",
    "\n",
    "→ Итак, мы научились обращаться к отдельным узлам дерева, представляющего XML-структуру, и извлекать информацию о его атрибутах, значении и потомках.\n",
    "\n",
    "На этом шаге мы решим задачу вывода на экран наименование всех блюд из меню, а также информацию о них (иными словами, нам необходимо обойти дерево и вывести на экран значения его листьев).\n",
    "\n",
    "Используя цикл for, автоматизируем обход дерева. Для этого напишем следующий код:"
   ]
  },
  {
   "cell_type": "code",
   "execution_count": 14,
   "metadata": {},
   "outputs": [
    {
     "name": "stdout",
     "output_type": "stream",
     "text": [
      "Кура price 40\n",
      "Кура weight 300\n",
      "Кура class Мясо\n",
      "\n",
      "Греча price 20\n",
      "Греча weight 200\n",
      "Греча class Крупа\n",
      "\n"
     ]
    }
   ],
   "source": [
    "for dish in root:\n",
    "    for param in dish:\n",
    "        print(dish.attrib['name'], param.tag, param.text)\n",
    "    print()\n"
   ]
  },
  {
   "cell_type": "markdown",
   "metadata": {},
   "source": [
    "В этом коде реализован следующий алгоритм:\n",
    "\n",
    " - В первом (внешнем) цикле перебираем потомков корня дерева (root). Потомки перебираются последовательно при помощи переменной dish. Это отдельные блюда из меню.\n",
    " - Во втором (вложенном) цикле аналогичным образом перебираем потомков каждого блюда. Этими потомками являются параметры блюда — его цена (price), вес (weight) и класс (class).\n",
    " - После этого выводим на экран название блюда (значение атрибута name), название очередного параметра (tag) и его значение (text).\n",
    " - Дополнительная функция print() в цикле верхнего уровня предназначена для организации более удобного восприятия информации — между отдельными блюдами будет выведена пустая строка."
   ]
  },
  {
   "cell_type": "markdown",
   "metadata": {},
   "source": [
    "## <center> Загружаем данные из XML файла в DataFrame <center>\n",
    "\n",
    "Реализуем следующий алгоритм:\n",
    "\n",
    " 1) Загрузить данные из XML-файла menu.xml в переменную root.\n",
    " 2) Создать пустой список df_list (в него будем добавлять строчки итоговой таблицы).\n",
    " 3) Заранее создать список column_names с именами столбцов — название блюда (name), его цена (price), вес (weight) и класс (class).\n",
    " 4) В цикле организовать обход xml-дерева из корня по всем потомкам.\n",
    " 5) На каждой итерации цикла сформировать в виде списка строку таблицы, содержащую информацию: наименование блюда (атрибут name узла dish) и значения потомков этого узла — узлов price, weight, class.\n",
    " 6) Добавить сформированную строку в список df_list, используя метод append().\n",
    " 7) Сформировать из вложенного списка DataFrame. Имена для столбцов взять из списка column_names."
   ]
  },
  {
   "cell_type": "code",
   "execution_count": 15,
   "metadata": {},
   "outputs": [
    {
     "data": {
      "text/html": [
       "<div>\n",
       "<style scoped>\n",
       "    .dataframe tbody tr th:only-of-type {\n",
       "        vertical-align: middle;\n",
       "    }\n",
       "\n",
       "    .dataframe tbody tr th {\n",
       "        vertical-align: top;\n",
       "    }\n",
       "\n",
       "    .dataframe thead th {\n",
       "        text-align: right;\n",
       "    }\n",
       "</style>\n",
       "<table border=\"1\" class=\"dataframe\">\n",
       "  <thead>\n",
       "    <tr style=\"text-align: right;\">\n",
       "      <th></th>\n",
       "      <th>name</th>\n",
       "      <th>price</th>\n",
       "      <th>weight</th>\n",
       "      <th>class</th>\n",
       "    </tr>\n",
       "  </thead>\n",
       "  <tbody>\n",
       "    <tr>\n",
       "      <th>0</th>\n",
       "      <td>Кура</td>\n",
       "      <td>40</td>\n",
       "      <td>300</td>\n",
       "      <td>Мясо</td>\n",
       "    </tr>\n",
       "    <tr>\n",
       "      <th>1</th>\n",
       "      <td>Греча</td>\n",
       "      <td>20</td>\n",
       "      <td>200</td>\n",
       "      <td>Крупа</td>\n",
       "    </tr>\n",
       "  </tbody>\n",
       "</table>\n",
       "</div>"
      ],
      "text/plain": [
       "    name price weight  class\n",
       "0   Кура    40    300   Мясо\n",
       "1  Греча    20    200  Крупа"
      ]
     },
     "metadata": {},
     "output_type": "display_data"
    }
   ],
   "source": [
    "import pandas as pd\n",
    "column_names = ['name', 'price', 'weight', 'class']\n",
    "df_list = []\n",
    "\n",
    "for dish in root:\n",
    "    row = [dish.attrib['name'], dish[0].text, dish[1].text, dish[2].text]\n",
    "    df_list.append(row)\n",
    "    \n",
    "df = pd.DataFrame(df_list, columns=column_names)\n",
    "display(df)"
   ]
  },
  {
   "cell_type": "markdown",
   "metadata": {},
   "source": [
    "## <center> Создаем XML файл <center>\n",
    "\n",
    "Воссоздадим структуру нашего исходного XML-файла с нуля,  руководствуясь общими рекомендациями.\n",
    "\n",
    "Чтобы создать корень дерева, используем метод Element() из класса ElementTree:"
   ]
  },
  {
   "cell_type": "code",
   "execution_count": 16,
   "metadata": {},
   "outputs": [
    {
     "data": {
      "text/plain": [
       "<Element 'menu' at 0x000001AFEB798EA0>"
      ]
     },
     "metadata": {},
     "output_type": "display_data"
    }
   ],
   "source": [
    "new_root = ET.Element('menu')\n",
    "display(new_root)"
   ]
  },
  {
   "cell_type": "markdown",
   "metadata": {},
   "source": [
    "Теперь мы можем добавлять новые узлы в наше дерево, используя метод SubElement() из того же класса.\n",
    "\n",
    "Добавим в наше меню двух потомков корневого узла, которые будут представлять два блюда, то есть будут узлами dish:"
   ]
  },
  {
   "cell_type": "code",
   "execution_count": 17,
   "metadata": {},
   "outputs": [
    {
     "data": {
      "text/plain": [
       "[<Element 'dish' at 0x000001AFEB7993F0>,\n",
       " <Element 'dish' at 0x000001AFEB799530>]"
      ]
     },
     "metadata": {},
     "output_type": "display_data"
    }
   ],
   "source": [
    "dish1 = ET.SubElement(new_root, 'dish', name='Кура')\n",
    "\n",
    "dish2 = ET.SubElement(new_root, 'dish', name='Греча')\n",
    "\n",
    "display(list(new_root))"
   ]
  },
  {
   "cell_type": "markdown",
   "metadata": {},
   "source": [
    "В метод SubElement() мы передали первым аргументом узел, к которому добавляем потомка, вторым аргументом — наименование нового тега (dish),  третьим аргументом — наименование атрибута нового узла( name ) и его значение.\n",
    "\n",
    "Аналогичным образом можно добавлять новые узлы к любым существующим узлам, не только к корню.\n",
    "\n",
    "\n",
    "Добавим в создаваемую структуру по три потомка (атрибута) к двум новым узлам, которые будут содержать информацию о блюде — о его цене (price), весе (weight) и классе (class), а также значение этих атрибутов:"
   ]
  },
  {
   "cell_type": "code",
   "execution_count": 18,
   "metadata": {},
   "outputs": [
    {
     "data": {
      "text/plain": [
       "[<Element 'price' at 0x000001AFEB777F60>,\n",
       " <Element 'weight' at 0x000001AFEB777600>,\n",
       " <Element 'class' at 0x000001AFEB777B00>]"
      ]
     },
     "metadata": {},
     "output_type": "display_data"
    },
    {
     "data": {
      "text/plain": [
       "[<Element 'price' at 0x000001AFDA284E00>,\n",
       " <Element 'weight' at 0x000001AFEB799760>,\n",
       " <Element 'class' at 0x000001AFEB7997B0>]"
      ]
     },
     "metadata": {},
     "output_type": "display_data"
    }
   ],
   "source": [
    "price1 = ET.SubElement(dish1, \"price\").text = \"40\"\n",
    "weight1 = ET.SubElement(dish1, \"weight\").text = \"300\"\n",
    "class1 = ET.SubElement(dish1, \"class\").text = \"Мясо\"\n",
    "display(list(dish1))\n",
    "\n",
    "price2 = ET.SubElement(dish2, \"price\").text = \"20\"\n",
    "weight2 = ET.SubElement(dish2, \"weight\").text = \"200\"\n",
    "class2 = ET.SubElement(dish2, \"class\").text = \"Крупа\"\n",
    "display(list(dish2))"
   ]
  },
  {
   "cell_type": "code",
   "execution_count": 19,
   "metadata": {},
   "outputs": [
    {
     "name": "stdout",
     "output_type": "stream",
     "text": [
      "Кура price 40\n",
      "Кура weight 300\n",
      "Кура class Мясо\n",
      "\n",
      "Греча price 20\n",
      "Греча weight 200\n",
      "Греча class Крупа\n",
      "\n"
     ]
    }
   ],
   "source": [
    "#Проверим визуально корректность созданной нами структуры, выполнив фрагмент кода, разработанного ранее:\n",
    "\n",
    "for dish in new_root:    \n",
    "    for param in dish:\n",
    "        print(dish.attrib['name'], param.tag, param.text)\n",
    "    print()"
   ]
  },
  {
   "cell_type": "markdown",
   "metadata": {},
   "source": [
    "## <center> Сохранение XML файла <center>"
   ]
  },
  {
   "cell_type": "code",
   "execution_count": 20,
   "metadata": {},
   "outputs": [],
   "source": [
    "# Преобразуем созданный нами объект типа ElementTree.Element в строку c помощью метода tostring(),\n",
    "# передав наше новое дерево как аргумент. Сохраним эту строку на диске, используя стандартные средства Python::\n",
    "\n",
    "new_root_string = ET.tostring(new_root)\n",
    "\n",
    "with open(\"new_menu.xml\", \"wb\") as f:\n",
    "    f.write(new_root_string)\n",
    "\n",
    "#Возможно, вы увидите проблему, связанную с кодировкой. Что делать в этом случае? Как вариант — записать файл, используя сам класс ElementTree() :\n",
    "\n",
    "ET.ElementTree(new_root).write('new_menu_good.xml', encoding=\"utf-8\")\n",
    "#Для этого мы передаём в класс ElementTree() наше дерево (не его строковое представление) и вызываем метод write().\n",
    "# В метод мы передаём путь к новому файлу и нужную нам кодировку."
   ]
  }
 ],
 "metadata": {
  "kernelspec": {
   "display_name": "Python 3",
   "language": "python",
   "name": "python3"
  },
  "language_info": {
   "codemirror_mode": {
    "name": "ipython",
    "version": 3
   },
   "file_extension": ".py",
   "mimetype": "text/x-python",
   "name": "python",
   "nbconvert_exporter": "python",
   "pygments_lexer": "ipython3",
   "version": "3.13.1"
  }
 },
 "nbformat": 4,
 "nbformat_minor": 2
}
